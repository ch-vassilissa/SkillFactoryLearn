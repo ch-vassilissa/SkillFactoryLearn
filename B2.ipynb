{
 "cells": [
  {
   "cell_type": "markdown",
   "metadata": {},
   "source": [
    "# 1. Числовые типы данных"
   ]
  },
  {
   "cell_type": "markdown",
   "metadata": {},
   "source": [
    "## 1.1 Int"
   ]
  },
  {
   "cell_type": "code",
   "execution_count": 19,
   "metadata": {},
   "outputs": [
    {
     "name": "stdin",
     "output_type": "stream",
     "text": [
      " 1\n",
      " 10\n"
     ]
    },
    {
     "name": "stdout",
     "output_type": "stream",
     "text": [
      "11\n"
     ]
    }
   ],
   "source": [
    "a = 4\n",
    "b = 13 \n",
    "c = -30\n",
    "\n",
    "# Сумма чисел\n",
    "s = a+b\n",
    "\n",
    "# Разность\n",
    "s = a-b\n",
    "\n",
    "# Произведение\n",
    "s = a*b\n",
    "\n",
    "# Деление нацело\n",
    "s = b // a\n",
    "\n",
    "# Остаток от деления\n",
    "o = b % a\n",
    "\n",
    "# Модуль\n",
    "abs(c)\n",
    "\n",
    "# Преобразование к int\n",
    "d = int(\"1\")\n",
    "\n",
    "# Возведение в степень\n",
    "s = b ** a\n",
    "\n",
    "# Ввод чисел пользователем\n",
    "a = int(input())\n",
    "b = int(input())\n",
    "print(a+b)"
   ]
  },
  {
   "cell_type": "markdown",
   "metadata": {},
   "source": [
    "## 1.2 Float"
   ]
  },
  {
   "cell_type": "code",
   "execution_count": 20,
   "metadata": {},
   "outputs": [
    {
     "name": "stdout",
     "output_type": "stream",
     "text": [
      "0.27906976744186046\n"
     ]
    }
   ],
   "source": [
    "a = 1.123\n",
    "b = float(\"1.23\")\n",
    "c = 1.23213e4\n",
    "c = 1.23213 * 10**4\n",
    "\n",
    "# Деление\n",
    "c = 12/43\n",
    "print(c)\n",
    "\n",
    "# Округление\n"
   ]
  },
  {
   "cell_type": "code",
   "execution_count": 31,
   "metadata": {},
   "outputs": [
    {
     "data": {
      "text/plain": [
       "22"
      ]
     },
     "execution_count": 31,
     "metadata": {},
     "output_type": "execute_result"
    }
   ],
   "source": [
    "import math\n",
    "math.floor(c)\n",
    "math.ceil(c)\n",
    "b = 21.632424\n",
    "round(b)"
   ]
  },
  {
   "cell_type": "markdown",
   "metadata": {},
   "source": [
    "## 1.3 *Комплексные числа, Decimal и Fraction"
   ]
  },
  {
   "cell_type": "code",
   "execution_count": 43,
   "metadata": {},
   "outputs": [
    {
     "data": {
      "text/plain": [
       "True"
      ]
     },
     "execution_count": 43,
     "metadata": {},
     "output_type": "execute_result"
    }
   ],
   "source": [
    "a = 0.1\n",
    "b = 0.2\n",
    "epsilon = 1e-5\n",
    "abs(a+b - 0.3) < epsilon"
   ]
  },
  {
   "cell_type": "code",
   "execution_count": 40,
   "metadata": {},
   "outputs": [
    {
     "name": "stdout",
     "output_type": "stream",
     "text": [
      "1.100000000000000088817841970012523233890533447265625\n"
     ]
    }
   ],
   "source": [
    "# Комплексные числа\n",
    "a = 1 + 3j\n",
    "\n",
    "# Числа повышенной точности\n",
    "from decimal import *\n",
    "\n",
    "# Установка точности\n",
    "getcontext().prec = 100\n",
    "\n",
    "# Создание переменной\n",
    "print(Decimal(1.1))\n",
    "\n",
    "\n",
    "# Рациональные числа\n",
    "from fractions import Fraction\n",
    "\n",
    "# Создание числа"
   ]
  },
  {
   "cell_type": "markdown",
   "metadata": {},
   "source": [
    "# 2. Булевые типы данных"
   ]
  },
  {
   "cell_type": "code",
   "execution_count": 54,
   "metadata": {},
   "outputs": [
    {
     "name": "stdout",
     "output_type": "stream",
     "text": [
      "False\n",
      "True\n"
     ]
    },
    {
     "data": {
      "text/plain": [
       "True"
      ]
     },
     "execution_count": 54,
     "metadata": {},
     "output_type": "execute_result"
    }
   ],
   "source": [
    "# Объявление\n",
    "a = True\n",
    "b = False\n",
    "\n",
    "# Использование\n",
    "if b:\n",
    "    print(\"Privet\")\n",
    "\n",
    "print( 0.1 > 2)\n",
    "print( a == a )\n",
    "\n",
    "# Приведение\n",
    "bool(20)"
   ]
  },
  {
   "cell_type": "code",
   "execution_count": 55,
   "metadata": {},
   "outputs": [
    {
     "name": "stdout",
     "output_type": "stream",
     "text": [
      "True\n"
     ]
    }
   ],
   "source": [
    "a = None\n",
    "print(a == None)"
   ]
  },
  {
   "cell_type": "markdown",
   "metadata": {},
   "source": [
    "# 3. Строковые типы данных "
   ]
  },
  {
   "cell_type": "code",
   "execution_count": 1,
   "metadata": {},
   "outputs": [
    {
     "name": "stdout",
     "output_type": "stream",
     "text": [
      "\n",
      "Много\n",
      "Строк\n",
      "\n",
      "Привет мир, я \n",
      "в\n",
      "0\n",
      "Начало Конец\n",
      "egor\n",
      "EGOR\n",
      "Egor Zakutei\n",
      "egor - zakutei\n",
      "['10', '3', '40', '15', '14', '81']\n",
      "['10', 'строка', 'с пояснением']\n",
      "False\n",
      "False\n",
      "строка-еще строкa-сколько-угодно строк\n",
      "12\n"
     ]
    }
   ],
   "source": [
    "# Присваивание строк\n",
    "a = \"123 abc ..< , \"\n",
    "\n",
    "p = \"\"\n",
    "\n",
    "# Разные кавычки\n",
    "b = '123 abc'\n",
    "\n",
    "c = \"a'b\"\n",
    "b = 'a\"b'\n",
    "a = \"строка 1 \" \" строка 2\"\n",
    "a = \"Строка \\nНовая\"\n",
    "a = \"кавычки \\\" кавычки \\' \"\n",
    "\n",
    "# Тройные кавычки\n",
    "a = '''\n",
    "Много\n",
    "Строк\n",
    "'''\n",
    "print(a)\n",
    "\n",
    "# Срезы\n",
    "a = \"Привет мир, я строка\"\n",
    "print(a[:-6])\n",
    "\n",
    "# Символ\n",
    "print(a[3])\n",
    "\n",
    "# Длина строки\n",
    "l = len(p)\n",
    "print(l)\n",
    "\n",
    "# Соединение строк\n",
    "a = \"Начало\"\n",
    "b = \"Конец\"\n",
    "s = a+\" \"+b\n",
    "print(s)\n",
    "# Метод strip()\n",
    "data = \"-+Egor-+-\"\n",
    "data = (data.strip(\"-+\"))\n",
    "\n",
    "# Изменение регистра\n",
    "print(data.lower())\n",
    "print(data.upper())\n",
    "pr = \"egor zakutei\"\n",
    "print(pr.title())\n",
    "\n",
    "# Заменя подстрок\n",
    "print(pr.replace(\" \", \" - \"))\n",
    "\n",
    "# Разбиение строки\n",
    "st = \"10-3-40-15-14-81\"\n",
    "print(st.split(\"-\"))\n",
    "\n",
    "st = \"10 строка с пояснением\"\n",
    "print(st.split(\" \",2))\n",
    "\n",
    "# Проверка наличия подстроки\n",
    "print(\"pока\" in st)\n",
    "\n",
    "# startswith и endswith\n",
    "print(st.startswith(\"100\"))\n",
    "\n",
    "# join\n",
    "a = [\"строка\",  \"еще строкa\" , \"сколько-угодно строк\"]\n",
    "print(\"-\".join(a))\n",
    "\n",
    "# Поиск подстроки\n",
    "print(st.index(\"пояснением\"))\n"
   ]
  },
  {
   "cell_type": "code",
   "execution_count": 3,
   "metadata": {},
   "outputs": [
    {
     "name": "stdout",
     "output_type": "stream",
     "text": [
      "Привет мир, я строк\n"
     ]
    }
   ],
   "source": [
    "a = \"Привет мир, я строка\"\n",
    "print(a[:-1])\n"
   ]
  },
  {
   "cell_type": "markdown",
   "metadata": {},
   "source": [
    "# 4. Списки и кортежи"
   ]
  },
  {
   "cell_type": "code",
   "execution_count": null,
   "metadata": {},
   "outputs": [],
   "source": [
    "# Создание списка\n",
    "# Пустой список\n",
    "a1 = []\n",
    "\n",
    "# Наполняем список\n",
    "a2 = [1, 2, 3]\n",
    "\n",
    "# Список из десяти одинаковых элементов\n",
    "a3 = [1] * 10\n",
    "# print(a3)\n",
    "\n",
    "# С помощью функции list каждый символ выделяется в элемент списка\n",
    "a4 = list(\"строка\")\n",
    " print(a4)\n",
    "\n",
    "# Добавление элементов\n",
    "# Один элемент\n",
    " a1.append(1)\n",
    "\n",
    "# Список из элементов\n",
    "a1.extend([1,2,3])\n",
    "\n",
    "# Копирование списка\n",
    "a1_1 = a1.copy()\n",
    "# print(a1_1)\n",
    "\n",
    "# Подсчет вхождений элемента в скобке\n",
    "a1.count(1)\n",
    "\n",
    "# Возвращает индекс элемента 1\n",
    "a1.index(1)\n",
    "\n",
    "# Вставка элемента 4 на позицию 1\n",
    "a1.insert(1, 4)\n",
    "# print(a1)\n",
    "\n",
    "# Удаление элемента на позиции 3\n",
    "print(a1)\n",
    "# el = a1.pop(0)\n",
    "# print(el)\n",
    "# print(a1)\n",
    "# print(a1)\n",
    "\n",
    "# Сортировка списка\n",
    "# a1.sort()\n",
    "# print(a1)\n",
    "\n",
    "# Срезы\n",
    "a1_2 = a1[::-1]\n",
    "print(a1_2)\n",
    "# Элементы с конца\n",
    "# print(a1[-1])\n",
    "\n",
    "# Длина списка\n",
    "print(len(a1))\n",
    "\n",
    "# Соединение двух списков\n",
    "a_new = a2+a3\n",
    "\n",
    "# Создание кортежа\n",
    "k = (1, 4, 2)\n",
    "k = tuple(a1)\n",
    "print(k)"
   ]
  },
  {
   "cell_type": "code",
   "execution_count": 119,
   "metadata": {},
   "outputs": [
    {
     "data": {
      "text/plain": [
       "[]"
      ]
     },
     "execution_count": 119,
     "metadata": {},
     "output_type": "execute_result"
    }
   ],
   "source": [
    "a = [1,2,3,4,5,6,7,8,9,10]\n",
    "a[2:5:-1]"
   ]
  },
  {
   "cell_type": "code",
   "execution_count": null,
   "metadata": {},
   "outputs": [],
   "source": [
    "a4 = list(\"строка\")\n",
    " print(a4)"
   ]
  },
  {
   "cell_type": "code",
   "execution_count": null,
   "metadata": {},
   "outputs": [],
   "source": [
    "a4 = list(\"строка\")\n",
    "a4"
   ]
  },
  {
   "cell_type": "code",
   "execution_count": null,
   "metadata": {},
   "outputs": [],
   "source": [
    "b1[3].append(2)\n",
    "b1[5]"
   ]
  },
  {
   "cell_type": "code",
   "execution_count": 1,
   "metadata": {},
   "outputs": [
    {
     "name": "stdout",
     "output_type": "stream",
     "text": [
      "[2, 2, 2, 2]\n",
      "0\n",
      "1\n"
     ]
    }
   ],
   "source": [
    "a1 = [1, 2, 3, 4, 5, 6]\n",
    "a1_1 = [2,2,2,2]\n",
    "print(a1_1)\n",
    "print(a1_1.count(1))\n",
    "a1_1 = a1.copy()\n",
    "print(a1.count(1))"
   ]
  },
  {
   "cell_type": "code",
   "execution_count": null,
   "metadata": {},
   "outputs": [],
   "source": []
  },
  {
   "cell_type": "markdown",
   "metadata": {},
   "source": [
    "## Задача 4.1\n",
    "Для выдачи посылок на почте реализована электронная **очередь**  \n",
    "Есть два типа **событий**  \n",
    "1. В конец очереди пришел человек с именем `name`\n",
    "2. Мы выдали посылку 1-му человеку в очереди  \n",
    "\n",
    "События представлены **списком строк**  \n",
    "Если строка `\"-\"` - событие типа **2**  \n",
    "В другом случае это событие типа **1**, и строка является **именем человека** \n",
    "\n",
    "После события 2 нужно выводить  \n",
    "1. **Какому** человеку мы выдали посылку\n",
    "2. **Сколько** человек осталось в очереди"
   ]
  },
  {
   "cell_type": "code",
   "execution_count": 93,
   "metadata": {},
   "outputs": [
    {
     "name": "stdout",
     "output_type": "stream",
     "text": [
      "Current name: Anna , remains: 5\n",
      "Current name: Vlad , remains: 4\n",
      "Current name: Denis , remains: 3\n",
      "Current name: Stepan , remains: 2\n",
      "Current name: Vera , remains: 1\n",
      "Current name: Arina , remains: 0\n"
     ]
    }
   ],
   "source": [
    "events = [\"Anna\", \"Vlad\", \"Denis\", \"-\", \"Stepan\", \"-\", \"Vera\", \"-\", \"-\", \"Arina\", \"-\", \"-\"]\n",
    "\n",
    "events_name = []\n",
    "a = 0\n",
    "while a < len(events):\n",
    "    if events[a] != \"-\":\n",
    "        events_name.append(events[a])\n",
    "    a = a + 1\n",
    "for b in events:\n",
    "    if b != \"-\":\n",
    "        Current_name = events_name.pop(0)\n",
    "        remains = len(events_name)\n",
    "        print(\"Current name: \"+ str(Current_name)+' , remains: '+ str(remains))"
   ]
  },
  {
   "cell_type": "markdown",
   "metadata": {},
   "source": [
    "### 5. Словари"
   ]
  },
  {
   "cell_type": "code",
   "execution_count": null,
   "metadata": {},
   "outputs": [],
   "source": [
    "# Создание пустого словаря\n",
    "d = dict()\n",
    "d1 = {}\n",
    "# Создание словаря с разными значениями\n",
    "d2 = {\n",
    "    \"Field\" : \"Value\",\n",
    "    \"Fiel3\" : \"Value\",\n",
    "    \"Fiel2\" : \"Value\"\n",
    "}\n",
    "\n",
    "# Создание словаря с разными ключами, но одним значением\n",
    "d3 = dict.fromkeys((\"key1\",\"key2\"), \"value\")\n",
    "# print(d3)\n",
    "# Получение значения по ключу\n",
    "# print(d3[\"key1\"])\n",
    "\n",
    "# Методы items, values и keys\n",
    "# Список пар ключ-значение\n",
    "for key, value in d3.items():\n",
    "    print(key,value)\n",
    "\n",
    "# Список ключей\n",
    "# print(list(d3.keys()))\n",
    "\n",
    "# Список значнией\n",
    "# print(d3.values())\n",
    "\n",
    "# Удаление элемента\n",
    "d3.pop(\"key1\")\n",
    "print(d3)\n",
    "# update - добваление словаря\n",
    "d3.update({\n",
    "    \"Field\" : \"Value\",\n",
    "    \"Fiel3\" : \"Value\",\n",
    "    \"Fiel2\" : \"Value\"\n",
    "})\n",
    "d3[\"new_key\"] = 1000\n",
    "print(d3)\n",
    "# print(d3[\"not exists\"])\n",
    "# setdefault - если ключ есть, то просто значние по этому ключу\n",
    "# Если нет - значение по-умолчанию\n",
    "print(d3.setdefault(\"Field10\", \"default\"))"
   ]
  },
  {
   "cell_type": "code",
   "execution_count": 95,
   "metadata": {},
   "outputs": [
    {
     "name": "stdout",
     "output_type": "stream",
     "text": [
      "Value\n"
     ]
    }
   ],
   "source": [
    "d3 ={\n",
    "    \"Field\" : \"Value\",\n",
    "    \"Fiel3\" : \"Value\",\n",
    "    \"Fiel2\" : \"Value\"\n",
    "}\n",
    "print(d3.setdefault(\"Field\", \"default\"))"
   ]
  },
  {
   "cell_type": "code",
   "execution_count": null,
   "metadata": {},
   "outputs": [],
   "source": [
    "sp = [\n",
    "    (1 , [1,2]),\n",
    "    (\"key1\", \"строка\"), \n",
    "    (2, 10)\n",
    "]\n",
    "key = 2\n",
    "for s in sp:\n",
    "    if key == s[0]:\n",
    "        print(s[1])"
   ]
  },
  {
   "cell_type": "markdown",
   "metadata": {},
   "source": [
    "# 6. defaultdict и Сounter"
   ]
  },
  {
   "cell_type": "code",
   "execution_count": 10,
   "metadata": {},
   "outputs": [
    {
     "name": "stdout",
     "output_type": "stream",
     "text": [
      "10\n",
      "Counter({4: 4, 1: 3, 2: 2, 3: 1})\n"
     ]
    }
   ],
   "source": [
    "# defaultdictс - словарь, со значением по умолчанию\n",
    "from collections import defaultdict\n",
    "\n",
    "# Создание\n",
    "# В скобках это тип значений\n",
    "d4 = defaultdict(list)\n",
    "# Запросим значние по ключу, которого нет\n",
    "# print(d4[\"keykey\"])\n",
    "\n",
    "# counter - defaultdict(int)\n",
    "from collections import Counter\n",
    "# Создание\n",
    "d5 = Counter()\n",
    "# print(d5[\"key\"])\n",
    "\n",
    "# Можем прибавлять к значению по ключу\n",
    "d5[\"key\"] += 10\n",
    "print(d5[\"key\"])\n",
    "\n",
    "# Создание счетчика, который считает вхождение в список каждого элемента\n",
    "a = [1,1,1,2,2,3,4,4,4,4]\n",
    "d6 = Counter(a)\n",
    "print(d6)"
   ]
  },
  {
   "cell_type": "code",
   "execution_count": 3,
   "metadata": {},
   "outputs": [
    {
     "name": "stdout",
     "output_type": "stream",
     "text": [
      "[]\n"
     ]
    }
   ],
   "source": [
    "from collections import defaultdict\n",
    "\n",
    "# Создание\n",
    "# В скобках это тип значений\n",
    "d4 = defaultdict(list)\n",
    "# Запросим значние по ключу, которого нет\n",
    "print(d4[\"keykey\"])"
   ]
  },
  {
   "cell_type": "code",
   "execution_count": 150,
   "metadata": {},
   "outputs": [
    {
     "data": {
      "text/plain": [
       "[(1, 4), (4, 3)]"
      ]
     },
     "execution_count": 150,
     "metadata": {},
     "output_type": "execute_result"
    }
   ],
   "source": [
    "a = [1,1,1,1,2,2,4,4,4,5]\n",
    "cnt = Counter(a)\n",
    "cnt.most_common(2)"
   ]
  },
  {
   "cell_type": "markdown",
   "metadata": {},
   "source": [
    "## Задача 6.1\n",
    "На почте есть таблица с **двумя колонками**: **имя** человека и **номер** посылки, которую ему нужно выдать  \n",
    "Таблица представлена в виде **списка пар** (имя человека-номер посылки)  \n",
    "Нужно создать **список из номеров посылок**, которые нужно этим людям выдать  \n",
    "* У каждого человека **по одной** посылке  \n",
    "* У каждого человека может быть **по несколько** посылок"
   ]
  },
  {
   "cell_type": "code",
   "execution_count": 8,
   "metadata": {},
   "outputs": [
    {
     "name": "stdout",
     "output_type": "stream",
     "text": [
      "{'Anna': 5, 'Vlad': 13, 'Denis': 1, 'Stepan': 43, 'Vera': 33, 'Arina': 15}\n",
      "43\n",
      "1\n",
      "5\n"
     ]
    }
   ],
   "source": [
    "#вариант 1 У каждого человека по одной посылке\n",
    "table = [\n",
    "    (\"Anna\", 5),\n",
    "    (\"Vlad\", 13),\n",
    "    (\"Denis\", 1),\n",
    "    (\"Stepan\", 43),\n",
    "    (\"Vera\", 33),\n",
    "    (\"Vlad\", 13),\n",
    "    (\"Denis\", 1),\n",
    "    (\"Stepan\", 43),\n",
    "    (\"Arina\", 15)\n",
    "]\n",
    "\n",
    "queue = [\"Stepan\", \"Denis\" , \"Anna\"]\n",
    "q = {}\n",
    "for i in table:\n",
    "    q[i[0]] = i[1]\n",
    "    \n",
    "print(q)\n",
    "\n",
    "for b in queue:\n",
    "    print(q[b])\n"
   ]
  },
  {
   "cell_type": "code",
   "execution_count": 73,
   "metadata": {},
   "outputs": [
    {
     "name": "stdout",
     "output_type": "stream",
     "text": [
      "{'Anna': [5], 'Vlad': [13, 13], 'Denis': [1, 1], 'Stepan': [43, 43], 'Vera': [33], 'Arina': [15]}\n",
      "Stepan [43, 43]\n",
      "Denis [1, 1]\n",
      "Anna [5]\n"
     ]
    }
   ],
   "source": [
    "#вариант 2-1 У каждого человека может быть по несколько посылок\n",
    "from collections import Counter\n",
    "table = [\n",
    "    (\"Anna\", 5),\n",
    "    (\"Vlad\", 13),\n",
    "    (\"Denis\", 1),\n",
    "    (\"Stepan\", 43),\n",
    "    (\"Vera\", 33),\n",
    "    (\"Vlad\", 13),\n",
    "    (\"Denis\", 1),\n",
    "    (\"Stepan\", 43),\n",
    "    (\"Arina\", 15)\n",
    "]\n",
    "\n",
    "queue = [\"Stepan\", \"Denis\" , \"Anna\"]\n",
    "q = {}\n",
    "cnt = Counter(table) \n",
    "# print(cnt)\n",
    "for i in table:\n",
    "    list_pas = []\n",
    "    col_pas = int(cnt[i])\n",
    "    number_pas = int(i[1])\n",
    "#     print (i[0],number_pas, col_pas)\n",
    "    j = 1\n",
    "    q[i[0]] = []\n",
    "    while j <= col_pas:\n",
    "        list_pas.append(number_pas)\n",
    "        j += 1\n",
    "#     print(list_pas)\n",
    "    q[i[0]] = list_pas\n",
    "print(q)\n",
    "\n",
    "for b in queue:\n",
    "    print(b,q[b])"
   ]
  },
  {
   "cell_type": "code",
   "execution_count": 74,
   "metadata": {},
   "outputs": [
    {
     "name": "stdout",
     "output_type": "stream",
     "text": [
      "{'Anna': [5, 1], 'Vlad': [13, 2], 'Denis': [1, 2], 'Stepan': [43, 2], 'Vera': [33, 1], 'Arina': [15, 1]}\n",
      "Stepan [43, 2]\n",
      "Denis [1, 2]\n",
      "Anna [5, 1]\n"
     ]
    }
   ],
   "source": [
    "#вариант 2-2 У каждого человека может быть по несколько посылок\n",
    "table = [\n",
    "    (\"Anna\", 5),\n",
    "    (\"Vlad\", 13),\n",
    "    (\"Denis\", 1),\n",
    "    (\"Stepan\", 43),\n",
    "    (\"Vera\", 33),\n",
    "    (\"Vlad\", 13),\n",
    "    (\"Denis\", 1),\n",
    "    (\"Stepan\", 43),\n",
    "    (\"Arina\", 15)\n",
    "]\n",
    "\n",
    "queue = [\"Stepan\", \"Denis\" , \"Anna\"]\n",
    "q = {}\n",
    "cnt = Counter(table) \n",
    "for i in table:\n",
    "    number_pas = int(i[1]) # номер посылки\n",
    "    col_pas = int(cnt[i]) # количество пасылок с number_pas\n",
    "    q[i[0]] = [number_pas,col_pas]\n",
    "print(q)\n",
    "for b in queue:\n",
    "    print(b,q[b])"
   ]
  },
  {
   "cell_type": "code",
   "execution_count": null,
   "metadata": {},
   "outputs": [],
   "source": [
    "Решение от ментора\n",
    "Добрый день!\n",
    "\n",
    "1. Случай когда считаем, что 1 человек -> 1 посылка: \n",
    "\n",
    "d = defaultdict(int)\n",
    "for i in table:\n",
    "    d[i[0]] = i[1]\n",
    "for q in queue:\n",
    "    print(d[q])\n",
    "    \n",
    "2.  1 человек -> несколько посылок:\n",
    "d = defaultdict(list)\n",
    "for i in table:\n",
    "    d[i[0]].append(i[1])\n",
    "for q in queue:\n",
    "    print(d[q])"
   ]
  },
  {
   "cell_type": "markdown",
   "metadata": {},
   "source": [
    "## Задача 6.2\n",
    "В банк приходят ***события** о том, что человек по имени `name` **снял** или **положил** какую-то сумму себе на счёт  \n",
    "Эти события представлены **списком из пар** (кортежей длины 2) `name`-`сумма`   \n",
    "Если сумма со знаком `-` , человек **снимает** деньги  \n",
    "**Изначально** у каждого человека на счёте `0`  \n",
    "1. Нужно вывести для каждого человека **сумму** у него **на счёте** после всех событий\n",
    "2. Вывести 2 **самых богатых** человека"
   ]
  },
  {
   "cell_type": "code",
   "execution_count": 89,
   "metadata": {},
   "outputs": [
    {
     "name": "stdout",
     "output_type": "stream",
     "text": [
      "{'Stepan': [19, -12, 41, -39], 'Anna': [26, 33, -10], 'Vlad': [16, -3, 139], 'Vera': [9, 99], 'Arina': [40, 15], 'Denis': [21, 99, -27]}\n",
      "{'Stepan': 9, 'Anna': 49, 'Vlad': 152, 'Vera': 108, 'Arina': 55, 'Denis': 93}\n",
      "['Vlad', 'Vera']\n"
     ]
    }
   ],
   "source": [
    "events = [\n",
    "    (\"Stepan\", 19),\n",
    "    (\"Anna\", 26),\n",
    "    (\"Vlad\", 16),\n",
    "    (\"Vera\", 9),\n",
    "    (\"Arina\", 40),\n",
    "    (\"Denis\", 21),\n",
    "    (\"Stepan\", -12),\n",
    "    (\"Vlad\", -3),\n",
    "    (\"Anna\", 33),\n",
    "    (\"Denis\", 99),\n",
    "    (\"Vera\", 99),\n",
    "    (\"Arina\", 15),\n",
    "    (\"Anna\", -10),\n",
    "    (\"Denis\", -27),\n",
    "    (\"Stepan\", 41),\n",
    "    (\"Vlad\", 139),\n",
    "    (\"Stepan\", -39),\n",
    "]\n",
    "\n",
    "q = {} #словарь с операциями\n",
    "oper_res = {} #словарь с результатами\n",
    "\n",
    "for i in events: #цикл создания словаря со значениями типа список\n",
    "    q[i[0]] = []\n",
    "\n",
    "for i in events: #цикл заполнения всеми операциями по каждому ключу\n",
    "    oper = int(i[1])\n",
    "    q[i[0]].append(oper)\n",
    "    oper_res[i[0]] = sum(q[i[0]])\n",
    "print(q)\n",
    "print(oper_res)\n",
    "print(sorted(oper_res, key=oper_res.get, reverse=True)[:2])"
   ]
  },
  {
   "cell_type": "markdown",
   "metadata": {},
   "source": [
    "# 7. Множества"
   ]
  },
  {
   "cell_type": "code",
   "execution_count": 159,
   "metadata": {},
   "outputs": [
    {
     "name": "stdout",
     "output_type": "stream",
     "text": [
      "{1, 2, 5}\n",
      "{1, 2, 10, 5}\n",
      "{1, 2, 10, 5}\n",
      "{1, 2, 20, 5}\n",
      "{10}\n",
      "True\n"
     ]
    }
   ],
   "source": [
    "# Создание set\n",
    "# Пустой\n",
    "A = set()\n",
    "\n",
    "# Из списка\n",
    "a1 = [1, 2, 5, 1, 2]\n",
    "A = set(a1)\n",
    "print(A)\n",
    "\n",
    "# Добавление \n",
    "A.add(10)\n",
    "print(A)\n",
    "\n",
    "A2 = set([1, 2, 5, 20])\n",
    "\n",
    "print(A)\n",
    "print(A2)\n",
    "# Разность множеств\n",
    "print(A.difference(A2))\n",
    "\n",
    "\n",
    "# Пересечение и объединение множеств\n",
    "A.union(A2)\n",
    "A.intersection(A2)\n",
    "\n",
    "# Проверка элемента в множестве\n",
    "print(2 in A)"
   ]
  },
  {
   "cell_type": "markdown",
   "metadata": {},
   "source": [
    "## Задача 7.1\n",
    "На нашем сайте можно **зарегистрировать учетную запись**   \n",
    "Каждой учетной записи соответсвует **уникальный логин**  \n",
    "На сайт приходят запросы о **попытке** зарегистрироваться с определенным **логином**  \n",
    "Если мы **можем** зарегистрировать пользователя (учетной записи с таким логином еще нет), то регистрируем  \n",
    "Представлены эти запросы в виде **списка строк** - логинов  \n",
    "1. Нам нужно для каждого запроса ответить, можем ли мы **зарегистрировать** пользователя с таким логином или нет\n",
    "2. Вывести логины **всех** зарегистрированых учетных записей"
   ]
  },
  {
   "cell_type": "code",
   "execution_count": 92,
   "metadata": {},
   "outputs": [
    {
     "name": "stdout",
     "output_type": "stream",
     "text": [
      "stepan11\n",
      "{'ivanova', 'vlad', 'anna2', 'arina', 'stepan11', 'stepan1', 'stepan', 'arina_ivanova', 'vlad_ivanov', 'stepan15', 'anna'}\n"
     ]
    }
   ],
   "source": [
    "q = [\n",
    "    \"stepan\",\n",
    "    \"anna\",\n",
    "    \"ivanova\",\n",
    "    \"anna\",\n",
    "    \"stepan1\",\n",
    "    \"anna2\",\n",
    "    \"vlad\",\n",
    "    \"arina\",\n",
    "    \"ivanova\",\n",
    "    \"vlad_ivanov\",\n",
    "    \"stepan\",\n",
    "    \"arina\",\n",
    "    \"stepan15\",\n",
    "    \"ivanova\",\n",
    "    \"arina_ivanova\"\n",
    "]\n",
    "\n",
    "A = set(q)\n",
    "elem = input()\n",
    "if elem in A:\n",
    "    print(\"Повторный ввод\")\n",
    "else:\n",
    "    A.add(elem)\n",
    "print(A)"
   ]
  },
  {
   "cell_type": "code",
   "execution_count": null,
   "metadata": {},
   "outputs": [],
   "source": []
  }
 ],
 "metadata": {
  "kernelspec": {
   "display_name": "Python 3",
   "language": "python",
   "name": "python3"
  },
  "language_info": {
   "codemirror_mode": {
    "name": "ipython",
    "version": 3
   },
   "file_extension": ".py",
   "mimetype": "text/x-python",
   "name": "python",
   "nbconvert_exporter": "python",
   "pygments_lexer": "ipython3",
   "version": "3.8.5"
  }
 },
 "nbformat": 4,
 "nbformat_minor": 4
}
