{
 "cells": [
  {
   "cell_type": "markdown",
   "metadata": {
    "papermill": {
     "duration": 0.029718,
     "end_time": "2020-10-26T12:46:41.276296",
     "exception": false,
     "start_time": "2020-10-26T12:46:41.246578",
     "status": "completed"
    },
    "tags": []
   },
   "source": [
    "<img src=\"https://whatcar.vn/media/2018/09/car-lot-940x470.jpg\"/>"
   ]
  },
  {
   "cell_type": "markdown",
   "metadata": {},
   "source": [
    "<a id=\"section-one\"></a>\n",
    "# Задача\n",
    "\n",
    "Прогнозирование стоимости автомобиля по характеристикам\n",
    "\n",
    "Необходимо создать модель, которая будет предсказывать стоимость автомобиля по его характеристикам. Для оценки использовать метрику MAPE\n",
    "\n",
    "В данном ноутбуке мы загрузили датасет, который был подготовлен на предыдущих этапах. \n",
    "Также в этом проекте мы использовали:\n",
    "- 1этап:\n",
    "    Ноутбук, через который парсили https://www.kaggle.com/juliadeinego/sf-dst-car-price-prediction-super-parsers-data\n",
    "    Спарсенный датасет https://www.kaggle.com/juliadeinego/data-car-sales\n",
    "- 2 этап:\n",
    "    Ноутбук, в котором провели EDA https://www.kaggle.com/juliadeinego/sf-dst-car-price-prediction-super-parser-eda\n",
    "    Датасет, после EDA \n",
    "- 3 этап:\n",
    "    Ноутбук, в котором провели обучение https://www.kaggle.com/juliadeinego/sf-dst-car-price-prediction-super-parsers-ml"
   ]
  },
  {
   "cell_type": "code",
   "execution_count": 191,
   "metadata": {
    "_cell_guid": "b1076dfc-b9ad-4769-8c92-a6c4dae69d19",
    "_uuid": "8f2839f25d086af736a60e9eeb907d3b93b6e0e5",
    "execution": {
     "iopub.execute_input": "2022-01-02T18:33:46.630199Z",
     "iopub.status.busy": "2022-01-02T18:33:46.629644Z",
     "iopub.status.idle": "2022-01-02T18:33:47.828998Z",
     "shell.execute_reply": "2022-01-02T18:33:47.827953Z",
     "shell.execute_reply.started": "2022-01-02T18:33:46.63015Z"
    },
    "papermill": {
     "duration": 1.219772,
     "end_time": "2020-10-26T12:46:42.581597",
     "exception": false,
     "start_time": "2020-10-26T12:46:41.361825",
     "status": "completed"
    },
    "tags": []
   },
   "outputs": [],
   "source": [
    "import numpy as np # linear algebra\n",
    "import pandas as pd # data processing, CSV file I/O (e.g. pd.read_csv)\n",
    "import sys\n",
    "import ipywidgets\n",
    "from sklearn.model_selection import train_test_split\n",
    "from sklearn.model_selection import KFold, RandomizedSearchCV, GridSearchCV\n",
    "from tqdm.notebook import tqdm\n",
    "import matplotlib.pyplot as plt\n",
    "\n",
    "from catboost import CatBoostRegressor\n",
    "from catboost import cv, Pool\n",
    "\n",
    "from hyperopt import tpe, hp, fmin, STATUS_OK,Trials\n",
    "from hyperopt.pyll.base import scope\n",
    "from sklearn.model_selection import cross_val_score\n",
    "\n",
    "from sklearn.ensemble import RandomForestRegressor, BaggingRegressor, ExtraTreesRegressor\n",
    "from sklearn.ensemble import AdaBoostRegressor, GradientBoostingRegressor, StackingRegressor\n",
    "import xgboost as xgb\n",
    "\n",
    "from sklearn.tree import DecisionTreeRegressor\n",
    "\n",
    "from sklearn.linear_model import LinearRegression\n",
    "\n",
    "from sklearn.preprocessing import LabelEncoder, OneHotEncoder, StandardScaler, MinMaxScaler"
   ]
  },
  {
   "cell_type": "code",
   "execution_count": 134,
   "metadata": {},
   "outputs": [],
   "source": [
    "#!jupyter nbextension enable --py widgetsnbextension"
   ]
  },
  {
   "cell_type": "code",
   "execution_count": 135,
   "metadata": {
    "_kg_hide-input": true,
    "execution": {
     "iopub.execute_input": "2022-01-02T18:33:49.834581Z",
     "iopub.status.busy": "2022-01-02T18:33:49.833911Z",
     "iopub.status.idle": "2022-01-02T18:33:49.840297Z",
     "shell.execute_reply": "2022-01-02T18:33:49.839426Z",
     "shell.execute_reply.started": "2022-01-02T18:33:49.834538Z"
    },
    "papermill": {
     "duration": 0.040034,
     "end_time": "2020-10-26T12:46:42.650603",
     "exception": false,
     "start_time": "2020-10-26T12:46:42.610569",
     "status": "completed"
    },
    "tags": []
   },
   "outputs": [
    {
     "name": "stdout",
     "output_type": "stream",
     "text": [
      "Python       : 3.8.8 (default, Apr 13 2021, 15:08:03) [MSC v.1916 64 bit (AMD64)]\n",
      "Numpy        : 1.20.1\n"
     ]
    }
   ],
   "source": [
    "print('Python       :', sys.version.split('\\n')[0])\n",
    "print('Numpy        :', np.__version__)"
   ]
  },
  {
   "cell_type": "code",
   "execution_count": 136,
   "metadata": {
    "_kg_hide-input": true,
    "execution": {
     "iopub.execute_input": "2022-01-02T18:33:52.300502Z",
     "iopub.status.busy": "2022-01-02T18:33:52.299897Z",
     "iopub.status.idle": "2022-01-02T18:33:55.034386Z",
     "shell.execute_reply": "2022-01-02T18:33:55.033238Z",
     "shell.execute_reply.started": "2022-01-02T18:33:52.300437Z"
    },
    "papermill": {
     "duration": 5.172536,
     "end_time": "2020-10-26T12:46:47.852593",
     "exception": false,
     "start_time": "2020-10-26T12:46:42.680057",
     "status": "completed"
    },
    "tags": []
   },
   "outputs": [],
   "source": [
    "# зафиксируем версию пакетов, чтобы эксперименты были воспроизводимы:\n",
    "!pip freeze > requirements.txt"
   ]
  },
  {
   "cell_type": "code",
   "execution_count": 137,
   "metadata": {
    "execution": {
     "iopub.execute_input": "2022-01-02T18:33:56.826055Z",
     "iopub.status.busy": "2022-01-02T18:33:56.825725Z",
     "iopub.status.idle": "2022-01-02T18:33:56.830321Z",
     "shell.execute_reply": "2022-01-02T18:33:56.829301Z",
     "shell.execute_reply.started": "2022-01-02T18:33:56.826026Z"
    },
    "papermill": {
     "duration": 0.039842,
     "end_time": "2020-10-26T12:46:47.922434",
     "exception": false,
     "start_time": "2020-10-26T12:46:47.882592",
     "status": "completed"
    },
    "tags": []
   },
   "outputs": [],
   "source": [
    "# всегда фиксируйте RANDOM_SEED, чтобы ваши эксперименты были воспроизводимы!\n",
    "RANDOM_SEED = 42"
   ]
  },
  {
   "cell_type": "code",
   "execution_count": 138,
   "metadata": {
    "_kg_hide-input": true,
    "execution": {
     "iopub.execute_input": "2022-01-02T18:33:59.019331Z",
     "iopub.status.busy": "2022-01-02T18:33:59.018722Z",
     "iopub.status.idle": "2022-01-02T18:33:59.023644Z",
     "shell.execute_reply": "2022-01-02T18:33:59.02274Z",
     "shell.execute_reply.started": "2022-01-02T18:33:59.019295Z"
    }
   },
   "outputs": [],
   "source": [
    "def mape(y_true, y_pred):\n",
    "    return np.mean(np.abs((y_pred-y_true)/y_true))"
   ]
  },
  {
   "cell_type": "markdown",
   "metadata": {
    "papermill": {
     "duration": 0.028837,
     "end_time": "2020-10-26T12:46:47.981435",
     "exception": false,
     "start_time": "2020-10-26T12:46:47.952598",
     "status": "completed"
    },
    "tags": []
   },
   "source": [
    "# Setup"
   ]
  },
  {
   "cell_type": "code",
   "execution_count": 139,
   "metadata": {
    "execution": {
     "iopub.execute_input": "2022-01-02T18:34:02.2344Z",
     "iopub.status.busy": "2022-01-02T18:34:02.233814Z",
     "iopub.status.idle": "2022-01-02T18:34:02.238711Z",
     "shell.execute_reply": "2022-01-02T18:34:02.237784Z",
     "shell.execute_reply.started": "2022-01-02T18:34:02.234365Z"
    },
    "papermill": {
     "duration": 0.039969,
     "end_time": "2020-10-26T12:46:48.052728",
     "exception": false,
     "start_time": "2020-10-26T12:46:48.012759",
     "status": "completed"
    },
    "tags": []
   },
   "outputs": [],
   "source": [
    "VERSION    = 16\n",
    "#DIR_TRAIN  = '../input/parsing-all-moscow-auto-ru-09-09-2020/' # подключила к ноутбуку сет с пред шага\n",
    "#DIR_TEST   = '../input/sf-dst-car-price-prediction/'\n",
    "DIR_TRAIN = DIR_TEST = './data/' #на каггле исправить\n",
    "VAL_SIZE   = 0.20   # 20%"
   ]
  },
  {
   "cell_type": "markdown",
   "metadata": {
    "papermill": {
     "duration": 0.030254,
     "end_time": "2020-10-26T12:46:48.112586",
     "exception": false,
     "start_time": "2020-10-26T12:46:48.082332",
     "status": "completed"
    },
    "tags": []
   },
   "source": [
    "# Data"
   ]
  },
  {
   "cell_type": "code",
   "execution_count": 140,
   "metadata": {
    "execution": {
     "iopub.execute_input": "2022-01-02T18:34:04.520514Z",
     "iopub.status.busy": "2022-01-02T18:34:04.519813Z",
     "iopub.status.idle": "2022-01-02T18:34:05.316008Z",
     "shell.execute_reply": "2022-01-02T18:34:05.314784Z",
     "shell.execute_reply.started": "2022-01-02T18:34:04.520452Z"
    },
    "papermill": {
     "duration": 0.783211,
     "end_time": "2020-10-26T12:46:48.925418",
     "exception": false,
     "start_time": "2020-10-26T12:46:48.142207",
     "status": "completed"
    },
    "tags": []
   },
   "outputs": [
    {
     "name": "stderr",
     "output_type": "stream",
     "text": [
      "\"ls\" ­Ґ пў«пҐвбп ў­гваҐ­­Ґ© Ё«Ё ў­Ґи­Ґ©\n",
      "Є®¬ ­¤®©, ЁбЇ®«­пҐ¬®© Їа®Ја ¬¬®© Ё«Ё Ї ЄҐв­л¬ д ©«®¬.\n"
     ]
    }
   ],
   "source": [
    "!ls '../input'"
   ]
  },
  {
   "cell_type": "code",
   "execution_count": 141,
   "metadata": {
    "_cell_guid": "79c7e3d0-c299-4dcb-8224-4455121ee9b0",
    "_uuid": "d629ff2d2480ee46fbb7e2d37f6b5fab8052498a",
    "execution": {
     "iopub.execute_input": "2022-01-02T18:34:06.941195Z",
     "iopub.status.busy": "2022-01-02T18:34:06.940821Z",
     "iopub.status.idle": "2022-01-02T18:34:16.374315Z",
     "shell.execute_reply": "2022-01-02T18:34:16.373315Z",
     "shell.execute_reply.started": "2022-01-02T18:34:06.941159Z"
    },
    "papermill": {
     "duration": 13.16556,
     "end_time": "2020-10-26T12:47:02.12133",
     "exception": false,
     "start_time": "2020-10-26T12:46:48.95577",
     "status": "completed"
    },
    "tags": []
   },
   "outputs": [],
   "source": [
    "db_source = pd.read_csv(DIR_TRAIN+'cdf_auto.csv') # датасет для обучения модели\n",
    "# test = pd.read_csv(DIR_TEST+'test.csv') #на каггле исправить\n",
    "sample_submission = pd.read_csv(DIR_TEST+'sample_submission.csv')\n",
    "\n",
    "#Выбранные признаки в EDA\n",
    "data_columns = pd.read_csv(DIR_TRAIN+'cdf_auto_columns.csv') \n",
    "\n",
    "cat_cols = data_columns[data_columns.column_type == 'cat'].column_name.values.tolist()\n",
    "bin_cols = data_columns[data_columns.column_type == 'bin'].column_name.values.tolist()\n",
    "num_cols = data_columns[data_columns.column_type == 'num'].column_name.values.tolist()\n",
    "target_cols = data_columns[data_columns.column_type == 'target'].column_name.values.tolist()\n",
    "add_cols = data_columns[data_columns.column_type == 'add'].column_name.values.tolist()\n"
   ]
  },
  {
   "cell_type": "code",
   "execution_count": 142,
   "metadata": {},
   "outputs": [
    {
     "data": {
      "text/html": [
       "<div>\n",
       "<style scoped>\n",
       "    .dataframe tbody tr th:only-of-type {\n",
       "        vertical-align: middle;\n",
       "    }\n",
       "\n",
       "    .dataframe tbody tr th {\n",
       "        vertical-align: top;\n",
       "    }\n",
       "\n",
       "    .dataframe thead th {\n",
       "        text-align: right;\n",
       "    }\n",
       "</style>\n",
       "<table border=\"1\" class=\"dataframe\">\n",
       "  <thead>\n",
       "    <tr style=\"text-align: right;\">\n",
       "      <th></th>\n",
       "      <th>column_name</th>\n",
       "      <th>column_type</th>\n",
       "    </tr>\n",
       "  </thead>\n",
       "  <tbody>\n",
       "    <tr>\n",
       "      <th>0</th>\n",
       "      <td>description</td>\n",
       "      <td>num</td>\n",
       "    </tr>\n",
       "    <tr>\n",
       "      <th>1</th>\n",
       "      <td>enginePower</td>\n",
       "      <td>num</td>\n",
       "    </tr>\n",
       "    <tr>\n",
       "      <th>2</th>\n",
       "      <td>mileage</td>\n",
       "      <td>num</td>\n",
       "    </tr>\n",
       "    <tr>\n",
       "      <th>3</th>\n",
       "      <td>productionDate</td>\n",
       "      <td>num</td>\n",
       "    </tr>\n",
       "    <tr>\n",
       "      <th>4</th>\n",
       "      <td>mileage_per_age</td>\n",
       "      <td>num</td>\n",
       "    </tr>\n",
       "    <tr>\n",
       "      <th>5</th>\n",
       "      <td>time_bw_model_product</td>\n",
       "      <td>num</td>\n",
       "    </tr>\n",
       "    <tr>\n",
       "      <th>6</th>\n",
       "      <td>description_isD</td>\n",
       "      <td>bin</td>\n",
       "    </tr>\n",
       "    <tr>\n",
       "      <th>7</th>\n",
       "      <td>fuelType_isGE</td>\n",
       "      <td>bin</td>\n",
       "    </tr>\n",
       "    <tr>\n",
       "      <th>8</th>\n",
       "      <td>Руль</td>\n",
       "      <td>bin</td>\n",
       "    </tr>\n",
       "    <tr>\n",
       "      <th>9</th>\n",
       "      <td>bodyType</td>\n",
       "      <td>cat</td>\n",
       "    </tr>\n",
       "    <tr>\n",
       "      <th>10</th>\n",
       "      <td>brand</td>\n",
       "      <td>cat</td>\n",
       "    </tr>\n",
       "    <tr>\n",
       "      <th>11</th>\n",
       "      <td>color</td>\n",
       "      <td>cat</td>\n",
       "    </tr>\n",
       "    <tr>\n",
       "      <th>12</th>\n",
       "      <td>description_cut</td>\n",
       "      <td>cat</td>\n",
       "    </tr>\n",
       "    <tr>\n",
       "      <th>13</th>\n",
       "      <td>enginePower_cut</td>\n",
       "      <td>cat</td>\n",
       "    </tr>\n",
       "    <tr>\n",
       "      <th>14</th>\n",
       "      <td>fuelType</td>\n",
       "      <td>cat</td>\n",
       "    </tr>\n",
       "    <tr>\n",
       "      <th>15</th>\n",
       "      <td>mileage_cut</td>\n",
       "      <td>cat</td>\n",
       "    </tr>\n",
       "    <tr>\n",
       "      <th>16</th>\n",
       "      <td>model_name</td>\n",
       "      <td>cat</td>\n",
       "    </tr>\n",
       "    <tr>\n",
       "      <th>17</th>\n",
       "      <td>productionDate_cut</td>\n",
       "      <td>cat</td>\n",
       "    </tr>\n",
       "    <tr>\n",
       "      <th>18</th>\n",
       "      <td>vehicleTransmission</td>\n",
       "      <td>cat</td>\n",
       "    </tr>\n",
       "    <tr>\n",
       "      <th>19</th>\n",
       "      <td>Владельцы</td>\n",
       "      <td>cat</td>\n",
       "    </tr>\n",
       "    <tr>\n",
       "      <th>20</th>\n",
       "      <td>ПТС</td>\n",
       "      <td>cat</td>\n",
       "    </tr>\n",
       "    <tr>\n",
       "      <th>21</th>\n",
       "      <td>Привод</td>\n",
       "      <td>cat</td>\n",
       "    </tr>\n",
       "    <tr>\n",
       "      <th>22</th>\n",
       "      <td>Состояние</td>\n",
       "      <td>cat</td>\n",
       "    </tr>\n",
       "    <tr>\n",
       "      <th>23</th>\n",
       "      <td>Таможня</td>\n",
       "      <td>cat</td>\n",
       "    </tr>\n",
       "    <tr>\n",
       "      <th>24</th>\n",
       "      <td>top2_bodyType</td>\n",
       "      <td>cat</td>\n",
       "    </tr>\n",
       "    <tr>\n",
       "      <th>25</th>\n",
       "      <td>rare_bodyType</td>\n",
       "      <td>cat</td>\n",
       "    </tr>\n",
       "    <tr>\n",
       "      <th>26</th>\n",
       "      <td>top5_colors</td>\n",
       "      <td>cat</td>\n",
       "    </tr>\n",
       "    <tr>\n",
       "      <th>27</th>\n",
       "      <td>rare_colors</td>\n",
       "      <td>cat</td>\n",
       "    </tr>\n",
       "    <tr>\n",
       "      <th>28</th>\n",
       "      <td>train</td>\n",
       "      <td>add</td>\n",
       "    </tr>\n",
       "    <tr>\n",
       "      <th>29</th>\n",
       "      <td>new_data</td>\n",
       "      <td>add</td>\n",
       "    </tr>\n",
       "    <tr>\n",
       "      <th>30</th>\n",
       "      <td>parsing_date</td>\n",
       "      <td>add</td>\n",
       "    </tr>\n",
       "    <tr>\n",
       "      <th>31</th>\n",
       "      <td>price</td>\n",
       "      <td>target</td>\n",
       "    </tr>\n",
       "  </tbody>\n",
       "</table>\n",
       "</div>"
      ],
      "text/plain": [
       "              column_name column_type\n",
       "0             description         num\n",
       "1             enginePower         num\n",
       "2                 mileage         num\n",
       "3          productionDate         num\n",
       "4         mileage_per_age         num\n",
       "5   time_bw_model_product         num\n",
       "6         description_isD         bin\n",
       "7           fuelType_isGE         bin\n",
       "8                    Руль         bin\n",
       "9                bodyType         cat\n",
       "10                  brand         cat\n",
       "11                  color         cat\n",
       "12        description_cut         cat\n",
       "13        enginePower_cut         cat\n",
       "14               fuelType         cat\n",
       "15            mileage_cut         cat\n",
       "16             model_name         cat\n",
       "17     productionDate_cut         cat\n",
       "18    vehicleTransmission         cat\n",
       "19              Владельцы         cat\n",
       "20                    ПТС         cat\n",
       "21                 Привод         cat\n",
       "22              Состояние         cat\n",
       "23                Таможня         cat\n",
       "24          top2_bodyType         cat\n",
       "25          rare_bodyType         cat\n",
       "26            top5_colors         cat\n",
       "27            rare_colors         cat\n",
       "28                  train         add\n",
       "29               new_data         add\n",
       "30           parsing_date         add\n",
       "31                  price      target"
      ]
     },
     "execution_count": 142,
     "metadata": {},
     "output_type": "execute_result"
    }
   ],
   "source": [
    "data_columns"
   ]
  },
  {
   "cell_type": "code",
   "execution_count": 143,
   "metadata": {
    "execution": {
     "iopub.execute_input": "2022-01-02T18:33:30.48768Z",
     "iopub.status.busy": "2022-01-02T18:33:30.486487Z",
     "iopub.status.idle": "2022-01-02T18:33:30.525091Z",
     "shell.execute_reply": "2022-01-02T18:33:30.523966Z",
     "shell.execute_reply.started": "2022-01-02T18:33:30.487618Z"
    }
   },
   "outputs": [
    {
     "name": "stdout",
     "output_type": "stream",
     "text": [
      "Трейн-данных:  133055\n",
      "Тест-данных:  34686\n"
     ]
    }
   ],
   "source": [
    "print(\"Трейн-данных: \", len(db_source[db_source.train == 1]))\n",
    "print(\"Тест-данных: \", len(db_source[db_source.train == 0]))\n",
    "#Трейн-данных:  133055\n",
    "#Тест-данных:  34686"
   ]
  },
  {
   "cell_type": "code",
   "execution_count": 144,
   "metadata": {},
   "outputs": [],
   "source": [
    "# датафрейм для сбора результатов по каждому экспериметну\n",
    "df_Result = pd.DataFrame(columns=['model', 'MAPE'])"
   ]
  },
  {
   "cell_type": "code",
   "execution_count": 145,
   "metadata": {},
   "outputs": [
    {
     "data": {
      "text/plain": [
       "32"
      ]
     },
     "execution_count": 145,
     "metadata": {},
     "output_type": "execute_result"
    }
   ],
   "source": [
    "len(db_source.columns)"
   ]
  },
  {
   "cell_type": "markdown",
   "metadata": {
    "papermill": {
     "duration": 0.033657,
     "end_time": "2020-10-26T12:47:03.29162",
     "exception": false,
     "start_time": "2020-10-26T12:47:03.257963",
     "status": "completed"
    },
    "tags": []
   },
   "source": [
    "## Label Encoding"
   ]
  },
  {
   "cell_type": "code",
   "execution_count": 146,
   "metadata": {
    "execution": {
     "iopub.execute_input": "2021-12-30T14:05:08.217961Z",
     "iopub.status.busy": "2021-12-30T14:05:08.217547Z",
     "iopub.status.idle": "2021-12-30T14:05:08.273647Z",
     "shell.execute_reply": "2021-12-30T14:05:08.272734Z",
     "shell.execute_reply.started": "2021-12-30T14:05:08.217923Z"
    },
    "papermill": {
     "duration": 0.10809,
     "end_time": "2020-10-26T12:47:03.549533",
     "exception": false,
     "start_time": "2020-10-26T12:47:03.441443",
     "status": "completed"
    },
    "tags": []
   },
   "outputs": [],
   "source": [
    "db_le = db_source.copy()\n",
    "for colum in cat_cols + bin_cols:\n",
    "    db_le[colum] = db_source[colum].astype('category').cat.codes\n",
    "# db_le = database_Label Encoding"
   ]
  },
  {
   "cell_type": "code",
   "execution_count": 147,
   "metadata": {
    "execution": {
     "iopub.execute_input": "2021-12-30T14:05:13.520446Z",
     "iopub.status.busy": "2021-12-30T14:05:13.520103Z",
     "iopub.status.idle": "2021-12-30T14:05:13.537554Z",
     "shell.execute_reply": "2021-12-30T14:05:13.536815Z",
     "shell.execute_reply.started": "2021-12-30T14:05:13.520416Z"
    },
    "papermill": {
     "duration": 0.06183,
     "end_time": "2020-10-26T12:47:03.646867",
     "exception": false,
     "start_time": "2020-10-26T12:47:03.585037",
     "status": "completed"
    },
    "tags": []
   },
   "outputs": [
    {
     "data": {
      "text/html": [
       "<div>\n",
       "<style scoped>\n",
       "    .dataframe tbody tr th:only-of-type {\n",
       "        vertical-align: middle;\n",
       "    }\n",
       "\n",
       "    .dataframe tbody tr th {\n",
       "        vertical-align: top;\n",
       "    }\n",
       "\n",
       "    .dataframe thead th {\n",
       "        text-align: right;\n",
       "    }\n",
       "</style>\n",
       "<table border=\"1\" class=\"dataframe\">\n",
       "  <thead>\n",
       "    <tr style=\"text-align: right;\">\n",
       "      <th></th>\n",
       "      <th>bodyType</th>\n",
       "      <th>brand</th>\n",
       "      <th>color</th>\n",
       "      <th>description</th>\n",
       "      <th>enginePower</th>\n",
       "      <th>fuelType</th>\n",
       "      <th>mileage</th>\n",
       "      <th>model_name</th>\n",
       "      <th>productionDate</th>\n",
       "      <th>vehicleTransmission</th>\n",
       "      <th>...</th>\n",
       "      <th>enginePower_cut</th>\n",
       "      <th>fuelType_isGE</th>\n",
       "      <th>mileage_cut</th>\n",
       "      <th>productionDate_cut</th>\n",
       "      <th>mileage_per_age</th>\n",
       "      <th>time_bw_model_product</th>\n",
       "      <th>top2_bodyType</th>\n",
       "      <th>rare_bodyType</th>\n",
       "      <th>top5_colors</th>\n",
       "      <th>rare_colors</th>\n",
       "    </tr>\n",
       "  </thead>\n",
       "  <tbody>\n",
       "    <tr>\n",
       "      <th>0</th>\n",
       "      <td>6</td>\n",
       "      <td>8</td>\n",
       "      <td>13</td>\n",
       "      <td>145</td>\n",
       "      <td>105.0</td>\n",
       "      <td>0</td>\n",
       "      <td>74000</td>\n",
       "      <td>480</td>\n",
       "      <td>2014.0</td>\n",
       "      <td>2</td>\n",
       "      <td>...</td>\n",
       "      <td>0</td>\n",
       "      <td>0</td>\n",
       "      <td>0</td>\n",
       "      <td>3</td>\n",
       "      <td>10571</td>\n",
       "      <td>1.0</td>\n",
       "      <td>0</td>\n",
       "      <td>0</td>\n",
       "      <td>1</td>\n",
       "      <td>0</td>\n",
       "    </tr>\n",
       "    <tr>\n",
       "      <th>1</th>\n",
       "      <td>6</td>\n",
       "      <td>8</td>\n",
       "      <td>15</td>\n",
       "      <td>357</td>\n",
       "      <td>110.0</td>\n",
       "      <td>0</td>\n",
       "      <td>60563</td>\n",
       "      <td>480</td>\n",
       "      <td>2017.0</td>\n",
       "      <td>1</td>\n",
       "      <td>...</td>\n",
       "      <td>0</td>\n",
       "      <td>0</td>\n",
       "      <td>0</td>\n",
       "      <td>3</td>\n",
       "      <td>15140</td>\n",
       "      <td>0.0</td>\n",
       "      <td>0</td>\n",
       "      <td>0</td>\n",
       "      <td>0</td>\n",
       "      <td>0</td>\n",
       "    </tr>\n",
       "    <tr>\n",
       "      <th>2</th>\n",
       "      <td>6</td>\n",
       "      <td>8</td>\n",
       "      <td>12</td>\n",
       "      <td>145</td>\n",
       "      <td>152.0</td>\n",
       "      <td>0</td>\n",
       "      <td>88000</td>\n",
       "      <td>692</td>\n",
       "      <td>2014.0</td>\n",
       "      <td>2</td>\n",
       "      <td>...</td>\n",
       "      <td>0</td>\n",
       "      <td>0</td>\n",
       "      <td>0</td>\n",
       "      <td>3</td>\n",
       "      <td>12571</td>\n",
       "      <td>1.0</td>\n",
       "      <td>0</td>\n",
       "      <td>0</td>\n",
       "      <td>1</td>\n",
       "      <td>0</td>\n",
       "    </tr>\n",
       "    <tr>\n",
       "      <th>3</th>\n",
       "      <td>6</td>\n",
       "      <td>8</td>\n",
       "      <td>6</td>\n",
       "      <td>238</td>\n",
       "      <td>110.0</td>\n",
       "      <td>0</td>\n",
       "      <td>95000</td>\n",
       "      <td>480</td>\n",
       "      <td>2014.0</td>\n",
       "      <td>0</td>\n",
       "      <td>...</td>\n",
       "      <td>0</td>\n",
       "      <td>0</td>\n",
       "      <td>0</td>\n",
       "      <td>3</td>\n",
       "      <td>13571</td>\n",
       "      <td>1.0</td>\n",
       "      <td>0</td>\n",
       "      <td>0</td>\n",
       "      <td>0</td>\n",
       "      <td>0</td>\n",
       "    </tr>\n",
       "    <tr>\n",
       "      <th>4</th>\n",
       "      <td>6</td>\n",
       "      <td>8</td>\n",
       "      <td>1</td>\n",
       "      <td>322</td>\n",
       "      <td>152.0</td>\n",
       "      <td>0</td>\n",
       "      <td>58536</td>\n",
       "      <td>480</td>\n",
       "      <td>2012.0</td>\n",
       "      <td>0</td>\n",
       "      <td>...</td>\n",
       "      <td>0</td>\n",
       "      <td>0</td>\n",
       "      <td>0</td>\n",
       "      <td>3</td>\n",
       "      <td>6504</td>\n",
       "      <td>4.0</td>\n",
       "      <td>0</td>\n",
       "      <td>0</td>\n",
       "      <td>1</td>\n",
       "      <td>0</td>\n",
       "    </tr>\n",
       "    <tr>\n",
       "      <th>...</th>\n",
       "      <td>...</td>\n",
       "      <td>...</td>\n",
       "      <td>...</td>\n",
       "      <td>...</td>\n",
       "      <td>...</td>\n",
       "      <td>...</td>\n",
       "      <td>...</td>\n",
       "      <td>...</td>\n",
       "      <td>...</td>\n",
       "      <td>...</td>\n",
       "      <td>...</td>\n",
       "      <td>...</td>\n",
       "      <td>...</td>\n",
       "      <td>...</td>\n",
       "      <td>...</td>\n",
       "      <td>...</td>\n",
       "      <td>...</td>\n",
       "      <td>...</td>\n",
       "      <td>...</td>\n",
       "      <td>...</td>\n",
       "      <td>...</td>\n",
       "    </tr>\n",
       "    <tr>\n",
       "      <th>167736</th>\n",
       "      <td>17</td>\n",
       "      <td>2</td>\n",
       "      <td>4</td>\n",
       "      <td>0</td>\n",
       "      <td>124.0</td>\n",
       "      <td>4</td>\n",
       "      <td>91000</td>\n",
       "      <td>270</td>\n",
       "      <td>2011.0</td>\n",
       "      <td>0</td>\n",
       "      <td>...</td>\n",
       "      <td>0</td>\n",
       "      <td>0</td>\n",
       "      <td>0</td>\n",
       "      <td>3</td>\n",
       "      <td>9100</td>\n",
       "      <td>4.0</td>\n",
       "      <td>0</td>\n",
       "      <td>0</td>\n",
       "      <td>0</td>\n",
       "      <td>0</td>\n",
       "    </tr>\n",
       "    <tr>\n",
       "      <th>167737</th>\n",
       "      <td>17</td>\n",
       "      <td>2</td>\n",
       "      <td>13</td>\n",
       "      <td>123</td>\n",
       "      <td>124.0</td>\n",
       "      <td>4</td>\n",
       "      <td>125000</td>\n",
       "      <td>270</td>\n",
       "      <td>2010.0</td>\n",
       "      <td>0</td>\n",
       "      <td>...</td>\n",
       "      <td>0</td>\n",
       "      <td>0</td>\n",
       "      <td>0</td>\n",
       "      <td>3</td>\n",
       "      <td>11363</td>\n",
       "      <td>3.0</td>\n",
       "      <td>0</td>\n",
       "      <td>0</td>\n",
       "      <td>1</td>\n",
       "      <td>0</td>\n",
       "    </tr>\n",
       "    <tr>\n",
       "      <th>167738</th>\n",
       "      <td>17</td>\n",
       "      <td>2</td>\n",
       "      <td>12</td>\n",
       "      <td>46</td>\n",
       "      <td>124.0</td>\n",
       "      <td>4</td>\n",
       "      <td>119000</td>\n",
       "      <td>270</td>\n",
       "      <td>2011.0</td>\n",
       "      <td>0</td>\n",
       "      <td>...</td>\n",
       "      <td>0</td>\n",
       "      <td>0</td>\n",
       "      <td>0</td>\n",
       "      <td>3</td>\n",
       "      <td>11900</td>\n",
       "      <td>4.0</td>\n",
       "      <td>0</td>\n",
       "      <td>0</td>\n",
       "      <td>1</td>\n",
       "      <td>0</td>\n",
       "    </tr>\n",
       "    <tr>\n",
       "      <th>167739</th>\n",
       "      <td>11</td>\n",
       "      <td>2</td>\n",
       "      <td>1</td>\n",
       "      <td>47</td>\n",
       "      <td>161.0</td>\n",
       "      <td>4</td>\n",
       "      <td>37000</td>\n",
       "      <td>167</td>\n",
       "      <td>2018.0</td>\n",
       "      <td>0</td>\n",
       "      <td>...</td>\n",
       "      <td>0</td>\n",
       "      <td>0</td>\n",
       "      <td>0</td>\n",
       "      <td>3</td>\n",
       "      <td>12333</td>\n",
       "      <td>2.0</td>\n",
       "      <td>1</td>\n",
       "      <td>0</td>\n",
       "      <td>1</td>\n",
       "      <td>0</td>\n",
       "    </tr>\n",
       "    <tr>\n",
       "      <th>167740</th>\n",
       "      <td>0</td>\n",
       "      <td>4</td>\n",
       "      <td>15</td>\n",
       "      <td>15</td>\n",
       "      <td>204.0</td>\n",
       "      <td>4</td>\n",
       "      <td>29000</td>\n",
       "      <td>727</td>\n",
       "      <td>2019.0</td>\n",
       "      <td>0</td>\n",
       "      <td>...</td>\n",
       "      <td>1</td>\n",
       "      <td>0</td>\n",
       "      <td>0</td>\n",
       "      <td>3</td>\n",
       "      <td>14500</td>\n",
       "      <td>1.0</td>\n",
       "      <td>1</td>\n",
       "      <td>0</td>\n",
       "      <td>0</td>\n",
       "      <td>0</td>\n",
       "    </tr>\n",
       "  </tbody>\n",
       "</table>\n",
       "<p>167741 rows × 32 columns</p>\n",
       "</div>"
      ],
      "text/plain": [
       "        bodyType  brand  color  description  enginePower  fuelType  mileage  \\\n",
       "0              6      8     13          145        105.0         0    74000   \n",
       "1              6      8     15          357        110.0         0    60563   \n",
       "2              6      8     12          145        152.0         0    88000   \n",
       "3              6      8      6          238        110.0         0    95000   \n",
       "4              6      8      1          322        152.0         0    58536   \n",
       "...          ...    ...    ...          ...          ...       ...      ...   \n",
       "167736        17      2      4            0        124.0         4    91000   \n",
       "167737        17      2     13          123        124.0         4   125000   \n",
       "167738        17      2     12           46        124.0         4   119000   \n",
       "167739        11      2      1           47        161.0         4    37000   \n",
       "167740         0      4     15           15        204.0         4    29000   \n",
       "\n",
       "        model_name  productionDate  vehicleTransmission  ...  enginePower_cut  \\\n",
       "0              480          2014.0                    2  ...                0   \n",
       "1              480          2017.0                    1  ...                0   \n",
       "2              692          2014.0                    2  ...                0   \n",
       "3              480          2014.0                    0  ...                0   \n",
       "4              480          2012.0                    0  ...                0   \n",
       "...            ...             ...                  ...  ...              ...   \n",
       "167736         270          2011.0                    0  ...                0   \n",
       "167737         270          2010.0                    0  ...                0   \n",
       "167738         270          2011.0                    0  ...                0   \n",
       "167739         167          2018.0                    0  ...                0   \n",
       "167740         727          2019.0                    0  ...                1   \n",
       "\n",
       "        fuelType_isGE  mileage_cut  productionDate_cut  mileage_per_age  \\\n",
       "0                   0            0                   3            10571   \n",
       "1                   0            0                   3            15140   \n",
       "2                   0            0                   3            12571   \n",
       "3                   0            0                   3            13571   \n",
       "4                   0            0                   3             6504   \n",
       "...               ...          ...                 ...              ...   \n",
       "167736              0            0                   3             9100   \n",
       "167737              0            0                   3            11363   \n",
       "167738              0            0                   3            11900   \n",
       "167739              0            0                   3            12333   \n",
       "167740              0            0                   3            14500   \n",
       "\n",
       "        time_bw_model_product top2_bodyType  rare_bodyType  top5_colors  \\\n",
       "0                         1.0             0              0            1   \n",
       "1                         0.0             0              0            0   \n",
       "2                         1.0             0              0            1   \n",
       "3                         1.0             0              0            0   \n",
       "4                         4.0             0              0            1   \n",
       "...                       ...           ...            ...          ...   \n",
       "167736                    4.0             0              0            0   \n",
       "167737                    3.0             0              0            1   \n",
       "167738                    4.0             0              0            1   \n",
       "167739                    2.0             1              0            1   \n",
       "167740                    1.0             1              0            0   \n",
       "\n",
       "        rare_colors  \n",
       "0                 0  \n",
       "1                 0  \n",
       "2                 0  \n",
       "3                 0  \n",
       "4                 0  \n",
       "...             ...  \n",
       "167736            0  \n",
       "167737            0  \n",
       "167738            0  \n",
       "167739            0  \n",
       "167740            0  \n",
       "\n",
       "[167741 rows x 32 columns]"
      ]
     },
     "execution_count": 147,
     "metadata": {},
     "output_type": "execute_result"
    }
   ],
   "source": [
    "db_le"
   ]
  },
  {
   "cell_type": "code",
   "execution_count": 148,
   "metadata": {
    "execution": {
     "iopub.execute_input": "2021-12-30T14:05:54.938727Z",
     "iopub.status.busy": "2021-12-30T14:05:54.938198Z",
     "iopub.status.idle": "2021-12-30T14:05:54.960951Z",
     "shell.execute_reply": "2021-12-30T14:05:54.960221Z",
     "shell.execute_reply.started": "2021-12-30T14:05:54.938677Z"
    },
    "papermill": {
     "duration": 0.071275,
     "end_time": "2020-10-26T12:47:03.754",
     "exception": false,
     "start_time": "2020-10-26T12:47:03.682725",
     "status": "completed"
    },
    "tags": []
   },
   "outputs": [],
   "source": [
    "X = db_le.query('train == 1').drop(add_cols + target_cols, axis=1)#train\n",
    "X_sub = db_le.query('train == 0').drop(add_cols + target_cols, axis=1) #test\n",
    "y = db_source[db_source.train == 1]['price'] # train_target"
   ]
  },
  {
   "cell_type": "code",
   "execution_count": 149,
   "metadata": {},
   "outputs": [
    {
     "name": "stdout",
     "output_type": "stream",
     "text": [
      "Трейн-данных:  133055\n",
      "Тест-данных:  34686\n",
      "Трейн-целевая:  133055\n"
     ]
    }
   ],
   "source": [
    "print(\"Трейн-данных: \", len(X))\n",
    "print(\"Тест-данных: \", len(X_sub))\n",
    "print(\"Трейн-целевая: \", len(y))\n",
    "# Трейн-данных:  133055\n",
    "#Тест-данных:  34686\n",
    "#Трейн-целевая:  133055\n"
   ]
  },
  {
   "cell_type": "code",
   "execution_count": 150,
   "metadata": {},
   "outputs": [],
   "source": [
    "X_train, X_test, y_train, y_test = train_test_split(X, y, test_size=VAL_SIZE, shuffle=True, random_state=RANDOM_SEED)\n",
    "# X_train, X_test, y_train, y_test - только Label Encoding"
   ]
  },
  {
   "cell_type": "code",
   "execution_count": 151,
   "metadata": {},
   "outputs": [
    {
     "name": "stdout",
     "output_type": "stream",
     "text": [
      "(106444, 28) (26611, 28) (106444,) (26611,)\n"
     ]
    }
   ],
   "source": [
    "print(X_train.shape, X_test.shape, y_train.shape, y_test.shape)"
   ]
  },
  {
   "cell_type": "code",
   "execution_count": 152,
   "metadata": {},
   "outputs": [
    {
     "data": {
      "text/plain": [
       "(133055, 28)"
      ]
     },
     "execution_count": 152,
     "metadata": {},
     "output_type": "execute_result"
    }
   ],
   "source": [
    "X.shape"
   ]
  },
  {
   "cell_type": "markdown",
   "metadata": {},
   "source": [
    "## + MinMaxScaler"
   ]
  },
  {
   "cell_type": "code",
   "execution_count": 153,
   "metadata": {},
   "outputs": [],
   "source": [
    "db_sc = db_le.copy()\n",
    "db_sc[num_cols] = pd.DataFrame(MinMaxScaler().fit_transform(db_sc[num_cols].values), \\\n",
    "                                     columns = db_sc[num_cols].columns)"
   ]
  },
  {
   "cell_type": "code",
   "execution_count": 154,
   "metadata": {},
   "outputs": [],
   "source": [
    "X_sc = db_sc.query('train == 1').drop(add_cols + target_cols, axis=1)#train\n",
    "X_sc_sub = db_sc.query('train == 0').drop(add_cols + target_cols, axis=1) #test"
   ]
  },
  {
   "cell_type": "code",
   "execution_count": 155,
   "metadata": {
    "execution": {
     "iopub.execute_input": "2021-12-30T14:06:01.760174Z",
     "iopub.status.busy": "2021-12-30T14:06:01.759653Z",
     "iopub.status.idle": "2021-12-30T14:06:01.772433Z",
     "shell.execute_reply": "2021-12-30T14:06:01.771629Z",
     "shell.execute_reply.started": "2021-12-30T14:06:01.760121Z"
    },
    "papermill": {
     "duration": 0.059208,
     "end_time": "2020-10-26T12:47:03.923564",
     "exception": false,
     "start_time": "2020-10-26T12:47:03.864356",
     "status": "completed"
    },
    "tags": []
   },
   "outputs": [],
   "source": [
    "X_train_sc, X_test_sc, y_train_sc, y_test_sc = train_test_split(X_sc, y, test_size=VAL_SIZE, shuffle=True, random_state=RANDOM_SEED)\n",
    "# X_train_sc, X_test_sc, y_train_sc, y_test_sc - Label Encoding + MinMaxScaler"
   ]
  },
  {
   "cell_type": "code",
   "execution_count": 156,
   "metadata": {},
   "outputs": [
    {
     "name": "stdout",
     "output_type": "stream",
     "text": [
      "(106444, 28) (26611, 28) (106444,) (26611,)\n"
     ]
    }
   ],
   "source": [
    "print(X_train_sc.shape, X_test_sc.shape, y_train_sc.shape, y_test_sc.shape)"
   ]
  },
  {
   "cell_type": "markdown",
   "metadata": {},
   "source": [
    "## + Dummies"
   ]
  },
  {
   "cell_type": "code",
   "execution_count": 157,
   "metadata": {},
   "outputs": [],
   "source": [
    "db_sc_dumm = pd.get_dummies(db_sc, columns = cat_cols, dummy_na=False)"
   ]
  },
  {
   "cell_type": "code",
   "execution_count": 158,
   "metadata": {},
   "outputs": [],
   "source": [
    "X_sc_dumm = db_sc_dumm.query('train == 1').drop(add_cols + target_cols, axis=1)#train\n",
    "X_sc_dumm_sub = db_sc_dumm.query('train == 0').drop(add_cols + target_cols, axis=1) #test"
   ]
  },
  {
   "cell_type": "code",
   "execution_count": 159,
   "metadata": {},
   "outputs": [],
   "source": [
    "X_train_sc_dumm, X_test_sc_dumm, y_train_sc_dumm, y_test_sc_dumm = train_test_split(X_sc_dumm, y, test_size=VAL_SIZE, shuffle=True, random_state=RANDOM_SEED)\n",
    "# X_train_sc_dumm, X_test_sc_dumm, y_train_sc_dumm, y_test_sc_dumm - Label Encoding + MinMaxScaler+dummies"
   ]
  },
  {
   "cell_type": "code",
   "execution_count": 160,
   "metadata": {},
   "outputs": [
    {
     "name": "stdout",
     "output_type": "stream",
     "text": [
      "(106444, 915) (26611, 915) (106444,) (26611,)\n"
     ]
    }
   ],
   "source": [
    "print(X_train_sc_dumm.shape, X_test_sc_dumm.shape, y_train_sc_dumm.shape, y_test_sc_dumm.shape)"
   ]
  },
  {
   "cell_type": "markdown",
   "metadata": {},
   "source": [
    "# Model 1: Создадим \"наивную\" модель \n",
    "Эта модель будет предсказывать среднюю цену по модели двигателя (enginePower). \n",
    "C ней будем сравнивать другие модели.\n",
    "\n",
    "\n"
   ]
  },
  {
   "cell_type": "code",
   "execution_count": 161,
   "metadata": {},
   "outputs": [],
   "source": [
    "tmp_train = X_train.copy()\n",
    "tmp_train['price'] = y_train"
   ]
  },
  {
   "cell_type": "code",
   "execution_count": 162,
   "metadata": {},
   "outputs": [
    {
     "data": {
      "text/plain": [
       "'# Находим median по экземплярам engineDisplacement в трейне и размечаем тест\\npredict = X_test[\\'enginePower\\'].map(tmp_train.groupby(\\'enginePower\\')[\\'price\\'].median())\\n\\n#оцениваем точность\\nresult = round((mape(y_test, predict.values))*100,2)\\ndf_Result.loc[len(df_Result)] = [\\'naiv\\', result]\\nprint(f\"Точность наивной модели по метрике MAPE: {(mape(y_test, predict.values))*100:0.2f}%\")\\n# Точность наивной модели по метрике MAPE: 60.66%'"
      ]
     },
     "execution_count": 162,
     "metadata": {},
     "output_type": "execute_result"
    }
   ],
   "source": [
    "\"\"\"# Находим median по экземплярам engineDisplacement в трейне и размечаем тест\n",
    "predict = X_test['enginePower'].map(tmp_train.groupby('enginePower')['price'].median())\n",
    "\n",
    "#оцениваем точность\n",
    "result = round((mape(y_test, predict.values))*100,2)\n",
    "df_Result.loc[len(df_Result)] = ['naiv', result]\n",
    "print(f\"Точность наивной модели по метрике MAPE: {(mape(y_test, predict.values))*100:0.2f}%\")\n",
    "# Точность наивной модели по метрике MAPE: 60.66%\"\"\""
   ]
  },
  {
   "cell_type": "markdown",
   "metadata": {
    "papermill": {
     "duration": 0.037164,
     "end_time": "2020-10-26T12:47:03.997616",
     "exception": false,
     "start_time": "2020-10-26T12:47:03.960452",
     "status": "completed"
    },
    "tags": []
   },
   "source": [
    "# Model 2 : CatBoost\n",
    "![](https://pbs.twimg.com/media/DP-jUCyXcAArRTo.png:large)   \n",
    "\n",
    "\n",
    "У нас в данных практически все признаки категориальные. Специально для работы с такими данными была создана очень удобная библиотека CatBoost от Яндекса. [https://catboost.ai](http://)     \n",
    "На данный момент **CatBoost является одной из лучших библиотек для табличных данных!**\n",
    "\n",
    "**Полезные видео о CatBoost (на русском):**\n",
    "* [Доклад про CatBoost](https://youtu.be/9ZrfErvm97M)\n",
    "* [Свежий Туториал от команды CatBoost (практическая часть)](https://youtu.be/wQt4kgAOgV0) "
   ]
  },
  {
   "cell_type": "markdown",
   "metadata": {
    "papermill": {
     "duration": 0.035833,
     "end_time": "2020-10-26T12:47:04.149539",
     "exception": false,
     "start_time": "2020-10-26T12:47:04.113706",
     "status": "completed"
    },
    "tags": []
   },
   "source": [
    "## Default - 14.50%"
   ]
  },
  {
   "cell_type": "code",
   "execution_count": 163,
   "metadata": {
    "execution": {
     "iopub.execute_input": "2021-12-30T14:09:15.380678Z",
     "iopub.status.busy": "2021-12-30T14:09:15.380237Z",
     "iopub.status.idle": "2021-12-30T14:10:00.823041Z",
     "shell.execute_reply": "2021-12-30T14:10:00.822151Z",
     "shell.execute_reply.started": "2021-12-30T14:09:15.380644Z"
    },
    "papermill": {
     "duration": 67.991521,
     "end_time": "2020-10-26T12:48:12.178488",
     "exception": false,
     "start_time": "2020-10-26T12:47:04.186967",
     "status": "completed"
    },
    "tags": []
   },
   "outputs": [
    {
     "data": {
      "text/plain": [
       "\"catb_def = CatBoostRegressor(iterations = 5000,\\n                          random_seed = RANDOM_SEED,\\n                          eval_metric='MAPE',\\n                          custom_metric=['R2', 'MAE'],\\n                          silent=True,\\n                         )\\ncatb_def.fit(X_train, y_train,\\n         #cat_features= cat_features_ids,\\n         eval_set=(X_test, y_test),\\n         verbose_eval=0,\\n         use_best_model=True,\\n         plot=True\\n         )\\n\\ncatb_def.save_model('catboost_single_model_baseline.model')\""
      ]
     },
     "execution_count": 163,
     "metadata": {},
     "output_type": "execute_result"
    }
   ],
   "source": [
    "\n",
    "\"\"\"catb_def = CatBoostRegressor(iterations = 5000,\n",
    "                          random_seed = RANDOM_SEED,\n",
    "                          eval_metric='MAPE',\n",
    "                          custom_metric=['R2', 'MAE'],\n",
    "                          silent=True,\n",
    "                         )\n",
    "catb_def.fit(X_train, y_train,\n",
    "         #cat_features= cat_features_ids,\n",
    "         eval_set=(X_test, y_test),\n",
    "         verbose_eval=0,\n",
    "         use_best_model=True,\n",
    "         plot=True\n",
    "         )\n",
    "\n",
    "catb_def.save_model('catboost_single_model_baseline.model')\"\"\"\n"
   ]
  },
  {
   "cell_type": "code",
   "execution_count": 164,
   "metadata": {
    "execution": {
     "iopub.execute_input": "2021-12-30T14:14:37.262165Z",
     "iopub.status.busy": "2021-12-30T14:14:37.261655Z",
     "iopub.status.idle": "2021-12-30T14:14:37.322297Z",
     "shell.execute_reply": "2021-12-30T14:14:37.32123Z",
     "shell.execute_reply.started": "2021-12-30T14:14:37.26212Z"
    }
   },
   "outputs": [
    {
     "data": {
      "text/plain": [
       "'# оцениваем точность\\npredict_test = catb_def.predict(X_test)\\n\\nresult = round((mape(y_test, predict_test))*100,2)\\ndf_Result.loc[len(df_Result)] = [\\'catb_def\\', result]\\n\\nprint(f\"Точность модели по метрике MAPE: {(mape(y_test, predict_test))*100:0.2f}%\")\\n# Точность модели по метрике MAPE: 14.50%\\n'"
      ]
     },
     "execution_count": 164,
     "metadata": {},
     "output_type": "execute_result"
    }
   ],
   "source": [
    "\n",
    "\"\"\"# оцениваем точность\n",
    "predict_test = catb_def.predict(X_test)\n",
    "\n",
    "result = round((mape(y_test, predict_test))*100,2)\n",
    "df_Result.loc[len(df_Result)] = ['catb_def', result]\n",
    "\n",
    "print(f\"Точность модели по метрике MAPE: {(mape(y_test, predict_test))*100:0.2f}%\")\n",
    "# Точность модели по метрике MAPE: 14.50%\n",
    "\"\"\""
   ]
  },
  {
   "cell_type": "markdown",
   "metadata": {
    "papermill": {
     "duration": 0.088891,
     "end_time": "2020-10-26T12:48:12.562943",
     "exception": false,
     "start_time": "2020-10-26T12:48:12.474052",
     "status": "completed"
    },
    "tags": []
   },
   "source": [
    "Вот так просто со старта, даже не трогая сами данные и не подбирая настройки catboosta, получаем модель с уровнем ошибки в 14.54% (baseline 18%)!"
   ]
  },
  {
   "cell_type": "markdown",
   "metadata": {},
   "source": [
    "## Log Target - 12.69%\n",
    "Попробуем взять таргет в логорифм - это позволит уменьшить влияние выбросов на обучение модели (используем для этого np.log и np.exp).    "
   ]
  },
  {
   "cell_type": "code",
   "execution_count": 165,
   "metadata": {
    "execution": {
     "iopub.execute_input": "2021-12-30T14:15:13.076325Z",
     "iopub.status.busy": "2021-12-30T14:15:13.075951Z",
     "iopub.status.idle": "2021-12-30T14:15:58.898856Z",
     "shell.execute_reply": "2021-12-30T14:15:58.897902Z",
     "shell.execute_reply.started": "2021-12-30T14:15:13.076294Z"
    }
   },
   "outputs": [
    {
     "data": {
      "text/plain": [
       "\"catb_log = CatBoostRegressor(iterations = 5000,\\n                                   random_seed = RANDOM_SEED,\\n                                   eval_metric='MAPE', # улучшаемая метрика\\n                                   custom_metric=['R2', 'MAE'], # метрика для отображения на графике\\n                                   silent=True,\\n                                  )\\ncatb_log.fit(X_train, np.log(y_train),\\n         #cat_features=cat_features_ids,\\n         eval_set=(X_test, np.log(y_test)),\\n         verbose_eval=0,\\n         use_best_model=True,\\n         #plot=True\\n         )\\n\\ncatb_log.save_model('catboost_single_model_2_baseline.model')\""
      ]
     },
     "execution_count": 165,
     "metadata": {},
     "output_type": "execute_result"
    }
   ],
   "source": [
    "\"\"\"catb_log = CatBoostRegressor(iterations = 5000,\n",
    "                                   random_seed = RANDOM_SEED,\n",
    "                                   eval_metric='MAPE', # улучшаемая метрика\n",
    "                                   custom_metric=['R2', 'MAE'], # метрика для отображения на графике\n",
    "                                   silent=True,\n",
    "                                  )\n",
    "catb_log.fit(X_train, np.log(y_train),\n",
    "         #cat_features=cat_features_ids,\n",
    "         eval_set=(X_test, np.log(y_test)),\n",
    "         verbose_eval=0,\n",
    "         use_best_model=True,\n",
    "         #plot=True\n",
    "         )\n",
    "\n",
    "catb_log.save_model('catboost_single_model_2_baseline.model')\"\"\""
   ]
  },
  {
   "cell_type": "code",
   "execution_count": 166,
   "metadata": {
    "execution": {
     "iopub.execute_input": "2021-12-30T14:16:09.647158Z",
     "iopub.status.busy": "2021-12-30T14:16:09.646784Z",
     "iopub.status.idle": "2021-12-30T14:16:09.782235Z",
     "shell.execute_reply": "2021-12-30T14:16:09.781347Z",
     "shell.execute_reply.started": "2021-12-30T14:16:09.647127Z"
    }
   },
   "outputs": [
    {
     "data": {
      "text/plain": [
       "'predict_test = np.exp(catb_log.predict(X_test))\\n#predict_submission = np.exp(model_catb_log.predict(X_sub))'"
      ]
     },
     "execution_count": 166,
     "metadata": {},
     "output_type": "execute_result"
    }
   ],
   "source": [
    "\"\"\"predict_test = np.exp(catb_log.predict(X_test))\n",
    "#predict_submission = np.exp(model_catb_log.predict(X_sub))\"\"\""
   ]
  },
  {
   "cell_type": "code",
   "execution_count": 167,
   "metadata": {
    "execution": {
     "iopub.execute_input": "2021-12-30T14:18:09.32008Z",
     "iopub.status.busy": "2021-12-30T14:18:09.319232Z",
     "iopub.status.idle": "2021-12-30T14:18:09.329372Z",
     "shell.execute_reply": "2021-12-30T14:18:09.32824Z",
     "shell.execute_reply.started": "2021-12-30T14:18:09.320023Z"
    }
   },
   "outputs": [
    {
     "data": {
      "text/plain": [
       "'result = round((mape(y_test, predict_test))*100,2)\\ndf_Result.loc[len(df_Result)] = [\\'catb_log\\', result]\\n\\nprint(f\"Точность модели по метрике MAPE: {result}%\")'"
      ]
     },
     "execution_count": 167,
     "metadata": {},
     "output_type": "execute_result"
    }
   ],
   "source": [
    "\"\"\"result = round((mape(y_test, predict_test))*100,2)\n",
    "df_Result.loc[len(df_Result)] = ['catb_log', result]\n",
    "\n",
    "print(f\"Точность модели по метрике MAPE: {result}%\")\"\"\""
   ]
  },
  {
   "cell_type": "markdown",
   "metadata": {},
   "source": [
    "## Log_AdvPar - 12.58%"
   ]
  },
  {
   "cell_type": "code",
   "execution_count": 168,
   "metadata": {},
   "outputs": [
    {
     "data": {
      "text/plain": [
       "\"catb_log_adv = CatBoostRegressor(iterations = 6000,\\n                                   random_seed = RANDOM_SEED,\\n                                   eval_metric='MAPE', # улучшаемая метрика\\n                                   custom_metric=['R2', 'MAE'],\\n                                   silent=True,\\n                                   learning_rate = 0.05,\\n                                   l2_leaf_reg = 2, # Coefficient at the L2 \\n                                   od_type = 'Iter', # детектор переобучения\\n                                   od_wait = 20 # детектор переобучения\\n                                  )\\ncatb_log_adv.fit(X_train, np.log(y_train),\\n         # cat_features=cat_cols + bin_cols, #12.78%\\n         eval_set=(X_test, np.log(y_test)),\\n         verbose_eval=0,\\n         use_best_model=True,\\n         #plot=True\\n         )\\n\\ncatb_log_adv.save_model('catboost_single_model_3_baseline.model')\""
      ]
     },
     "execution_count": 168,
     "metadata": {},
     "output_type": "execute_result"
    }
   ],
   "source": [
    "\"\"\"catb_log_adv = CatBoostRegressor(iterations = 6000,\n",
    "                                   random_seed = RANDOM_SEED,\n",
    "                                   eval_metric='MAPE', # улучшаемая метрика\n",
    "                                   custom_metric=['R2', 'MAE'],\n",
    "                                   silent=True,\n",
    "                                   learning_rate = 0.05,\n",
    "                                   l2_leaf_reg = 2, # Coefficient at the L2 \n",
    "                                   od_type = 'Iter', # детектор переобучения\n",
    "                                   od_wait = 20 # детектор переобучения\n",
    "                                  )\n",
    "catb_log_adv.fit(X_train, np.log(y_train),\n",
    "         # cat_features=cat_cols + bin_cols, #12.78%\n",
    "         eval_set=(X_test, np.log(y_test)),\n",
    "         verbose_eval=0,\n",
    "         use_best_model=True,\n",
    "         #plot=True\n",
    "         )\n",
    "\n",
    "catb_log_adv.save_model('catboost_single_model_3_baseline.model')\"\"\""
   ]
  },
  {
   "cell_type": "code",
   "execution_count": 169,
   "metadata": {},
   "outputs": [
    {
     "data": {
      "text/plain": [
       "'print(catb_log_adv.tree_count_)'"
      ]
     },
     "execution_count": 169,
     "metadata": {},
     "output_type": "execute_result"
    }
   ],
   "source": [
    "\"\"\"print(catb_log_adv.tree_count_)\"\"\""
   ]
  },
  {
   "cell_type": "code",
   "execution_count": 170,
   "metadata": {},
   "outputs": [
    {
     "data": {
      "text/plain": [
       "\"predict_test = np.exp(catb_log_adv.predict(X_test))\\n#predict_submission = np.exp(model_catb_log.predict(X_sub)\\n\\nresult = round((mape(y_test, predict_test))*100,2)\\ndf_Result.loc[len(df_Result)] = ['catb_log_adv', result]\""
      ]
     },
     "execution_count": 170,
     "metadata": {},
     "output_type": "execute_result"
    }
   ],
   "source": [
    "\"\"\"predict_test = np.exp(catb_log_adv.predict(X_test))\n",
    "#predict_submission = np.exp(model_catb_log.predict(X_sub)\n",
    "\n",
    "result = round((mape(y_test, predict_test))*100,2)\n",
    "df_Result.loc[len(df_Result)] = ['catb_log_adv', result]\"\"\""
   ]
  },
  {
   "cell_type": "code",
   "execution_count": 171,
   "metadata": {},
   "outputs": [
    {
     "data": {
      "text/plain": [
       "'print(f\"Точность модели по метрике MAPE: {(mape(y_test, predict_test))*100:0.2f}%\")\\n# learning_rate = 0.1 12.80% (l2_leaf_reg = 7)\\n# learning_rate = 0.05 12.64% (l2_leaf_reg = 7)\\n# l2_leaf_reg = 3 12.63%, l2_leaf_reg = 3 12.60% l2_leaf_reg = 1 12.59% l2_leaf_reg = 0 12.56%'"
      ]
     },
     "execution_count": 171,
     "metadata": {},
     "output_type": "execute_result"
    }
   ],
   "source": [
    "\"\"\"print(f\"Точность модели по метрике MAPE: {(mape(y_test, predict_test))*100:0.2f}%\")\n",
    "# learning_rate = 0.1 12.80% (l2_leaf_reg = 7)\n",
    "# learning_rate = 0.05 12.64% (l2_leaf_reg = 7)\n",
    "# l2_leaf_reg = 3 12.63%, l2_leaf_reg = 3 12.60% l2_leaf_reg = 1 12.59% l2_leaf_reg = 0 12.56%\"\"\""
   ]
  },
  {
   "cell_type": "code",
   "execution_count": 172,
   "metadata": {},
   "outputs": [
    {
     "data": {
      "text/plain": [
       "'cat_cur_imp = pd.Series(catb_log_adv.get_feature_importance(),\\n                         X_test.columns)\\nfig, ax = plt.subplots(figsize=(16,14))\\ncat_cur_imp.plot.bar(ax=ax)\\nax.set_title(\"Важность признаков\")\\nfig.tight_layout()'"
      ]
     },
     "execution_count": 172,
     "metadata": {},
     "output_type": "execute_result"
    }
   ],
   "source": [
    "\"\"\"cat_cur_imp = pd.Series(catb_log_adv.get_feature_importance(),\n",
    "                         X_test.columns)\n",
    "fig, ax = plt.subplots(figsize=(16,14))\n",
    "cat_cur_imp.plot.bar(ax=ax)\n",
    "ax.set_title(\"Важность признаков\")\n",
    "fig.tight_layout()\"\"\""
   ]
  },
  {
   "cell_type": "markdown",
   "metadata": {},
   "source": [
    "## Log_AdvPar_KFold - 12.57%"
   ]
  },
  {
   "cell_type": "code",
   "execution_count": 174,
   "metadata": {},
   "outputs": [
    {
     "name": "stdout",
     "output_type": "stream",
     "text": [
      "TRAIN: [     1      2      5 ... 133052 133053 133054] TEST: [     0      3      4 ... 133045 133046 133050]\n",
      "0.12656075241234904\n",
      "TRAIN: [     0      2      3 ... 133048 133050 133054] TEST: [     1      7      8 ... 133051 133052 133053]\n",
      "0.12703999668135263\n",
      "TRAIN: [     0      1      2 ... 133052 133053 133054] TEST: [     6      9     10 ... 133032 133033 133048]\n",
      "0.12615666969671505\n",
      "TRAIN: [     0      1      3 ... 133051 133052 133053] TEST: [     2      5     14 ... 133039 133041 133054]\n",
      "0.12444241342340243\n",
      "Точность модели по метрике MAPE: 12.60%.\n"
     ]
    }
   ],
   "source": [
    "catb_log_adv_kf = CatBoostRegressor(\n",
    "                                  iterations = 5000,\n",
    "                                   random_seed = RANDOM_SEED,\n",
    "                                   eval_metric='MAPE', # улучшаемая метрика\n",
    "                                   custom_metric=['R2', 'MAE'],\n",
    "                                   silent=True,\n",
    "                                   learning_rate = 0.1,\n",
    "                                   l2_leaf_reg = 2, # Coefficient at the L2 \n",
    "                                   od_type = 'Iter', # детектор переобучения\n",
    "                                   od_wait = 20 # детектор переобучения\n",
    "                          )\n",
    "\n",
    "skf = KFold(n_splits=4, random_state=RANDOM_SEED, shuffle=True)\n",
    "cat_boost_log_mape_values = []\n",
    "\n",
    "for train_index, test_index in skf.split(X, y):\n",
    "    print(\"TRAIN:\", train_index, \"TEST:\", test_index)\n",
    "    X_train, X_test = X[X.index.isin(train_index)], X[X.index.isin(test_index)]\n",
    "    y_train, y_test = y[y.index.isin(train_index)], y[y.index.isin(test_index)]\n",
    "    \n",
    "    catb_log_adv_kf.fit(X_train, np.log(y_train),\n",
    "          #cat_features=cat_features_ids,\n",
    "          eval_set=(X_test, np.log(y_test)),\n",
    "          verbose_eval=0,\n",
    "          use_best_model=True,\n",
    "          #plot=True\n",
    "          )\n",
    "\n",
    "    y_pred = np.exp(catb_log_adv_kf.predict(X_test))\n",
    "\n",
    "    cat_boost_log_mape_value = mape(y_test, y_pred)\n",
    "    cat_boost_log_mape_values.append(cat_boost_log_mape_value)\n",
    "    print(cat_boost_log_mape_value)\n",
    "\n",
    "print(f\"Точность модели по метрике MAPE: {(np.mean(cat_boost_log_mape_values) * 100):0.2f}%.\")"
   ]
  },
  {
   "cell_type": "code",
   "execution_count": 177,
   "metadata": {},
   "outputs": [],
   "source": [
    "\"\"\"result = round((np.mean(cat_boost_log_mape_values) * 100),2)\n",
    "df_Result.loc[len(df_Result)] = ['catb_log_adv_kf', result]\"\"\""
   ]
  },
  {
   "cell_type": "markdown",
   "metadata": {},
   "source": [
    "Промежуточные выводы по модели CatBoostRegressor:\n",
    "1. С дефолтными параметрами на базе после LabelEncoding дает результат 14.54%\n",
    "2. Логорифмирование целевой базы улучшило обучение +1.8% и дошло до 12.74%. В дальнейшем буду использовать обучение с логорифмированной целевой переменной;\n",
    "3. Подбор параметров немного улучшил точность +0.16% и дошло до 12.58. Подкручены были параметры:                          learning_rate = 0.1, l2_leaf_reg = 7, # Coefficient at the L2, od_type = 'Iter', # детектор переобучения\n",
    "   od_wait = 20 # детектор переобучения\n",
    "4. Самое интересное что для CatBoostRegressor такие штуки как LabelEncoding, MinMaxScaler, getDummies, KFold не дали никакого улучшения. \n",
    "5. Таким образом если датасет содержит большое количество категориальных данных можно после EDA+FE сразу подложить в обучение, подкрутив параметры качества (скорости) в зависимости от цели. "
   ]
  },
  {
   "cell_type": "markdown",
   "metadata": {},
   "source": [
    "# Model 3 : RandomForestRegressor\n",
    "Целевая переменная в дальнейшем всегда логорифмирована"
   ]
  },
  {
   "cell_type": "markdown",
   "metadata": {},
   "source": [
    "## DefPar -13.51%."
   ]
  },
  {
   "cell_type": "code",
   "execution_count": 42,
   "metadata": {},
   "outputs": [
    {
     "name": "stderr",
     "output_type": "stream",
     "text": [
      "[Parallel(n_jobs=-1)]: Using backend ThreadingBackend with 4 concurrent workers.\n",
      "[Parallel(n_jobs=-1)]: Done  42 tasks      | elapsed:   28.9s\n",
      "[Parallel(n_jobs=-1)]: Done 100 out of 100 | elapsed:  1.1min finished\n",
      "[Parallel(n_jobs=4)]: Using backend ThreadingBackend with 4 concurrent workers.\n",
      "[Parallel(n_jobs=4)]: Done  42 tasks      | elapsed:    0.3s\n"
     ]
    },
    {
     "name": "stdout",
     "output_type": "stream",
     "text": [
      "Точность модели по метрике MAPE: 13.51%.\n"
     ]
    },
    {
     "name": "stderr",
     "output_type": "stream",
     "text": [
      "[Parallel(n_jobs=4)]: Done 100 out of 100 | elapsed:    0.8s finished\n"
     ]
    }
   ],
   "source": [
    "\"\"\"rf_def = RandomForestRegressor(random_state=RANDOM_SEED, n_jobs=-1, verbose=1)\n",
    "rf_def.fit(X_train, np.log(y_train))\n",
    "predict_rf_def = np.exp(rf_def.predict(X_test))\n",
    "\n",
    "print(f\"Точность модели по метрике MAPE: {(mape(y_test, predict_rf_def) * 100):0.2f}%.\")\n",
    "result = round((mape(y_test, predict_rf_def) * 100),2)\n",
    "#df_Result.loc[len(df_Result)] = ['rf_def', result]\n",
    "# Точность модели по метрике MAPE: 13.51%.\"\"\""
   ]
  },
  {
   "cell_type": "markdown",
   "metadata": {},
   "source": [
    "## AdvPar - 13.58%"
   ]
  },
  {
   "cell_type": "code",
   "execution_count": 175,
   "metadata": {},
   "outputs": [
    {
     "name": "stdout",
     "output_type": "stream",
     "text": [
      "Fitting 3 folds for each of 100 candidates, totalling 300 fits\n"
     ]
    },
    {
     "name": "stderr",
     "output_type": "stream",
     "text": [
      "C:\\Program Files\\Python\\Anaconda3\\lib\\site-packages\\sklearn\\model_selection\\_search.py:918: UserWarning: One or more of the test scores are non-finite: [       nan 0.88751067        nan 0.91036477 0.9096488  0.90370448\n",
      " 0.9072292  0.90467219 0.9110299  0.90717661 0.90640999 0.91071916\n",
      " 0.90311784 0.88721304 0.9077328  0.90438426 0.90671113 0.91067871\n",
      " 0.90968595 0.91113396 0.90725868 0.91118205 0.90013041 0.90946044\n",
      " 0.91116849 0.90911535 0.90452872 0.90732292 0.90332429 0.9105037\n",
      " 0.90637488 0.91032292 0.90647064 0.90770491 0.90761739 0.90928986\n",
      " 0.90941429 0.90941429 0.91068892 0.90427671 0.90966403 0.91084656\n",
      " 0.90866602 0.91071625 0.91075095 0.90866909 0.90557752 0.90942541\n",
      " 0.91027763 0.90364574 0.91083453 0.90454894 0.90441596 0.90770491\n",
      " 0.90941174 0.90735916 0.91044194 0.89988397 0.90772617 0.91073476\n",
      " 0.90638262 0.90926789 0.91026015 0.90926789 0.91072366 0.91040343\n",
      " 0.90962622 0.91113451 0.90971495 0.91089571 0.90467163 0.91087149\n",
      " 0.91094302 0.90394181 0.90424937 0.91080374 0.90400243 0.91068049\n",
      " 0.90422177 0.90925485 0.89930198 0.90963718 0.91096786 0.90973594\n",
      " 0.90381554 0.90457051 0.91052938 0.9096814  0.90370448 0.90773834\n",
      " 0.91073326 0.908927   0.91074605 0.90452872 0.90694559 0.90897717\n",
      " 0.91092164 0.91044499 0.90934987 0.88780031]\n",
      "  warnings.warn(\n"
     ]
    },
    {
     "name": "stdout",
     "output_type": "stream",
     "text": [
      "Точность модели по метрике MAPE: 13.10%\n"
     ]
    }
   ],
   "source": [
    "# Подбор параметров для Random forest\n",
    "\n",
    "random_grid = {'n_estimators': [int(x) for x in np.linspace(start = 200, stop = 2001, num = 50)],\n",
    "               'max_features': ['auto', 'sqrt'],\n",
    "               'max_depth': [int(x) for x in np.linspace(10, 111, num = 20)],\n",
    "               'min_samples_split': [2, 5, 10],\n",
    "               'min_samples_leaf': [1, 2, 4]\n",
    "              }\n",
    "\n",
    "rf_adv = RandomForestRegressor(random_state=RANDOM_SEED)\n",
    "rf_random = RandomizedSearchCV(estimator=rf_adv, param_distributions=random_grid, n_iter=100, \n",
    "                               cv=3, verbose=2, random_state=RANDOM_SEED, n_jobs=-1)\n",
    "rf_random.fit(X_train, np.log(y_train+1))\n",
    "print(f\"Точность модели по метрике MAPE: {(mape(y_test, np.exp(rf_random.predict(X_test))))*100:0.2f}%\")\n",
    "\n",
    "#Fitting 3 folds for each of 100 candidates, totalling 300 fits\n",
    "#Точность модели по метрике MAPE: 13.58%\n"
   ]
  },
  {
   "cell_type": "code",
   "execution_count": 176,
   "metadata": {},
   "outputs": [
    {
     "name": "stdout",
     "output_type": "stream",
     "text": [
      "{'n_estimators': 1927, 'min_samples_split': 2, 'min_samples_leaf': 1, 'max_features': 'auto', 'max_depth': 25}\n",
      "0.9111820501392165\n",
      "RandomForestRegressor(max_depth=25, n_estimators=1927, random_state=42)\n",
      "Точность модели по метрике MAPE: 13.10%\n"
     ]
    }
   ],
   "source": [
    "print(rf_random.best_params_)\n",
    "print(rf_random.best_score_)\n",
    "print(rf_random.best_estimator_)\n",
    "#{'n_estimators': 1800, 'min_samples_split': 5, 'min_samples_leaf': 1, 'max_features': 'sqrt', 'max_depth': 20, 'bootstrap': False}\n",
    "#0.9004041491819783\n",
    "#RandomForestRegressor(bootstrap=False, max_depth=20, max_features='sqrt',\n",
    "#                      min_samples_split=5, n_estimators=1800, random_state=42)\n",
    "#----------------\n",
    "#{'n_estimators': 1927, 'min_samples_split': 2, 'min_samples_leaf': 1, 'max_features': 'auto', 'max_depth': 25}\n",
    "#0.9111820501392165\n",
    "#RandomForestRegressor(max_depth=25, n_estimators=1927, random_state=42)\n",
    "\n",
    "model = rf_random.best_estimator_\n",
    "# другой вариант распечать подобранные параметры\n",
    "#best_parameters = model.get_params()\n",
    "#for param_name in sorted(best_parameters.keys()):\n",
    "#        print('\\t%s: %r' % (param_name, best_parameters[param_name]))\n",
    "\n",
    "print(f\"Точность модели по метрике MAPE: {(mape(y_test, np.exp(model.predict(X_test))))*100:0.2f}%\")\n",
    "# Точность модели по метрике MAPE: 13.58%\"\"\""
   ]
  },
  {
   "cell_type": "code",
   "execution_count": 44,
   "metadata": {},
   "outputs": [
    {
     "data": {
      "text/plain": [
       "'# данные после LabelEncoding с подобранными параметрами\\nrf_adv = RandomForestRegressor(bootstrap=False, max_depth=20, max_features=\\'sqrt\\',\\n                      min_samples_split=5, n_estimators=1800, random_state=42)\\nrf_adv.fit(X_train, np.log(y_train))\\npredict_rf_adv = np.exp(rf_adv.predict(X_test))\\n\\nresult = round((mape(y_test, predict_rf_adv) * 100),2)\\nprint(f\"Точность модели по метрике MAPE: {result}%.\")\\ndf_Result.loc[len(df_Result)] = [\\'rf_adv\\', result]\\n#Точность модели по метрике MAPE: 13.58%.\\n# что подобранные параметры ухудшили показатели, печально. Дальнейший эсперементы буду проводить с дефолтными данными'"
      ]
     },
     "execution_count": 44,
     "metadata": {},
     "output_type": "execute_result"
    }
   ],
   "source": [
    "\"\"\"# данные после LabelEncoding с подобранными параметрами\n",
    "rf_adv = RandomForestRegressor(bootstrap=False, max_depth=20, max_features='sqrt',\n",
    "                      min_samples_split=5, n_estimators=1800, random_state=42)\n",
    "rf_adv.fit(X_train, np.log(y_train))\n",
    "predict_rf_adv = np.exp(rf_adv.predict(X_test))\n",
    "\n",
    "result = round((mape(y_test, predict_rf_adv) * 100),2)\n",
    "print(f\"Точность модели по метрике MAPE: {result}%.\")\n",
    "df_Result.loc[len(df_Result)] = ['rf_adv', result]\n",
    "#Точность модели по метрике MAPE: 13.58%.\n",
    "# что подобранные параметры ухудшили показатели, печально. Дальнейший эсперементы буду проводить с дефолтными данными\"\"\""
   ]
  },
  {
   "cell_type": "markdown",
   "metadata": {},
   "source": [
    "## DefPar_Stan_Dumm - 13.34 %"
   ]
  },
  {
   "cell_type": "code",
   "execution_count": 52,
   "metadata": {},
   "outputs": [],
   "source": [
    "\"\"\"# данные после LabelEncoding, MinMaxScaler и подобранные параметры\n",
    "rf_adv_stan = RandomForestRegressor(bootstrap=False, max_depth=20, max_features='sqrt',\n",
    "                      min_samples_split=5, n_estimators=1800, random_state=42)\n",
    "rf_adv_stan.fit(X_train_sc, np.log(y_train_sc))\n",
    "predict_rf_adv = np.exp(rf_adv_stan.predict(X_test_sc))\n",
    "result = round((mape(y_test_sc, predict_rf_adv) * 100),2)\n",
    "print(f\"Точность модели по метрике MAPE: {result}%.\")\n",
    "#df_Result.loc[len(df_Result)] = ['rf_log_adv', result]\n",
    "# Точность модели по метрике MAPE: 13.81%.\"\"\""
   ]
  },
  {
   "cell_type": "code",
   "execution_count": 54,
   "metadata": {},
   "outputs": [
    {
     "name": "stderr",
     "output_type": "stream",
     "text": [
      "[Parallel(n_jobs=-1)]: Using backend ThreadingBackend with 4 concurrent workers.\n",
      "[Parallel(n_jobs=-1)]: Done  42 tasks      | elapsed:   17.9s\n",
      "[Parallel(n_jobs=-1)]: Done 100 out of 100 | elapsed:   39.8s finished\n",
      "[Parallel(n_jobs=4)]: Using backend ThreadingBackend with 4 concurrent workers.\n",
      "[Parallel(n_jobs=4)]: Done  42 tasks      | elapsed:    0.2s\n"
     ]
    },
    {
     "name": "stdout",
     "output_type": "stream",
     "text": [
      "Точность модели по метрике MAPE: 13.51%.\n"
     ]
    },
    {
     "name": "stderr",
     "output_type": "stream",
     "text": [
      "[Parallel(n_jobs=4)]: Done 100 out of 100 | elapsed:    0.5s finished\n"
     ]
    }
   ],
   "source": [
    "\"\"\"# данные после LabelEncoding, MinMaxScaler и дефолтные параметры\n",
    "rf_def_stan = RandomForestRegressor(random_state=RANDOM_SEED, n_jobs=-1, verbose=1)\n",
    "rf_def_stan.fit(X_train_sc, np.log(y_train_sc))\n",
    "predict_rf_def_stan = np.exp(rf_def_stan.predict(X_test_sc))\n",
    "result = round((mape(y_test_sc, predict_rf_def_stan) * 100),2)\n",
    "print(f\"Точность модели по метрике MAPE: {result}%.\")\n",
    "#df_Result.loc[len(df_Result)] = ['rf_log_adv', result]\n",
    "# Точность модели по метрике MAPE: 13.51%.\"\"\""
   ]
  },
  {
   "cell_type": "code",
   "execution_count": 55,
   "metadata": {},
   "outputs": [
    {
     "name": "stderr",
     "output_type": "stream",
     "text": [
      "[Parallel(n_jobs=-1)]: Using backend ThreadingBackend with 4 concurrent workers.\n",
      "[Parallel(n_jobs=-1)]: Done  42 tasks      | elapsed:  1.8min\n",
      "[Parallel(n_jobs=-1)]: Done 100 out of 100 | elapsed:  4.0min finished\n",
      "[Parallel(n_jobs=4)]: Using backend ThreadingBackend with 4 concurrent workers.\n",
      "[Parallel(n_jobs=4)]: Done  42 tasks      | elapsed:    0.2s\n"
     ]
    },
    {
     "name": "stdout",
     "output_type": "stream",
     "text": [
      "Точность модели по метрике MAPE: 13.34%.\n"
     ]
    },
    {
     "name": "stderr",
     "output_type": "stream",
     "text": [
      "[Parallel(n_jobs=4)]: Done 100 out of 100 | elapsed:    0.6s finished\n"
     ]
    }
   ],
   "source": [
    "# данные после LabelEncoding,  MinMaxScaler, getDummies и дефолтные параметры\n",
    "rf_def_stan_dumm = RandomForestRegressor(random_state=RANDOM_SEED, n_jobs=-1, verbose=1)\n",
    "rf_def_stan_dumm.fit(X_train_sc_dumm, np.log(y_train_sc_dumm))\n",
    "predict_rf_def_stan_dumm = np.exp(rf_def_stan_dumm.predict(X_test_sc_dumm))\n",
    "\n",
    "result = round((mape(y_test_sc_dumm, predict_rf_def_stan_dumm) * 100),2)\n",
    "print(f\"Точность модели по метрике MAPE: {result}%.\")\n",
    "df_Result.loc[len(df_Result)] = ['rf_def_stan_dumm', result]\n",
    "# Точность модели по метрике MAPE: 13.34%."
   ]
  },
  {
   "cell_type": "markdown",
   "metadata": {},
   "source": [
    "Промежуточные выводы по модели RandomForestRegressor:\n",
    "1. Модель показала себя хуже чем CatBoost, лучший результат 13.34%.\n",
    "2. Хорошо при обучении себя провила стандартизация данных (+0.3%) и даммикодирование (+0.17)"
   ]
  },
  {
   "cell_type": "code",
   "execution_count": 56,
   "metadata": {},
   "outputs": [
    {
     "data": {
      "text/html": [
       "<div>\n",
       "<style scoped>\n",
       "    .dataframe tbody tr th:only-of-type {\n",
       "        vertical-align: middle;\n",
       "    }\n",
       "\n",
       "    .dataframe tbody tr th {\n",
       "        vertical-align: top;\n",
       "    }\n",
       "\n",
       "    .dataframe thead th {\n",
       "        text-align: right;\n",
       "    }\n",
       "</style>\n",
       "<table border=\"1\" class=\"dataframe\">\n",
       "  <thead>\n",
       "    <tr style=\"text-align: right;\">\n",
       "      <th></th>\n",
       "      <th>model</th>\n",
       "      <th>MAPE</th>\n",
       "    </tr>\n",
       "  </thead>\n",
       "  <tbody>\n",
       "    <tr>\n",
       "      <th>0</th>\n",
       "      <td>naiv</td>\n",
       "      <td>63.27</td>\n",
       "    </tr>\n",
       "    <tr>\n",
       "      <th>1</th>\n",
       "      <td>catb_log_adv</td>\n",
       "      <td>12.58</td>\n",
       "    </tr>\n",
       "    <tr>\n",
       "      <th>2</th>\n",
       "      <td>rf_def</td>\n",
       "      <td>13.51</td>\n",
       "    </tr>\n",
       "    <tr>\n",
       "      <th>3</th>\n",
       "      <td>rf_def_stan_dumm</td>\n",
       "      <td>13.34</td>\n",
       "    </tr>\n",
       "  </tbody>\n",
       "</table>\n",
       "</div>"
      ],
      "text/plain": [
       "              model   MAPE\n",
       "0              naiv  63.27\n",
       "1      catb_log_adv  12.58\n",
       "2            rf_def  13.51\n",
       "3  rf_def_stan_dumm  13.34"
      ]
     },
     "execution_count": 56,
     "metadata": {},
     "output_type": "execute_result"
    }
   ],
   "source": [
    "df_Result"
   ]
  },
  {
   "cell_type": "markdown",
   "metadata": {},
   "source": [
    "# Model 3 - DecisionTreeRegressor"
   ]
  },
  {
   "cell_type": "markdown",
   "metadata": {},
   "source": [
    "## DefPar - 17.12%"
   ]
  },
  {
   "cell_type": "code",
   "execution_count": 32,
   "metadata": {},
   "outputs": [
    {
     "name": "stdout",
     "output_type": "stream",
     "text": [
      "Точность модели по метрике MAPE: 17.12%.\n"
     ]
    }
   ],
   "source": [
    "dt_def = DecisionTreeRegressor(max_depth=15, random_state = RANDOM_SEED)\n",
    "dt_def.fit(X_train, np.log(y_train))\n",
    "predict_dt_def = np.exp(dt_def.predict(X_test))\n",
    "result = round((mape(y_test, predict_dt_def) * 100),2)\n",
    "print(f\"Точность модели по метрике MAPE: {result}%.\")\n",
    "# Точность модели по метрике MAPE: 17.12%."
   ]
  },
  {
   "cell_type": "markdown",
   "metadata": {},
   "source": [
    "## DefPar_Stan -  17.12%"
   ]
  },
  {
   "cell_type": "code",
   "execution_count": 31,
   "metadata": {},
   "outputs": [
    {
     "name": "stdout",
     "output_type": "stream",
     "text": [
      "Точность модели по метрике MAPE: 17.12%.\n"
     ]
    }
   ],
   "source": [
    "# данные стандартизированы, дефолтные параметры\n",
    "dt_def_sc = DecisionTreeRegressor(max_depth=15, random_state = RANDOM_SEED)\n",
    "dt_def_sc.fit(X_train_sc, np.log(y_train_sc))\n",
    "predict_dt_def_sc = np.exp(dt_def_sc.predict(X_test_sc))\n",
    "result = round((mape(y_test_sc, predict_dt_def_sc) * 100),2)\n",
    "print(f\"Точность модели по метрике MAPE: {result}%.\")\n",
    "# Точность модели по метрике MAPE: 17.12%."
   ]
  },
  {
   "cell_type": "code",
   "execution_count": 65,
   "metadata": {},
   "outputs": [
    {
     "name": "stdout",
     "output_type": "stream",
     "text": [
      "Точность модели по метрике MAPE: 17.28%.\n"
     ]
    }
   ],
   "source": [
    "\"\"\"# данные стандартизированы + даммизированы, дефолтные параметры\n",
    "dt_def_sc_dumm = DecisionTreeRegressor(max_depth=15, random_state = RANDOM_SEED)\n",
    "dt_def_sc_dumm.fit(X_train_sc_dumm, np.log(y_train_sc_dumm))\n",
    "predict_dt_def_sc_dumm = np.exp(dt_def_sc_dumm.predict(X_test_sc_dumm))\n",
    "result = round((mape(y_test_sc_dumm, predict_dt_def_sc_dumm) * 100),2)\n",
    "print(f\"Точность модели по метрике MAPE: {result}%.\")\n",
    "# Точность модели по метрике MAPE: 17.28%.\"\"\""
   ]
  },
  {
   "cell_type": "markdown",
   "metadata": {},
   "source": [
    "## AdvPar_Stan"
   ]
  },
  {
   "cell_type": "code",
   "execution_count": 42,
   "metadata": {},
   "outputs": [
    {
     "data": {
      "text/plain": [
       "'parameters = {\\'splitter\\':(\\'best\\',\\'random\\'), \\n              \\'max_depth\\':np.arange(10,20), \\n              \\'min_samples_split\\':np.arange(2,10), \\n              \\'min_samples_leaf\\':np.arange(2,10)}\\n\\nregressor = GridSearchCV(DecisionTreeRegressor(), parameters, cv = 3)\\nregressor.fit(X_train_sc, np.log(y_train_sc+1))\\n\\nprint(\\'Best score: \\', regressor.best_score_)\\nprint(regressor.best_params_)\\ndt_adv_sc = regressor.best_estimator_\\npredict_dt_adv_sc = np.exp(dt_adv_sc.predict(X_test_sc))\\nresult = round((mape(y_test_sc, predict_dt_adv_sc) * 100),2)\\nprint(f\"Точность модели по метрике MAPE: {result}%.\")'"
      ]
     },
     "execution_count": 42,
     "metadata": {},
     "output_type": "execute_result"
    }
   ],
   "source": [
    "\"\"\"parameters = {'splitter':('best','random'), \n",
    "              'max_depth':np.arange(10,20), \n",
    "              'min_samples_split':np.arange(2,10), \n",
    "              'min_samples_leaf':np.arange(2,10)}\n",
    "\n",
    "regressor = GridSearchCV(DecisionTreeRegressor(), parameters, cv = 3)\n",
    "regressor.fit(X_train_sc, np.log(y_train_sc+1))\n",
    "\n",
    "print('Best score: ', regressor.best_score_)\n",
    "print(regressor.best_params_)\n",
    "dt_adv_sc = regressor.best_estimator_\n",
    "predict_dt_adv_sc = np.exp(dt_adv_sc.predict(X_test_sc))\n",
    "result = round((mape(y_test_sc, predict_dt_adv_sc) * 100),2)\n",
    "print(f\"Точность модели по метрике MAPE: {result}%.\")\"\"\""
   ]
  },
  {
   "cell_type": "code",
   "execution_count": 74,
   "metadata": {},
   "outputs": [
    {
     "name": "stdout",
     "output_type": "stream",
     "text": [
      "{'max_depth': 9, 'min_samples_leaf': 4, 'min_samples_split': 9, 'splitter': 'best'}\n"
     ]
    }
   ],
   "source": [
    "print(regressor.best_params_)"
   ]
  },
  {
   "cell_type": "markdown",
   "metadata": {},
   "source": [
    "Промежуточные выводы по DecisionTreeRegressor:\n",
    "1. Точность предсказания плохая по сравнению с другими моделями.\n",
    "2. Стандартизирование не улучшило ситуацию, даммизирование даже ухудшило.\n",
    "3. Подбор лучших параметров работает долго, не буду дальше улучшать эту модель.."
   ]
  },
  {
   "cell_type": "markdown",
   "metadata": {},
   "source": [
    "# Model 4 - ExtraTreesRegressor"
   ]
  },
  {
   "cell_type": "markdown",
   "metadata": {},
   "source": [
    "## DefPar - 13.82%"
   ]
  },
  {
   "cell_type": "code",
   "execution_count": 34,
   "metadata": {},
   "outputs": [
    {
     "name": "stderr",
     "output_type": "stream",
     "text": [
      "[Parallel(n_jobs=-1)]: Using backend ThreadingBackend with 4 concurrent workers.\n",
      "[Parallel(n_jobs=-1)]: Done  42 tasks      | elapsed:   27.7s\n",
      "[Parallel(n_jobs=-1)]: Done 100 out of 100 | elapsed:  1.1min finished\n",
      "[Parallel(n_jobs=4)]: Using backend ThreadingBackend with 4 concurrent workers.\n",
      "[Parallel(n_jobs=4)]: Done  42 tasks      | elapsed:    0.4s\n"
     ]
    },
    {
     "name": "stdout",
     "output_type": "stream",
     "text": [
      "Точность модели по метрике MAPE: 13.82%\n"
     ]
    },
    {
     "name": "stderr",
     "output_type": "stream",
     "text": [
      "[Parallel(n_jobs=4)]: Done 100 out of 100 | elapsed:    0.9s finished\n"
     ]
    }
   ],
   "source": [
    "etr_def = ExtraTreesRegressor(random_state=RANDOM_SEED, n_jobs=-1, verbose=1)\n",
    "etr_def.fit(X_train, np.log(y_train+1))\n",
    "predict_etr_def = np.exp(etr_def.predict(X_test))\n",
    "result = round((mape(y_test, predict_etr_def) * 100),2)\n",
    "print(f\"Точность модели по метрике MAPE: {result}%\")\n",
    "# Точность модели по метрике MAPE: 13.82%"
   ]
  },
  {
   "cell_type": "markdown",
   "metadata": {},
   "source": [
    "## DefPar_Stan - 13.54%"
   ]
  },
  {
   "cell_type": "code",
   "execution_count": 39,
   "metadata": {},
   "outputs": [
    {
     "name": "stderr",
     "output_type": "stream",
     "text": [
      "[Parallel(n_jobs=-1)]: Using backend ThreadingBackend with 4 concurrent workers.\n",
      "[Parallel(n_jobs=-1)]: Done  42 tasks      | elapsed:   30.7s\n",
      "[Parallel(n_jobs=-1)]: Done 100 out of 100 | elapsed:  1.1min finished\n",
      "[Parallel(n_jobs=4)]: Using backend ThreadingBackend with 4 concurrent workers.\n",
      "[Parallel(n_jobs=4)]: Done  42 tasks      | elapsed:    0.3s\n"
     ]
    },
    {
     "name": "stdout",
     "output_type": "stream",
     "text": [
      "Точность модели по метрике MAPE: 13.83%\n"
     ]
    },
    {
     "name": "stderr",
     "output_type": "stream",
     "text": [
      "[Parallel(n_jobs=4)]: Done 100 out of 100 | elapsed:    0.9s finished\n"
     ]
    }
   ],
   "source": [
    "# данные стандартизированы, дефолтные параметры\n",
    "etr_def = ExtraTreesRegressor(random_state=RANDOM_SEED, n_jobs=-1, verbose=1)\n",
    "etr_def.fit(X_train_sc, np.log(y_train_sc+1))\n",
    "predict_etr_def = np.exp(etr_def.predict(X_test_sc))\n",
    "result = round((mape(y_test_sc, predict_etr_def) * 100),2)\n",
    "print(f\"Точность модели по метрике MAPE: {result}%\")\n",
    "# Точность модели по метрике MAPE: 13.83%"
   ]
  },
  {
   "cell_type": "code",
   "execution_count": 40,
   "metadata": {},
   "outputs": [
    {
     "name": "stderr",
     "output_type": "stream",
     "text": [
      "[Parallel(n_jobs=-1)]: Using backend ThreadingBackend with 4 concurrent workers.\n",
      "[Parallel(n_jobs=-1)]: Done  42 tasks      | elapsed:  4.7min\n",
      "[Parallel(n_jobs=-1)]: Done 100 out of 100 | elapsed: 10.6min finished\n",
      "[Parallel(n_jobs=4)]: Using backend ThreadingBackend with 4 concurrent workers.\n",
      "[Parallel(n_jobs=4)]: Done  42 tasks      | elapsed:    0.4s\n"
     ]
    },
    {
     "name": "stdout",
     "output_type": "stream",
     "text": [
      "Точность модели по метрике MAPE: 13.54%\n"
     ]
    },
    {
     "name": "stderr",
     "output_type": "stream",
     "text": [
      "[Parallel(n_jobs=4)]: Done 100 out of 100 | elapsed:    1.1s finished\n"
     ]
    }
   ],
   "source": [
    "# данные стандартизированы + даммизированы, дефолтные параметры\n",
    "etr_def = ExtraTreesRegressor(random_state=RANDOM_SEED, n_jobs=-1, verbose=1)\n",
    "etr_def.fit(X_train_sc_dumm, np.log(y_train_sc_dumm+1))\n",
    "predict_etr_def = np.exp(etr_def.predict(X_test_sc_dumm))\n",
    "result = round((mape(y_test_sc_dumm, predict_etr_def) * 100),2)\n",
    "print(f\"Точность модели по метрике MAPE: {result}%\")\n",
    "# Точность модели по метрике MAPE: 13.54%"
   ]
  },
  {
   "cell_type": "markdown",
   "metadata": {},
   "source": [
    "## DefPar_KFold - 13.61%"
   ]
  },
  {
   "cell_type": "code",
   "execution_count": 43,
   "metadata": {},
   "outputs": [
    {
     "name": "stdout",
     "output_type": "stream",
     "text": [
      "TRAIN: [     1      2      5 ... 133052 133053 133054] TEST: [     0      3      4 ... 133045 133046 133050]\n"
     ]
    },
    {
     "name": "stderr",
     "output_type": "stream",
     "text": [
      "[Parallel(n_jobs=-1)]: Using backend ThreadingBackend with 4 concurrent workers.\n",
      "[Parallel(n_jobs=-1)]: Done  42 tasks      | elapsed:   15.1s\n",
      "[Parallel(n_jobs=-1)]: Done 100 out of 100 | elapsed:   34.6s finished\n",
      "[Parallel(n_jobs=4)]: Using backend ThreadingBackend with 4 concurrent workers.\n",
      "[Parallel(n_jobs=4)]: Done  42 tasks      | elapsed:    0.2s\n",
      "[Parallel(n_jobs=4)]: Done 100 out of 100 | elapsed:    0.5s finished\n"
     ]
    },
    {
     "name": "stdout",
     "output_type": "stream",
     "text": [
      "[0.13641810126820308]\n",
      "TRAIN: [     0      2      3 ... 133048 133050 133054] TEST: [     1      7      8 ... 133051 133052 133053]\n"
     ]
    },
    {
     "name": "stderr",
     "output_type": "stream",
     "text": [
      "[Parallel(n_jobs=-1)]: Using backend ThreadingBackend with 4 concurrent workers.\n",
      "[Parallel(n_jobs=-1)]: Done  42 tasks      | elapsed:   14.9s\n",
      "[Parallel(n_jobs=-1)]: Done 100 out of 100 | elapsed:   35.2s finished\n",
      "[Parallel(n_jobs=4)]: Using backend ThreadingBackend with 4 concurrent workers.\n",
      "[Parallel(n_jobs=4)]: Done  42 tasks      | elapsed:    0.2s\n",
      "[Parallel(n_jobs=4)]: Done 100 out of 100 | elapsed:    0.6s finished\n"
     ]
    },
    {
     "name": "stdout",
     "output_type": "stream",
     "text": [
      "[0.13641810126820308, 0.13690322991652734]\n",
      "TRAIN: [     0      1      2 ... 133052 133053 133054] TEST: [     6      9     10 ... 133032 133033 133048]\n"
     ]
    },
    {
     "name": "stderr",
     "output_type": "stream",
     "text": [
      "[Parallel(n_jobs=-1)]: Using backend ThreadingBackend with 4 concurrent workers.\n",
      "[Parallel(n_jobs=-1)]: Done  42 tasks      | elapsed:   15.1s\n",
      "[Parallel(n_jobs=-1)]: Done 100 out of 100 | elapsed:   34.1s finished\n",
      "[Parallel(n_jobs=4)]: Using backend ThreadingBackend with 4 concurrent workers.\n",
      "[Parallel(n_jobs=4)]: Done  42 tasks      | elapsed:    0.2s\n",
      "[Parallel(n_jobs=4)]: Done 100 out of 100 | elapsed:    0.5s finished\n"
     ]
    },
    {
     "name": "stdout",
     "output_type": "stream",
     "text": [
      "[0.13641810126820308, 0.13690322991652734, 0.13530346069310104]\n",
      "TRAIN: [     0      1      3 ... 133051 133052 133053] TEST: [     2      5     14 ... 133039 133041 133054]\n"
     ]
    },
    {
     "name": "stderr",
     "output_type": "stream",
     "text": [
      "[Parallel(n_jobs=-1)]: Using backend ThreadingBackend with 4 concurrent workers.\n",
      "[Parallel(n_jobs=-1)]: Done  42 tasks      | elapsed:   15.0s\n",
      "[Parallel(n_jobs=-1)]: Done 100 out of 100 | elapsed:   34.3s finished\n",
      "[Parallel(n_jobs=4)]: Using backend ThreadingBackend with 4 concurrent workers.\n",
      "[Parallel(n_jobs=4)]: Done  42 tasks      | elapsed:    0.2s\n"
     ]
    },
    {
     "name": "stdout",
     "output_type": "stream",
     "text": [
      "[0.13641810126820308, 0.13690322991652734, 0.13530346069310104, 0.1356546649831521]\n",
      "Точность модели по метрике MAPE: 13.61%.\n"
     ]
    },
    {
     "name": "stderr",
     "output_type": "stream",
     "text": [
      "[Parallel(n_jobs=4)]: Done 100 out of 100 | elapsed:    0.5s finished\n"
     ]
    }
   ],
   "source": [
    "#данные LabelEncoding, дефолтные параметры, KFold с n_splits=4\n",
    "etr_KFold = ExtraTreesRegressor(random_state=RANDOM_SEED, n_jobs=-1, verbose=1)\n",
    "\n",
    "skf = KFold(n_splits=4, random_state=RANDOM_SEED, shuffle=True)\n",
    "etr_mape_values = []\n",
    "\n",
    "for train_index, test_index in skf.split(X_sc_dumm, y):\n",
    "    print(\"TRAIN:\", train_index, \"TEST:\", test_index)\n",
    "    X_train, X_test = X[X.index.isin(train_index)], X[X.index.isin(test_index)]\n",
    "    y_train, y_test = y[y.index.isin(train_index)], y[y.index.isin(test_index)]\n",
    "    \n",
    "    # For training, fit() is used\n",
    "    etr_KFold.fit(X_train, np.log(y_train))\n",
    "\n",
    "    # For MAPE metric (or any other), we need the predictions of the model\n",
    "    y_pred = np.exp(etr_KFold.predict(X_test))\n",
    "\n",
    "    etr_mape_value = mape(y_test, y_pred)\n",
    "    etr_mape_values.append(etr_mape_value)\n",
    "    print(etr_mape_values)\n",
    "\n",
    "print(f\"Точность модели по метрике MAPE: {(np.mean(etr_mape_values) * 100):0.2f}%.\")\n",
    "# Точность модели по метрике MAPE: 13.61%.\n",
    "# Точность модели по метрике MAPE: 13.61%. после стандартизации\n",
    "# Точность модели по метрике MAPE: 13.61%. после стандартизации и даммизации"
   ]
  },
  {
   "cell_type": "markdown",
   "metadata": {},
   "source": [
    "## AdvPar_Stan_Dumm"
   ]
  },
  {
   "cell_type": "code",
   "execution_count": 219,
   "metadata": {},
   "outputs": [
    {
     "name": "stdout",
     "output_type": "stream",
     "text": [
      "-1.1835837550363504                                                                                                    \n",
      "{'max_depth': 4, 'min_samples_leaf': 4, 'min_samples_split': 6, 'n_estimators': 860}                                   \n",
      "-1.2286323173220193                                                                                                    \n",
      "{'max_depth': 4, 'min_samples_leaf': 4, 'min_samples_split': 4, 'n_estimators': 555}                                   \n",
      "-0.31516124124557376                                                                                                   \n",
      "{'max_depth': 11, 'min_samples_leaf': 2, 'min_samples_split': 8, 'n_estimators': 771}                                  \n",
      "-0.2621432935878934                                                                                                    \n",
      "{'max_depth': 13, 'min_samples_leaf': 2, 'min_samples_split': 6, 'n_estimators': 592}                                  \n",
      "-0.5271010193481565                                                                                                    \n",
      "{'max_depth': 8, 'min_samples_leaf': 2, 'min_samples_split': 7, 'n_estimators': 309}                                   \n",
      "0.16532263726262444                                                                                                    \n",
      "{'max_depth': 1, 'min_samples_leaf': 1, 'min_samples_split': 5, 'n_estimators': 115}                                   \n",
      "-0.8999567617488354                                                                                                    \n",
      "{'max_depth': 6, 'min_samples_leaf': 1, 'min_samples_split': 2, 'n_estimators': 646}                                   \n",
      "0.21114015898341654                                                                                                    \n",
      "{'max_depth': 1, 'min_samples_leaf': 2, 'min_samples_split': 9, 'n_estimators': 229}                                   \n",
      "-1.1516213791768872                                                                                                    \n",
      "{'max_depth': 6, 'min_samples_leaf': 3, 'min_samples_split': 7, 'n_estimators': 956}                                   \n",
      "-0.8710863844787567                                                                                                    \n",
      "{'max_depth': 3, 'min_samples_leaf': 4, 'min_samples_split': 4, 'n_estimators': 236}                                   \n",
      "100%|█████████████████████████████████████████████| 10/10 [45:32<00:00, 273.24s/trial, best loss: -0.21114015898341654]\n"
     ]
    },
    {
     "data": {
      "text/plain": [
       "{'max_depth': 0,\n",
       " 'min_samples_leaf': 1,\n",
       " 'min_samples_split': 7,\n",
       " 'n_estimators': 129}"
      ]
     },
     "execution_count": 219,
     "metadata": {},
     "output_type": "execute_result"
    }
   ],
   "source": [
    "space_etr = {\n",
    "            'n_estimators': hp.choice('n_estimators', range(100, 1000)),\n",
    "            'max_depth':  hp.choice('max_depth', np.arange(1, 14, dtype=int)),\n",
    "            'min_samples_split': hp.choice('min_samples_split',np.arange(2,10, 1, dtype=int)),\n",
    "            'min_samples_leaf': hp.choice('min_samples_leaf',np.arange(1,5, 1, dtype=int)),\n",
    "             }\n",
    "\n",
    "def hyperopt_etr_score(params):\n",
    "    clf = ExtraTreesRegressor(**params)\n",
    "    # усреднение по 3ем фолдам, для уменьшения влияния стахостичности\n",
    "    # для ускорения можно использовать train_test_split один раз\n",
    "    current_score = cross_val_score(clf, X, y, cv=3).mean()\n",
    "    print(current_score, params)\n",
    "    return -current_score\n",
    " \n",
    " \n",
    "simple_space_etr = {\n",
    "            'n_estimators': hp.choice('n_estimators', range(100, 1000)),\n",
    "            'max_depth':  hp.choice('max_depth', np.arange(1, 14, dtype=int)),\n",
    "            'min_samples_split': hp.choice('min_samples_split',np.arange(2,10, 1, dtype=int)),\n",
    "            'min_samples_leaf': hp.choice('min_samples_leaf',np.arange(1,5, 1, dtype=int)),\n",
    "               }\n",
    " \n",
    "best = fmin(fn=hyperopt_etr_score, space=simple_space_etr, algo=tpe.suggest, max_evals=10)\n",
    "best"
   ]
  },
  {
   "cell_type": "code",
   "execution_count": 221,
   "metadata": {},
   "outputs": [
    {
     "name": "stdout",
     "output_type": "stream",
     "text": [
      "100%|████████████████████████████████████████████████| 20/20 [04:34<00:00, 13.71s/trial, best loss: 0.1502856480972811]\n"
     ]
    }
   ],
   "source": [
    "#hp.uniform('n_estimators',100,500),\n",
    "#hp.choice(\"n_estimators\", [int(x) for x in np.linspace(200, 1000, num = 17)])\n",
    "\n",
    "def objective(params):\n",
    "     model=ExtraTreesRegressor(\n",
    "         n_estimators=int(params['n_estimators']),\n",
    "         max_depth=int(params['max_depth']),\n",
    "         min_samples_leaf=int(params['min_samples_leaf']),\n",
    "         min_samples_split=int(params['min_samples_split']),\n",
    "         bootstrap=params['bootstrap'],\n",
    "         max_features=params['max_features'],\n",
    "         #random_state=RANDOM_SEED,\n",
    "         n_jobs=-1,\n",
    "         early_stopping_rounds = 10\n",
    "     )\n",
    "     model.fit(X_train, np.log(y_train))\n",
    "     pred=model.predict(X_test)\n",
    "     score=mape(y_test,np.exp(pred))\n",
    "     return score\n",
    "\n",
    "def optimize(trial):    \n",
    "    params={\n",
    "         'n_estimators': hp.choice('n_estimators', range(100, 500)),\n",
    "         'max_features': hp.choice(\"max_features\", ['auto', 'sqrt']),\n",
    "         'max_depth': hp.choice('max_depth',np.arange(5,15, dtype=int)),\n",
    "         'min_samples_split': hp.choice('min_samples_split',np.arange(2,10, 1, dtype=int)),\n",
    "         'min_samples_leaf': hp.choice('min_samples_leaf',np.arange(1,5, 1, dtype=int)),\n",
    "         'bootstrap': hp.choice(\"bootstrap\", [True, False]),\n",
    "     }\n",
    "                \n",
    "    best=fmin(fn=objective, space=params, algo=tpe.suggest, trials=trial, max_evals=20)\n",
    "    return best\n",
    "\n",
    "trial=Trials()\n",
    "best=optimize(trial)\n",
    "best"
   ]
  },
  {
   "cell_type": "code",
   "execution_count": 222,
   "metadata": {},
   "outputs": [
    {
     "data": {
      "text/plain": [
       "{'bootstrap': 1,\n",
       " 'max_depth': 9,\n",
       " 'max_features': 0,\n",
       " 'min_samples_leaf': 3,\n",
       " 'min_samples_split': 6,\n",
       " 'n_estimators': 115}"
      ]
     },
     "execution_count": 222,
     "metadata": {},
     "output_type": "execute_result"
    }
   ],
   "source": [
    "best"
   ]
  },
  {
   "cell_type": "code",
   "execution_count": 224,
   "metadata": {},
   "outputs": [
    {
     "ename": "NameError",
     "evalue": "name 'hp_results' is not defined",
     "output_type": "error",
     "traceback": [
      "\u001b[1;31m---------------------------------------------------------------------------\u001b[0m",
      "\u001b[1;31mNameError\u001b[0m                                 Traceback (most recent call last)",
      "\u001b[1;32m<ipython-input-224-408611ee8f56>\u001b[0m in \u001b[0;36m<module>\u001b[1;34m\u001b[0m\n\u001b[1;32m----> 1\u001b[1;33m \u001b[0mhp_results\u001b[0m\u001b[1;33m\u001b[0m\u001b[1;33m\u001b[0m\u001b[0m\n\u001b[0m",
      "\u001b[1;31mNameError\u001b[0m: name 'hp_results' is not defined"
     ]
    }
   ],
   "source": [
    "hp_results"
   ]
  },
  {
   "cell_type": "markdown",
   "metadata": {},
   "source": [
    "# Model 5 - GradientBoostingRegressor"
   ]
  },
  {
   "cell_type": "markdown",
   "metadata": {},
   "source": [
    "## DefPar - 12.85%"
   ]
  },
  {
   "cell_type": "code",
   "execution_count": 44,
   "metadata": {},
   "outputs": [
    {
     "name": "stdout",
     "output_type": "stream",
     "text": [
      "Точность модели по метрике MAPE: 12.85%\n"
     ]
    }
   ],
   "source": [
    "gb_def = GradientBoostingRegressor(min_samples_split=2, learning_rate=0.03, max_depth=10, n_estimators=300)\n",
    "gb_def.fit(X_train, np.log(y_train+1))\n",
    "predict_gb_def = np.exp(gb_def.predict(X_test))\n",
    "result = round((mape(y_test, predict_gb_def) * 100),2)\n",
    "print(f\"Точность модели по метрике MAPE: {result}%\")\n",
    "# Точность модели по метрике MAPE: 12.85%"
   ]
  },
  {
   "cell_type": "markdown",
   "metadata": {},
   "source": [
    "## DefPar_Stan"
   ]
  },
  {
   "cell_type": "code",
   "execution_count": 52,
   "metadata": {},
   "outputs": [
    {
     "name": "stdout",
     "output_type": "stream",
     "text": [
      "Точность модели по метрике MAPE: 13.0%\n"
     ]
    }
   ],
   "source": [
    "# данные стандартизированы, дефолтные параметры\n",
    "gb_def = GradientBoostingRegressor(min_samples_split=2, learning_rate=0.03, max_depth=10, n_estimators=300)\n",
    "gb_def.fit(X_train_sc, np.log(y_train_sc+1))\n",
    "predict_gb_def = np.exp(gb_def.predict(X_test_sc))\n",
    "result = round((mape(y_test_sc, predict_gb_def) * 100),2)\n",
    "print(f\"Точность модели по метрике MAPE: {result}%\")\n",
    "# Точность модели по метрике MAPE: 13.0%"
   ]
  },
  {
   "cell_type": "code",
   "execution_count": 53,
   "metadata": {},
   "outputs": [
    {
     "ename": "KeyboardInterrupt",
     "evalue": "",
     "output_type": "error",
     "traceback": [
      "\u001b[1;31m---------------------------------------------------------------------------\u001b[0m",
      "\u001b[1;31mKeyboardInterrupt\u001b[0m                         Traceback (most recent call last)",
      "\u001b[1;32m<ipython-input-53-9bb84ed6dc5c>\u001b[0m in \u001b[0;36m<module>\u001b[1;34m\u001b[0m\n\u001b[0;32m      1\u001b[0m \u001b[1;31m# данные стандартизированы + даммизирвоанные, дефолтные параметры\u001b[0m\u001b[1;33m\u001b[0m\u001b[1;33m\u001b[0m\u001b[1;33m\u001b[0m\u001b[0m\n\u001b[0;32m      2\u001b[0m \u001b[0mgb_def\u001b[0m \u001b[1;33m=\u001b[0m \u001b[0mGradientBoostingRegressor\u001b[0m\u001b[1;33m(\u001b[0m\u001b[0mmin_samples_split\u001b[0m\u001b[1;33m=\u001b[0m\u001b[1;36m2\u001b[0m\u001b[1;33m,\u001b[0m \u001b[0mlearning_rate\u001b[0m\u001b[1;33m=\u001b[0m\u001b[1;36m0.03\u001b[0m\u001b[1;33m,\u001b[0m \u001b[0mmax_depth\u001b[0m\u001b[1;33m=\u001b[0m\u001b[1;36m10\u001b[0m\u001b[1;33m,\u001b[0m \u001b[0mn_estimators\u001b[0m\u001b[1;33m=\u001b[0m\u001b[1;36m300\u001b[0m\u001b[1;33m)\u001b[0m\u001b[1;33m\u001b[0m\u001b[1;33m\u001b[0m\u001b[0m\n\u001b[1;32m----> 3\u001b[1;33m \u001b[0mgb_def\u001b[0m\u001b[1;33m.\u001b[0m\u001b[0mfit\u001b[0m\u001b[1;33m(\u001b[0m\u001b[0mX_train_sc_dumm\u001b[0m\u001b[1;33m,\u001b[0m \u001b[0mnp\u001b[0m\u001b[1;33m.\u001b[0m\u001b[0mlog\u001b[0m\u001b[1;33m(\u001b[0m\u001b[0my_train_sc_dumm\u001b[0m\u001b[1;33m+\u001b[0m\u001b[1;36m1\u001b[0m\u001b[1;33m)\u001b[0m\u001b[1;33m)\u001b[0m\u001b[1;33m\u001b[0m\u001b[1;33m\u001b[0m\u001b[0m\n\u001b[0m\u001b[0;32m      4\u001b[0m \u001b[0mpredict_gb_def\u001b[0m \u001b[1;33m=\u001b[0m \u001b[0mnp\u001b[0m\u001b[1;33m.\u001b[0m\u001b[0mexp\u001b[0m\u001b[1;33m(\u001b[0m\u001b[0mgb_def\u001b[0m\u001b[1;33m.\u001b[0m\u001b[0mpredict\u001b[0m\u001b[1;33m(\u001b[0m\u001b[0mX_test_sc_dumm\u001b[0m\u001b[1;33m)\u001b[0m\u001b[1;33m)\u001b[0m\u001b[1;33m\u001b[0m\u001b[1;33m\u001b[0m\u001b[0m\n\u001b[0;32m      5\u001b[0m \u001b[0mresult\u001b[0m \u001b[1;33m=\u001b[0m \u001b[0mround\u001b[0m\u001b[1;33m(\u001b[0m\u001b[1;33m(\u001b[0m\u001b[0mmape\u001b[0m\u001b[1;33m(\u001b[0m\u001b[0my_test_sc_dumm\u001b[0m\u001b[1;33m,\u001b[0m \u001b[0mpredict_gb_def\u001b[0m\u001b[1;33m)\u001b[0m \u001b[1;33m*\u001b[0m \u001b[1;36m100\u001b[0m\u001b[1;33m)\u001b[0m\u001b[1;33m,\u001b[0m\u001b[1;36m2\u001b[0m\u001b[1;33m)\u001b[0m\u001b[1;33m\u001b[0m\u001b[1;33m\u001b[0m\u001b[0m\n",
      "\u001b[1;32mC:\\Program Files\\Python\\Anaconda3\\lib\\site-packages\\sklearn\\ensemble\\_gb.py\u001b[0m in \u001b[0;36mfit\u001b[1;34m(self, X, y, sample_weight, monitor)\u001b[0m\n\u001b[0;32m    502\u001b[0m \u001b[1;33m\u001b[0m\u001b[0m\n\u001b[0;32m    503\u001b[0m         \u001b[1;31m# fit the boosting stages\u001b[0m\u001b[1;33m\u001b[0m\u001b[1;33m\u001b[0m\u001b[1;33m\u001b[0m\u001b[0m\n\u001b[1;32m--> 504\u001b[1;33m         n_stages = self._fit_stages(\n\u001b[0m\u001b[0;32m    505\u001b[0m             \u001b[0mX\u001b[0m\u001b[1;33m,\u001b[0m \u001b[0my\u001b[0m\u001b[1;33m,\u001b[0m \u001b[0mraw_predictions\u001b[0m\u001b[1;33m,\u001b[0m \u001b[0msample_weight\u001b[0m\u001b[1;33m,\u001b[0m \u001b[0mself\u001b[0m\u001b[1;33m.\u001b[0m\u001b[0m_rng\u001b[0m\u001b[1;33m,\u001b[0m \u001b[0mX_val\u001b[0m\u001b[1;33m,\u001b[0m \u001b[0my_val\u001b[0m\u001b[1;33m,\u001b[0m\u001b[1;33m\u001b[0m\u001b[1;33m\u001b[0m\u001b[0m\n\u001b[0;32m    506\u001b[0m             sample_weight_val, begin_at_stage, monitor)\n",
      "\u001b[1;32mC:\\Program Files\\Python\\Anaconda3\\lib\\site-packages\\sklearn\\ensemble\\_gb.py\u001b[0m in \u001b[0;36m_fit_stages\u001b[1;34m(self, X, y, raw_predictions, sample_weight, random_state, X_val, y_val, sample_weight_val, begin_at_stage, monitor)\u001b[0m\n\u001b[0;32m    559\u001b[0m \u001b[1;33m\u001b[0m\u001b[0m\n\u001b[0;32m    560\u001b[0m             \u001b[1;31m# fit next stage of trees\u001b[0m\u001b[1;33m\u001b[0m\u001b[1;33m\u001b[0m\u001b[1;33m\u001b[0m\u001b[0m\n\u001b[1;32m--> 561\u001b[1;33m             raw_predictions = self._fit_stage(\n\u001b[0m\u001b[0;32m    562\u001b[0m                 \u001b[0mi\u001b[0m\u001b[1;33m,\u001b[0m \u001b[0mX\u001b[0m\u001b[1;33m,\u001b[0m \u001b[0my\u001b[0m\u001b[1;33m,\u001b[0m \u001b[0mraw_predictions\u001b[0m\u001b[1;33m,\u001b[0m \u001b[0msample_weight\u001b[0m\u001b[1;33m,\u001b[0m \u001b[0msample_mask\u001b[0m\u001b[1;33m,\u001b[0m\u001b[1;33m\u001b[0m\u001b[1;33m\u001b[0m\u001b[0m\n\u001b[0;32m    563\u001b[0m                 random_state, X_csc, X_csr)\n",
      "\u001b[1;32mC:\\Program Files\\Python\\Anaconda3\\lib\\site-packages\\sklearn\\ensemble\\_gb.py\u001b[0m in \u001b[0;36m_fit_stage\u001b[1;34m(self, i, X, y, raw_predictions, sample_weight, sample_mask, random_state, X_csc, X_csr)\u001b[0m\n\u001b[0;32m    212\u001b[0m \u001b[1;33m\u001b[0m\u001b[0m\n\u001b[0;32m    213\u001b[0m             \u001b[0mX\u001b[0m \u001b[1;33m=\u001b[0m \u001b[0mX_csr\u001b[0m \u001b[1;32mif\u001b[0m \u001b[0mX_csr\u001b[0m \u001b[1;32mis\u001b[0m \u001b[1;32mnot\u001b[0m \u001b[1;32mNone\u001b[0m \u001b[1;32melse\u001b[0m \u001b[0mX\u001b[0m\u001b[1;33m\u001b[0m\u001b[1;33m\u001b[0m\u001b[0m\n\u001b[1;32m--> 214\u001b[1;33m             tree.fit(X, residual, sample_weight=sample_weight,\n\u001b[0m\u001b[0;32m    215\u001b[0m                      check_input=False)\n\u001b[0;32m    216\u001b[0m \u001b[1;33m\u001b[0m\u001b[0m\n",
      "\u001b[1;32mC:\\Program Files\\Python\\Anaconda3\\lib\\site-packages\\sklearn\\tree\\_classes.py\u001b[0m in \u001b[0;36mfit\u001b[1;34m(self, X, y, sample_weight, check_input, X_idx_sorted)\u001b[0m\n\u001b[0;32m   1245\u001b[0m         \"\"\"\n\u001b[0;32m   1246\u001b[0m \u001b[1;33m\u001b[0m\u001b[0m\n\u001b[1;32m-> 1247\u001b[1;33m         super().fit(\n\u001b[0m\u001b[0;32m   1248\u001b[0m             \u001b[0mX\u001b[0m\u001b[1;33m,\u001b[0m \u001b[0my\u001b[0m\u001b[1;33m,\u001b[0m\u001b[1;33m\u001b[0m\u001b[1;33m\u001b[0m\u001b[0m\n\u001b[0;32m   1249\u001b[0m             \u001b[0msample_weight\u001b[0m\u001b[1;33m=\u001b[0m\u001b[0msample_weight\u001b[0m\u001b[1;33m,\u001b[0m\u001b[1;33m\u001b[0m\u001b[1;33m\u001b[0m\u001b[0m\n",
      "\u001b[1;32mC:\\Program Files\\Python\\Anaconda3\\lib\\site-packages\\sklearn\\tree\\_classes.py\u001b[0m in \u001b[0;36mfit\u001b[1;34m(self, X, y, sample_weight, check_input, X_idx_sorted)\u001b[0m\n\u001b[0;32m    387\u001b[0m                                            min_impurity_split)\n\u001b[0;32m    388\u001b[0m \u001b[1;33m\u001b[0m\u001b[0m\n\u001b[1;32m--> 389\u001b[1;33m         \u001b[0mbuilder\u001b[0m\u001b[1;33m.\u001b[0m\u001b[0mbuild\u001b[0m\u001b[1;33m(\u001b[0m\u001b[0mself\u001b[0m\u001b[1;33m.\u001b[0m\u001b[0mtree_\u001b[0m\u001b[1;33m,\u001b[0m \u001b[0mX\u001b[0m\u001b[1;33m,\u001b[0m \u001b[0my\u001b[0m\u001b[1;33m,\u001b[0m \u001b[0msample_weight\u001b[0m\u001b[1;33m)\u001b[0m\u001b[1;33m\u001b[0m\u001b[1;33m\u001b[0m\u001b[0m\n\u001b[0m\u001b[0;32m    390\u001b[0m \u001b[1;33m\u001b[0m\u001b[0m\n\u001b[0;32m    391\u001b[0m         \u001b[1;32mif\u001b[0m \u001b[0mself\u001b[0m\u001b[1;33m.\u001b[0m\u001b[0mn_outputs_\u001b[0m \u001b[1;33m==\u001b[0m \u001b[1;36m1\u001b[0m \u001b[1;32mand\u001b[0m \u001b[0mis_classifier\u001b[0m\u001b[1;33m(\u001b[0m\u001b[0mself\u001b[0m\u001b[1;33m)\u001b[0m\u001b[1;33m:\u001b[0m\u001b[1;33m\u001b[0m\u001b[1;33m\u001b[0m\u001b[0m\n",
      "\u001b[1;31mKeyboardInterrupt\u001b[0m: "
     ]
    }
   ],
   "source": [
    "# данные стандартизированы + даммизирвоанные, дефолтные параметры\n",
    "gb_def = GradientBoostingRegressor(min_samples_split=2, learning_rate=0.03, max_depth=10, n_estimators=300)\n",
    "gb_def.fit(X_train_sc_dumm, np.log(y_train_sc_dumm+1))\n",
    "predict_gb_def = np.exp(gb_def.predict(X_test_sc_dumm))\n",
    "result = round((mape(y_test_sc_dumm, predict_gb_def) * 100),2)\n",
    "print(f\"Точность модели по метрике MAPE: {result}%\")\n",
    "# Точность модели по метрике MAPE: 13.0%"
   ]
  },
  {
   "cell_type": "markdown",
   "metadata": {},
   "source": [
    "# Model 6 - xgboost"
   ]
  },
  {
   "cell_type": "markdown",
   "metadata": {},
   "source": [
    "## DefPar - 12.27%"
   ]
  },
  {
   "cell_type": "code",
   "execution_count": 51,
   "metadata": {},
   "outputs": [
    {
     "name": "stdout",
     "output_type": "stream",
     "text": [
      "Точность модели по метрике MAPE: 12.27%\n"
     ]
    }
   ],
   "source": [
    "xb_def = xgb.XGBRegressor(objective='reg:squarederror', colsample_bytree=0.5, learning_rate=0.03, \\\n",
    "                      max_depth=12, alpha=1, n_jobs=-1, n_estimators=1000)\n",
    "xb_def.fit(X_train, np.log(y_train+1))\n",
    "predict_xb_def = np.exp(xb_def.predict(X_test))\n",
    "result = round((mape(y_test, predict_xb_def) * 100),2)\n",
    "print(f\"Точность модели по метрике MAPE: {result}%\")\n",
    "# Точность модели по метрике MAPE: 12.27%"
   ]
  },
  {
   "cell_type": "markdown",
   "metadata": {},
   "source": [
    "## AdvPar -"
   ]
  },
  {
   "cell_type": "code",
   "execution_count": 192,
   "metadata": {},
   "outputs": [
    {
     "name": "stdout",
     "output_type": "stream",
     "text": [
      "0.7026894762150396                                                                                                     \n",
      "{'eta': 0.325, 'max_depth': 5, 'n_estimators': 812}                                                                    \n",
      "0.6954513086182801                                                                                                     \n",
      "{'eta': 0.30000000000000004, 'max_depth': 12, 'n_estimators': 239}                                                     \n",
      "0.6151461457845006                                                                                                     \n",
      "{'eta': 0.2, 'max_depth': 3, 'n_estimators': 866}                                                                      \n",
      "0.7653448150384431                                                                                                     \n",
      "{'eta': 0.275, 'max_depth': 5, 'n_estimators': 634}                                                                    \n",
      "0.8041513138194616                                                                                                     \n",
      "{'eta': 0.125, 'max_depth': 8, 'n_estimators': 198}                                                                    \n",
      "0.8028094519018834                                                                                                     \n",
      "{'eta': 0.07500000000000001, 'max_depth': 8, 'n_estimators': 800}                                                      \n",
      "0.7623342386577633                                                                                                     \n",
      "{'eta': 0.275, 'max_depth': 9, 'n_estimators': 574}                                                                    \n",
      "0.7720938927893299                                                                                                     \n",
      "{'eta': 0.375, 'max_depth': 8, 'n_estimators': 221}                                                                    \n",
      "0.8011242940061778                                                                                                     \n",
      "{'eta': 0.15000000000000002, 'max_depth': 6, 'n_estimators': 176}                                                      \n",
      "0.7015653655710571                                                                                                     \n",
      "{'eta': 0.42500000000000004, 'max_depth': 11, 'n_estimators': 616}                                                     \n",
      "100%|██████████████████████████████████████████████| 10/10 [24:38<00:00, 147.82s/trial, best loss: -0.8041513138194616]\n",
      "best:\n",
      "{'eta': 0.125, 'max_depth': 7, 'n_estimators': 98}\n"
     ]
    }
   ],
   "source": [
    "space_xgb2 = {\n",
    "            'n_estimators': hp.choice('n_estimators', range(100, 1000)),\n",
    "            'eta': hp.quniform('eta', 0.025, 0.5, 0.025),\n",
    "            'max_depth':  hp.choice('max_depth', np.arange(1, 14, dtype=int)),\n",
    "            'min_child_weight': hp.quniform('min_child_weight', 1, 6, 1),\n",
    "            'subsample': hp.quniform('subsample', 0.5, 1, 0.05),\n",
    "            'gamma': hp.quniform('gamma', 0.5, 1, 0.05),\n",
    "            'colsample_bytree': hp.quniform('colsample_bytree', 0.5, 1, 0.05),\n",
    "            'eval_metric': 'auc',\n",
    "            'objective': 'binary:logistic',\n",
    "            # Increase this number if you have more cores. Otherwise, remove it and it will default\n",
    "            # to the maxium number.\n",
    "            #'nthread': 4,\n",
    "            'booster': 'gbtree',\n",
    "            'tree_method': 'exact',\n",
    "            'silent': 1\n",
    "        }\n",
    "\n",
    "def hyperopt_xgb_score(params):\n",
    "    clf = xgb.XGBRegressor(**params)\n",
    "    # усреднение по 3ем фолдам, для уменьшения влияния стахостичности\n",
    "    # для ускорения можно использовать train_test_split один раз\n",
    "    current_score = cross_val_score(clf, X, y, cv=3).mean()\n",
    "    print(current_score, params)\n",
    "    return -current_score\n",
    " \n",
    " \n",
    "simple_space_xgb = {\n",
    "            'n_estimators': hp.choice('n_estimators', range(100, 1000)),\n",
    "            'eta': hp.quniform('eta', 0.025, 0.5, 0.025),\n",
    "            'max_depth':  hp.choice('max_depth', np.arange(1, 14, dtype=int)),\n",
    "}\n",
    " \n",
    "best = fmin(fn=hyperopt_xgb_score, space=simple_space_xgb, algo=tpe.suggest, max_evals=10)\n",
    "print('best:')\n",
    "print(best)"
   ]
  },
  {
   "cell_type": "code",
   "execution_count": null,
   "metadata": {},
   "outputs": [],
   "source": []
  },
  {
   "cell_type": "markdown",
   "metadata": {},
   "source": [
    "# Model 7 : StackingRegressor"
   ]
  },
  {
   "cell_type": "code",
   "execution_count": null,
   "metadata": {},
   "outputs": [],
   "source": [
    "# estimators = [\n",
    "#     ('etr', ExtraTreesRegressor(random_state=RANDOM_SEED, n_jobs=-1, verbose=1)),\n",
    "#     ('xgb', xgb.XGBRegressor(objective='reg:squarederror', colsample_bytree=0.5, learning_rate=0.05, max_depth=12, alpha=1, n_jobs=-1, n_estimators=1000, random_state=RANDOM_SEED))\n",
    "# ]\n",
    "\n",
    "# sr_log = StackingRegressor(\n",
    "#     estimators=estimators,\n",
    "#     final_estimator=LinearRegression()\n",
    "# )\n",
    "\n",
    "# # For training, fit() is used\n",
    "# sr_log.fit(X_train, np.log(y_train))\n",
    "\n",
    "# # For MAPE metric (or any other), we need the predictions of the model\n",
    "# y_pred = np.exp(sr_log.predict(X_test))\n",
    "\n",
    "# print(f\"The MAPE mertic for the default StackingRegressor model: {(mape(y_test, y_pred) * 100):0.2f}%.\""
   ]
  },
  {
   "cell_type": "markdown",
   "metadata": {
    "papermill": {
     "duration": 0.085876,
     "end_time": "2020-10-26T12:48:12.734207",
     "exception": false,
     "start_time": "2020-10-26T12:48:12.648331",
     "status": "completed"
    },
    "tags": []
   },
   "source": [
    "# Submission"
   ]
  },
  {
   "cell_type": "code",
   "execution_count": 181,
   "metadata": {},
   "outputs": [
    {
     "data": {
      "text/html": [
       "<div>\n",
       "<style scoped>\n",
       "    .dataframe tbody tr th:only-of-type {\n",
       "        vertical-align: middle;\n",
       "    }\n",
       "\n",
       "    .dataframe tbody tr th {\n",
       "        vertical-align: top;\n",
       "    }\n",
       "\n",
       "    .dataframe thead th {\n",
       "        text-align: right;\n",
       "    }\n",
       "</style>\n",
       "<table border=\"1\" class=\"dataframe\">\n",
       "  <thead>\n",
       "    <tr style=\"text-align: right;\">\n",
       "      <th></th>\n",
       "      <th>model</th>\n",
       "      <th>MAPE</th>\n",
       "    </tr>\n",
       "  </thead>\n",
       "  <tbody>\n",
       "    <tr>\n",
       "      <th>0</th>\n",
       "      <td>naiv</td>\n",
       "      <td>63.27</td>\n",
       "    </tr>\n",
       "    <tr>\n",
       "      <th>1</th>\n",
       "      <td>catb_def</td>\n",
       "      <td>14.54</td>\n",
       "    </tr>\n",
       "    <tr>\n",
       "      <th>2</th>\n",
       "      <td>catb_log</td>\n",
       "      <td>12.74</td>\n",
       "    </tr>\n",
       "    <tr>\n",
       "      <th>3</th>\n",
       "      <td>catb_log_adv</td>\n",
       "      <td>12.58</td>\n",
       "    </tr>\n",
       "    <tr>\n",
       "      <th>4</th>\n",
       "      <td>catb_log_adv_kf</td>\n",
       "      <td>12.57</td>\n",
       "    </tr>\n",
       "    <tr>\n",
       "      <th>5</th>\n",
       "      <td>rf_log</td>\n",
       "      <td>13.29</td>\n",
       "    </tr>\n",
       "  </tbody>\n",
       "</table>\n",
       "</div>"
      ],
      "text/plain": [
       "             model   MAPE\n",
       "0             naiv  63.27\n",
       "1         catb_def  14.54\n",
       "2         catb_log  12.74\n",
       "3     catb_log_adv  12.58\n",
       "4  catb_log_adv_kf  12.57\n",
       "5           rf_log  13.29"
      ]
     },
     "execution_count": 181,
     "metadata": {},
     "output_type": "execute_result"
    }
   ],
   "source": [
    "df_Result"
   ]
  },
  {
   "cell_type": "code",
   "execution_count": 180,
   "metadata": {
    "execution": {
     "iopub.execute_input": "2020-10-26T12:48:13.227584Z",
     "iopub.status.busy": "2020-10-26T12:48:13.226285Z",
     "iopub.status.idle": "2020-10-26T12:48:13.762529Z",
     "shell.execute_reply": "2020-10-26T12:48:13.763259Z"
    },
    "papermill": {
     "duration": 0.628302,
     "end_time": "2020-10-26T12:48:13.763488",
     "exception": false,
     "start_time": "2020-10-26T12:48:13.135186",
     "status": "completed"
    },
    "tags": []
   },
   "outputs": [
    {
     "ename": "NameError",
     "evalue": "name 'predict_submission' is not defined",
     "output_type": "error",
     "traceback": [
      "\u001b[1;31m---------------------------------------------------------------------------\u001b[0m",
      "\u001b[1;31mNameError\u001b[0m                                 Traceback (most recent call last)",
      "\u001b[1;32m<ipython-input-180-da5e61278f5e>\u001b[0m in \u001b[0;36m<module>\u001b[1;34m\u001b[0m\n\u001b[1;32m----> 1\u001b[1;33m \u001b[0msample_submission\u001b[0m\u001b[1;33m[\u001b[0m\u001b[1;34m'price'\u001b[0m\u001b[1;33m]\u001b[0m \u001b[1;33m=\u001b[0m \u001b[0mpredict_submission\u001b[0m\u001b[1;33m\u001b[0m\u001b[1;33m\u001b[0m\u001b[0m\n\u001b[0m\u001b[0;32m      2\u001b[0m \u001b[0msample_submission\u001b[0m\u001b[1;33m.\u001b[0m\u001b[0mto_csv\u001b[0m\u001b[1;33m(\u001b[0m\u001b[1;34mf'submission_2_v{VERSION}.csv'\u001b[0m\u001b[1;33m,\u001b[0m \u001b[0mindex\u001b[0m\u001b[1;33m=\u001b[0m\u001b[1;32mFalse\u001b[0m\u001b[1;33m)\u001b[0m\u001b[1;33m\u001b[0m\u001b[1;33m\u001b[0m\u001b[0m\n\u001b[0;32m      3\u001b[0m \u001b[0msample_submission\u001b[0m\u001b[1;33m.\u001b[0m\u001b[0mhead\u001b[0m\u001b[1;33m(\u001b[0m\u001b[1;36m10\u001b[0m\u001b[1;33m)\u001b[0m\u001b[1;33m\u001b[0m\u001b[1;33m\u001b[0m\u001b[0m\n",
      "\u001b[1;31mNameError\u001b[0m: name 'predict_submission' is not defined"
     ]
    }
   ],
   "source": [
    "sample_submission['price'] = predict_submission\n",
    "sample_submission.to_csv(f'submission_2_v{VERSION}.csv', index=False)\n",
    "sample_submission.head(10)"
   ]
  },
  {
   "cell_type": "markdown",
   "metadata": {
    "papermill": {
     "duration": 0.083769,
     "end_time": "2020-10-26T12:48:13.930562",
     "exception": false,
     "start_time": "2020-10-26T12:48:13.846793",
     "status": "completed"
    },
    "tags": []
   },
   "source": [
    "## Итоговая МАРЕ 13.5% на лидерборде 12.391. Место на Kaggle 26.01.2002 - 33"
   ]
  },
  {
   "cell_type": "markdown",
   "metadata": {
    "papermill": {
     "duration": 0.087712,
     "end_time": "2020-10-26T12:48:14.104388",
     "exception": false,
     "start_time": "2020-10-26T12:48:14.016676",
     "status": "completed"
    },
    "tags": []
   },
   "source": [
    "# What's next?\n",
    "Или что еще можно сделать, чтоб улучшить результат:\n",
    "\n",
    "* Спарсить свежие данные \n",
    "* Посмотреть, что можно извлечь из признаков или как еще можно обработать признаки\n",
    "* Сгенерировать новые признаки\n",
    "* Попробовать подобрать параметры модели\n",
    "* Попробовать другие алгоритмы и библиотеки ML\n",
    "* Сделать Ансамбль моделей, Blending, Stacking"
   ]
  },
  {
   "cell_type": "markdown",
   "metadata": {},
   "source": [
    "Подробный чек лист: https://docs.google.com/spreadsheets/d/1I_ErM3U0Cs7Rs1obyZbIEGtVn-H47pHNCi4xdDgUmXY/edit?usp=sharing"
   ]
  },
  {
   "cell_type": "code",
   "execution_count": 132,
   "metadata": {
    "papermill": {
     "duration": 0.082055,
     "end_time": "2020-10-26T12:48:14.270602",
     "exception": false,
     "start_time": "2020-10-26T12:48:14.188547",
     "status": "completed"
    },
    "tags": []
   },
   "outputs": [
    {
     "data": {
      "text/html": [
       "<div>\n",
       "<style scoped>\n",
       "    .dataframe tbody tr th:only-of-type {\n",
       "        vertical-align: middle;\n",
       "    }\n",
       "\n",
       "    .dataframe tbody tr th {\n",
       "        vertical-align: top;\n",
       "    }\n",
       "\n",
       "    .dataframe thead th {\n",
       "        text-align: right;\n",
       "    }\n",
       "</style>\n",
       "<table border=\"1\" class=\"dataframe\">\n",
       "  <thead>\n",
       "    <tr style=\"text-align: right;\">\n",
       "      <th></th>\n",
       "      <th>bodyType</th>\n",
       "      <th>brand</th>\n",
       "      <th>color</th>\n",
       "      <th>description</th>\n",
       "      <th>enginePower</th>\n",
       "      <th>fuelType</th>\n",
       "      <th>mileage</th>\n",
       "      <th>model_name</th>\n",
       "      <th>productionDate</th>\n",
       "      <th>vehicleTransmission</th>\n",
       "      <th>...</th>\n",
       "      <th>enginePower_cut</th>\n",
       "      <th>fuelType_isGE</th>\n",
       "      <th>mileage_cut</th>\n",
       "      <th>productionDate_cut</th>\n",
       "      <th>mileage_per_age</th>\n",
       "      <th>time_bw_model_product</th>\n",
       "      <th>top2_bodyType</th>\n",
       "      <th>rare_bodyType</th>\n",
       "      <th>top5_colors</th>\n",
       "      <th>rare_colors</th>\n",
       "    </tr>\n",
       "  </thead>\n",
       "  <tbody>\n",
       "    <tr>\n",
       "      <th>0</th>\n",
       "      <td>лифтбек</td>\n",
       "      <td>skoda</td>\n",
       "      <td>синий</td>\n",
       "      <td>145</td>\n",
       "      <td>105.0</td>\n",
       "      <td>бензин</td>\n",
       "      <td>74000</td>\n",
       "      <td>octavia</td>\n",
       "      <td>2014.0</td>\n",
       "      <td>ROBOT</td>\n",
       "      <td>...</td>\n",
       "      <td>1</td>\n",
       "      <td>0</td>\n",
       "      <td>1</td>\n",
       "      <td>4</td>\n",
       "      <td>10571</td>\n",
       "      <td>1.0</td>\n",
       "      <td>0</td>\n",
       "      <td>0</td>\n",
       "      <td>1</td>\n",
       "      <td>0</td>\n",
       "    </tr>\n",
       "    <tr>\n",
       "      <th>1</th>\n",
       "      <td>лифтбек</td>\n",
       "      <td>skoda</td>\n",
       "      <td>чёрный</td>\n",
       "      <td>357</td>\n",
       "      <td>110.0</td>\n",
       "      <td>бензин</td>\n",
       "      <td>60563</td>\n",
       "      <td>octavia</td>\n",
       "      <td>2017.0</td>\n",
       "      <td>MECHANICAL</td>\n",
       "      <td>...</td>\n",
       "      <td>1</td>\n",
       "      <td>0</td>\n",
       "      <td>1</td>\n",
       "      <td>4</td>\n",
       "      <td>15140</td>\n",
       "      <td>0.0</td>\n",
       "      <td>0</td>\n",
       "      <td>0</td>\n",
       "      <td>0</td>\n",
       "      <td>0</td>\n",
       "    </tr>\n",
       "    <tr>\n",
       "      <th>2</th>\n",
       "      <td>лифтбек</td>\n",
       "      <td>skoda</td>\n",
       "      <td>серый</td>\n",
       "      <td>145</td>\n",
       "      <td>152.0</td>\n",
       "      <td>бензин</td>\n",
       "      <td>88000</td>\n",
       "      <td>superb</td>\n",
       "      <td>2014.0</td>\n",
       "      <td>ROBOT</td>\n",
       "      <td>...</td>\n",
       "      <td>1</td>\n",
       "      <td>0</td>\n",
       "      <td>1</td>\n",
       "      <td>4</td>\n",
       "      <td>12571</td>\n",
       "      <td>1.0</td>\n",
       "      <td>0</td>\n",
       "      <td>0</td>\n",
       "      <td>1</td>\n",
       "      <td>0</td>\n",
       "    </tr>\n",
       "    <tr>\n",
       "      <th>3</th>\n",
       "      <td>лифтбек</td>\n",
       "      <td>skoda</td>\n",
       "      <td>коричневый</td>\n",
       "      <td>238</td>\n",
       "      <td>110.0</td>\n",
       "      <td>бензин</td>\n",
       "      <td>95000</td>\n",
       "      <td>octavia</td>\n",
       "      <td>2014.0</td>\n",
       "      <td>AUTOMATIC</td>\n",
       "      <td>...</td>\n",
       "      <td>1</td>\n",
       "      <td>0</td>\n",
       "      <td>1</td>\n",
       "      <td>4</td>\n",
       "      <td>13571</td>\n",
       "      <td>1.0</td>\n",
       "      <td>0</td>\n",
       "      <td>0</td>\n",
       "      <td>0</td>\n",
       "      <td>0</td>\n",
       "    </tr>\n",
       "    <tr>\n",
       "      <th>4</th>\n",
       "      <td>лифтбек</td>\n",
       "      <td>skoda</td>\n",
       "      <td>белый</td>\n",
       "      <td>322</td>\n",
       "      <td>152.0</td>\n",
       "      <td>бензин</td>\n",
       "      <td>58536</td>\n",
       "      <td>octavia</td>\n",
       "      <td>2012.0</td>\n",
       "      <td>AUTOMATIC</td>\n",
       "      <td>...</td>\n",
       "      <td>1</td>\n",
       "      <td>0</td>\n",
       "      <td>1</td>\n",
       "      <td>4</td>\n",
       "      <td>6504</td>\n",
       "      <td>4.0</td>\n",
       "      <td>0</td>\n",
       "      <td>0</td>\n",
       "      <td>1</td>\n",
       "      <td>0</td>\n",
       "    </tr>\n",
       "  </tbody>\n",
       "</table>\n",
       "<p>5 rows × 32 columns</p>\n",
       "</div>"
      ],
      "text/plain": [
       "  bodyType  brand       color  description  enginePower fuelType  mileage  \\\n",
       "0  лифтбек  skoda       синий          145        105.0   бензин    74000   \n",
       "1  лифтбек  skoda      чёрный          357        110.0   бензин    60563   \n",
       "2  лифтбек  skoda       серый          145        152.0   бензин    88000   \n",
       "3  лифтбек  skoda  коричневый          238        110.0   бензин    95000   \n",
       "4  лифтбек  skoda       белый          322        152.0   бензин    58536   \n",
       "\n",
       "  model_name  productionDate vehicleTransmission  ...  enginePower_cut  \\\n",
       "0    octavia          2014.0               ROBOT  ...                1   \n",
       "1    octavia          2017.0          MECHANICAL  ...                1   \n",
       "2     superb          2014.0               ROBOT  ...                1   \n",
       "3    octavia          2014.0           AUTOMATIC  ...                1   \n",
       "4    octavia          2012.0           AUTOMATIC  ...                1   \n",
       "\n",
       "  fuelType_isGE mileage_cut productionDate_cut mileage_per_age  \\\n",
       "0             0           1                  4           10571   \n",
       "1             0           1                  4           15140   \n",
       "2             0           1                  4           12571   \n",
       "3             0           1                  4           13571   \n",
       "4             0           1                  4            6504   \n",
       "\n",
       "  time_bw_model_product top2_bodyType  rare_bodyType  top5_colors  rare_colors  \n",
       "0                   1.0             0              0            1            0  \n",
       "1                   0.0             0              0            0            0  \n",
       "2                   1.0             0              0            1            0  \n",
       "3                   1.0             0              0            0            0  \n",
       "4                   4.0             0              0            1            0  \n",
       "\n",
       "[5 rows x 32 columns]"
      ]
     },
     "execution_count": 132,
     "metadata": {},
     "output_type": "execute_result"
    }
   ],
   "source": [
    "\n",
    "db_source[db_source.new_data == 0].head(5)"
   ]
  },
  {
   "cell_type": "code",
   "execution_count": null,
   "metadata": {
    "papermill": {
     "duration": 0.08168,
     "end_time": "2020-10-26T12:48:14.435554",
     "exception": false,
     "start_time": "2020-10-26T12:48:14.353874",
     "status": "completed"
    },
    "tags": []
   },
   "outputs": [],
   "source": []
  },
  {
   "cell_type": "code",
   "execution_count": null,
   "metadata": {
    "papermill": {
     "duration": 0.080788,
     "end_time": "2020-10-26T12:48:14.596978",
     "exception": false,
     "start_time": "2020-10-26T12:48:14.51619",
     "status": "completed"
    },
    "tags": []
   },
   "outputs": [],
   "source": []
  }
 ],
 "metadata": {
  "kernelspec": {
   "display_name": "Python 3",
   "language": "python",
   "name": "python3"
  },
  "language_info": {
   "codemirror_mode": {
    "name": "ipython",
    "version": 3
   },
   "file_extension": ".py",
   "mimetype": "text/x-python",
   "name": "python",
   "nbconvert_exporter": "python",
   "pygments_lexer": "ipython3",
   "version": "3.8.8"
  },
  "toc": {
   "base_numbering": 1,
   "nav_menu": {},
   "number_sections": true,
   "sideBar": true,
   "skip_h1_title": false,
   "title_cell": "Table of Contents",
   "title_sidebar": "Contents",
   "toc_cell": false,
   "toc_position": {
    "height": "calc(100% - 180px)",
    "left": "10px",
    "top": "150px",
    "width": "202.5px"
   },
   "toc_section_display": true,
   "toc_window_display": true
  },
  "varInspector": {
   "cols": {
    "lenName": 16,
    "lenType": 16,
    "lenVar": 40
   },
   "kernels_config": {
    "python": {
     "delete_cmd_postfix": "",
     "delete_cmd_prefix": "del ",
     "library": "var_list.py",
     "varRefreshCmd": "print(var_dic_list())"
    },
    "r": {
     "delete_cmd_postfix": ") ",
     "delete_cmd_prefix": "rm(",
     "library": "var_list.r",
     "varRefreshCmd": "cat(var_dic_list()) "
    }
   },
   "types_to_exclude": [
    "module",
    "function",
    "builtin_function_or_method",
    "instance",
    "_Feature"
   ],
   "window_display": false
  }
 },
 "nbformat": 4,
 "nbformat_minor": 4
}
