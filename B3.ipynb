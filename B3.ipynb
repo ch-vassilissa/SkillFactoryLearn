{
 "cells": [
  {
   "cell_type": "markdown",
   "metadata": {},
   "source": [
    "# Логика"
   ]
  },
  {
   "cell_type": "markdown",
   "metadata": {},
   "source": [
    "### Операторы сравнения"
   ]
  },
  {
   "cell_type": "code",
   "execution_count": 10,
   "metadata": {},
   "outputs": [
    {
     "name": "stdout",
     "output_type": "stream",
     "text": [
      "True\n",
      "False\n",
      "True\n",
      "True\n",
      "True\n",
      "True\n",
      "True\n"
     ]
    }
   ],
   "source": [
    "a = 5\n",
    "b = 2\n",
    "print( a > b )\n",
    "print( a < b )\n",
    "c = 2\n",
    "print( c == b )\n",
    "print( a >= b )\n",
    "print( c >= b )\n",
    "print( c <= b)\n",
    "print( a != b )"
   ]
  },
  {
   "cell_type": "markdown",
   "metadata": {},
   "source": [
    "### Логические операторы "
   ]
  },
  {
   "cell_type": "code",
   "execution_count": 16,
   "metadata": {},
   "outputs": [
    {
     "name": "stdout",
     "output_type": "stream",
     "text": [
      "False\n",
      "False\n",
      "True\n"
     ]
    }
   ],
   "source": [
    "print( c >= b and a < b)\n",
    "print(  c < b or a < b)\n",
    "print( not a<b )"
   ]
  },
  {
   "cell_type": "markdown",
   "metadata": {},
   "source": [
    "### Проверка принадлежности"
   ]
  },
  {
   "cell_type": "code",
   "execution_count": 29,
   "metadata": {},
   "outputs": [
    {
     "name": "stdout",
     "output_type": "stream",
     "text": [
      "False\n",
      "True\n",
      "False\n",
      "True\n"
     ]
    }
   ],
   "source": [
    "l = [1, 2, 3, 10]\n",
    "print(5 in l)\n",
    "print(5 not in l)"
   ]
  },
  {
   "cell_type": "markdown",
   "metadata": {},
   "source": [
    "### Проверка тождественности"
   ]
  },
  {
   "cell_type": "code",
   "execution_count": null,
   "metadata": {},
   "outputs": [],
   "source": [
    "a = [1,2]\n",
    "b = [1,2]\n",
    "\n",
    "print( a is b )\n",
    "print( a is not b )"
   ]
  },
  {
   "cell_type": "markdown",
   "metadata": {},
   "source": [
    "# Условные операторы"
   ]
  },
  {
   "cell_type": "markdown",
   "metadata": {},
   "source": [
    "### Конструкция `if`"
   ]
  },
  {
   "cell_type": "code",
   "execution_count": 34,
   "metadata": {},
   "outputs": [
    {
     "name": "stdout",
     "output_type": "stream",
     "text": [
      "10 4\n"
     ]
    }
   ],
   "source": [
    "a = 4\n",
    "b = 10\n",
    "\n",
    "if a < b:\n",
    "    a, b = b, a \n",
    "\n",
    "print(a,b)"
   ]
  },
  {
   "cell_type": "markdown",
   "metadata": {},
   "source": [
    "### Конструкция `if` - `else`"
   ]
  },
  {
   "cell_type": "code",
   "execution_count": 36,
   "metadata": {},
   "outputs": [
    {
     "name": "stdout",
     "output_type": "stream",
     "text": [
      "В переменной a четное число\n"
     ]
    }
   ],
   "source": [
    "a = 6\n",
    "\n",
    "if a%2 == 0:\n",
    "    print(\"В переменной a четное число\")\n",
    "else:\n",
    "    print(\"В переменной a нечетное число\")"
   ]
  },
  {
   "cell_type": "markdown",
   "metadata": {},
   "source": [
    "### Конструкция `if` - `elif` -  `else`"
   ]
  },
  {
   "cell_type": "code",
   "execution_count": null,
   "metadata": {},
   "outputs": [],
   "source": [
    "a = 10\n",
    "\n",
    "if a%3 == 0:\n",
    "    print(\"a делится на 3\")\n",
    "elif a%3 == 1:\n",
    "    print(\"a делится на 3 с остатком 1\")\n",
    "else:\n",
    "    print(\"a делится на 3 с остатком 2\")"
   ]
  },
  {
   "cell_type": "markdown",
   "metadata": {},
   "source": [
    "### Тернарный оператор"
   ]
  },
  {
   "cell_type": "code",
   "execution_count": 38,
   "metadata": {},
   "outputs": [
    {
     "name": "stdout",
     "output_type": "stream",
     "text": [
      "значение 2\n"
     ]
    }
   ],
   "source": [
    "a = 11\n",
    "\n",
    "print(\"значение\" if a%3 == 1 else \"значение 2\")"
   ]
  },
  {
   "cell_type": "markdown",
   "metadata": {},
   "source": [
    "### Приведение типов"
   ]
  },
  {
   "cell_type": "code",
   "execution_count": 48,
   "metadata": {},
   "outputs": [
    {
     "name": "stdout",
     "output_type": "stream",
     "text": [
      "False\n",
      "на ноль делить нельзя\n",
      "False\n",
      "False\n",
      "True\n",
      "False\n"
     ]
    }
   ],
   "source": [
    "a = 1\n",
    "print(bool(0))\n",
    "\n",
    "a = 5\n",
    "b = 0\n",
    "\n",
    "if b:\n",
    "    print(a/b)\n",
    "else:\n",
    "    print(\"на ноль делить нельзя\")\n",
    "\n",
    "print(bool([]))\n",
    "print(bool(\"\"))\n",
    "print(bool([1]))\n",
    "\n",
    "print(bool(None))"
   ]
  },
  {
   "cell_type": "markdown",
   "metadata": {},
   "source": [
    "## Задача 1\n",
    "#### Входные данные\n",
    "Даны два целых числа, каждое число записано в отдельной строке.\n",
    "\n",
    "#### Выходные данные\n",
    "Выведите наибольшее из данных чисел."
   ]
  },
  {
   "cell_type": "code",
   "execution_count": 54,
   "metadata": {},
   "outputs": [
    {
     "name": "stdin",
     "output_type": "stream",
     "text": [
      " 123\n",
      " 12\n"
     ]
    },
    {
     "name": "stdout",
     "output_type": "stream",
     "text": [
      "12\n"
     ]
    }
   ],
   "source": [
    "a = int(input())\n",
    "b = int(input())\n",
    "print(min(a,b))"
   ]
  },
  {
   "cell_type": "markdown",
   "metadata": {},
   "source": [
    "## Задача 2\n",
    "Требуется определить, бьет ли конь, стоящий на клетке с указанными координатами (номер строки и номер столбца), фигуру, стоящую на другой указанной клетке.\n",
    "#### Входные данные\n",
    "Вводятся четыре числа: координаты коня и координаты другой фигуры. Все координаты - целые числа в интервале от 1 до 8.\n",
    "#### Выходные данные\n",
    "Программа должна вывести слово YES, если конь может побить фигуру за 1 ход, в противном случае вывести слово NO."
   ]
  },
  {
   "cell_type": "code",
   "execution_count": 60,
   "metadata": {},
   "outputs": [
    {
     "name": "stdin",
     "output_type": "stream",
     "text": [
      " 1\n",
      " 1\n",
      " 2\n",
      " 3\n"
     ]
    },
    {
     "name": "stdout",
     "output_type": "stream",
     "text": [
      "YES\n"
     ]
    }
   ],
   "source": [
    "hx = int(input())\n",
    "hy = int(input())\n",
    "fx = int(input())\n",
    "fy = int(input())\n",
    "\n",
    "dx = (hx - fx)\n",
    "dy = (hy - fy)\n",
    "\n",
    "if dx**2 + dy**2 == 5:\n",
    "    print(\"YES\")\n",
    "else:\n",
    "    print(\"NO\")"
   ]
  },
  {
   "cell_type": "markdown",
   "metadata": {},
   "source": [
    "## Задача 3\n",
    "Требуется определить, можно ли от шоколадки размером n × m долек отломить k долек, если разрешается сделать один разлом по прямой между дольками (то есть разломить шоколадку на два прямоугольника).\n",
    "#### Входные данные\n",
    "Вводятся 3 числа: n, m и k; k не равно n × m. Гарантируется, что количество долек в шоколадке не превосходит 30000.\n",
    "#### Выходные данные\n",
    "Программа должна вывести слово YES, если возможно отломить указанное число долек, в противном случае вывести слово NO."
   ]
  },
  {
   "cell_type": "code",
   "execution_count": 61,
   "metadata": {},
   "outputs": [
    {
     "name": "stdin",
     "output_type": "stream",
     "text": [
      " 10\n",
      " 20\n",
      " 10\n"
     ]
    },
    {
     "name": "stdout",
     "output_type": "stream",
     "text": [
      "YES\n"
     ]
    }
   ],
   "source": [
    "n = int(input())\n",
    "m = int(input())\n",
    "k = int(input())\n",
    "\n",
    "if k % m == 0 or k % n == 0:\n",
    "    print(\"YES\")\n",
    "else:\n",
    "    print(\"NO\")"
   ]
  },
  {
   "cell_type": "markdown",
   "metadata": {},
   "source": [
    "## Задача 4\n",
    "#### Входные данные\n",
    "Даны три натуральных числа a, b, c, записанные в отдельных строках. Определите, существует ли неворожденный треугольник с такими сторонами.\n",
    "\n",
    "#### Выходные данные\n",
    "Если треугольник существует, выведите строку YES, иначе выведите строку NO.\n"
   ]
  },
  {
   "cell_type": "code",
   "execution_count": 63,
   "metadata": {},
   "outputs": [
    {
     "name": "stdin",
     "output_type": "stream",
     "text": [
      " 3\n",
      " 4\n",
      " 5\n"
     ]
    },
    {
     "name": "stdout",
     "output_type": "stream",
     "text": [
      "YES\n"
     ]
    }
   ],
   "source": [
    "a = int(input())\n",
    "b = int(input())\n",
    "c = int(input())\n",
    "\n",
    "if (a + b > c) and (a + c > b) and (b + c >a ):\n",
    "    print(\"YES\")\n",
    "else:\n",
    "    print(\"NO\")"
   ]
  },
  {
   "cell_type": "markdown",
   "metadata": {},
   "source": [
    "# Задача 5\n",
    "Определите тип треугольника (остроугольный, тупоугольный, прямоугольный) с данными сторонами.\n",
    "#### Входные данные\n",
    "Даны три натуральных числа – стороны треугольника.\n",
    "\n",
    "#### Выходные данные\n",
    "Необходимо вывести одно из слов:  \n",
    "`right` для прямоугольного треугольника,  \n",
    "`acute` для остроугольного треугольника,  \n",
    "`obtuse` для тупоугольного треугольника  \n",
    "или `impossible`, если входные числа не образуют треугольника.\n",
    "\n",
    "Если выполняется теорема Пифагора: \n",
    "с²=a²+b² , где с - наибольшая сторона, а и b две других, – треугольник прямоугольный. \n",
    "Если квадрат наибольшей стороны меньше суммы квадратов двух других сторон:\n",
    " с² < a²+b² треугольник остроугольный. \n",
    "Если квадрат наибольшей стороны больше суммы квадратов двух других сторон:\n",
    "с² > a²+b² – треугольник тупоугольный. \n",
    "------\n",
    "Ясно, что для величин, взятых длинами сторон треугольника, должно выполняться неравенство треугольника, т.е. \n",
    "с < a+b \n",
    "c > a- b ( гдеc > а > b)\n"
   ]
  },
  {
   "cell_type": "code",
   "execution_count": 7,
   "metadata": {},
   "outputs": [
    {
     "name": "stdout",
     "output_type": "stream",
     "text": [
      "2\n",
      "3\n",
      "16\n",
      "тупоугольный\n"
     ]
    }
   ],
   "source": [
    "a = int(input())\n",
    "b = int(input())\n",
    "c = int(input())\n",
    "if (a**2 + b**2 > c**2):\n",
    "    print(\"остроугольный\")\n",
    "elif (a**2 + b**2 < c**2):\n",
    "    print(\"тупоугольный\")\n",
    "elif (a**2 + b**2 == c**2):\n",
    "    print(\"прямоугольный\")\n",
    "else: \n",
    "    print(\"числа не образуют треугольника\")"
   ]
  },
  {
   "cell_type": "markdown",
   "metadata": {},
   "source": [
    "# Циклы"
   ]
  },
  {
   "cell_type": "markdown",
   "metadata": {},
   "source": [
    "### Конструкция `for` для списка"
   ]
  },
  {
   "cell_type": "code",
   "execution_count": 64,
   "metadata": {},
   "outputs": [
    {
     "name": "stdout",
     "output_type": "stream",
     "text": [
      "1\n",
      "2\n",
      "k \n",
      "[1, 2]\n"
     ]
    }
   ],
   "source": [
    "l = [1, 2, \"k \" , [1,2]]\n",
    "\n",
    "for var in l:\n",
    "    print(var)"
   ]
  },
  {
   "cell_type": "markdown",
   "metadata": {},
   "source": [
    "### Конструкция `for` для итерируемых объектов"
   ]
  },
  {
   "cell_type": "code",
   "execution_count": 69,
   "metadata": {},
   "outputs": [
    {
     "name": "stdout",
     "output_type": "stream",
     "text": [
      "2\n",
      "5\n",
      "8\n"
     ]
    }
   ],
   "source": [
    "N = 10\n",
    "n = 2\n",
    "k = 3\n",
    "r1 = range(N)\n",
    "r2 = range(n, N)\n",
    "r3 = range(n, N, k)\n",
    "\n",
    "for elem in r3:\n",
    "    print(elem)"
   ]
  },
  {
   "cell_type": "markdown",
   "metadata": {},
   "source": [
    "### Цикл `while`"
   ]
  },
  {
   "cell_type": "code",
   "execution_count": 71,
   "metadata": {},
   "outputs": [
    {
     "name": "stdout",
     "output_type": "stream",
     "text": [
      "2\n",
      "4\n",
      "8\n",
      "16\n",
      "16\n"
     ]
    }
   ],
   "source": [
    "a = 1\n",
    "\n",
    "while a < 10 :\n",
    "    a = a * 2\n",
    "    print(a)\n",
    "\n",
    "print(a)"
   ]
  },
  {
   "cell_type": "markdown",
   "metadata": {},
   "source": [
    "### `enumerate` и `zip`"
   ]
  },
  {
   "cell_type": "code",
   "execution_count": 9,
   "metadata": {},
   "outputs": [
    {
     "name": "stdout",
     "output_type": "stream",
     "text": [
      "0\n",
      "a\n",
      "1\n",
      "b\n",
      "2\n",
      "c\n",
      "0 a\n",
      "1 b\n",
      "2 c\n",
      "a  - первая буква\n",
      "b  - вторая буква\n",
      "c  - третья буква\n"
     ]
    }
   ],
   "source": [
    "l = [\"a\", \"b\", \"c\"]\n",
    "for index in range(len(l)):\n",
    "    elem = l[index]\n",
    "    print(index)\n",
    "    print(elem)\n",
    "    \n",
    "# аналогично с enumerate\n",
    "for index, elem in enumerate(l):\n",
    "    print(index, elem)\n",
    "\n",
    "\n",
    "l = [\"a\",\"b\",\"c\"]\n",
    "l2 = [\" - первая буква\",\" - вторая буква\",\" - третья буква\" ]\n",
    "\n",
    "for elem1, elem2 in zip(l,l2):\n",
    "    print(elem1, elem2)"
   ]
  },
  {
   "cell_type": "markdown",
   "metadata": {},
   "source": [
    "### `break` и `continue`"
   ]
  },
  {
   "cell_type": "code",
   "execution_count": 88,
   "metadata": {},
   "outputs": [
    {
     "name": "stdout",
     "output_type": "stream",
     "text": [
      "16\n",
      "22\n",
      "28\n",
      "34\n"
     ]
    }
   ],
   "source": [
    "a = 10\n",
    "N = 10\n",
    "for i in range(1,N):\n",
    "    a += i\n",
    "    if a > 30:\n",
    "        break\n",
    "\n",
    "# print(a)\n",
    "\n",
    "a = 10\n",
    "k = 3\n",
    "\n",
    "for i in range(1,N):\n",
    "    a += k\n",
    "    if a%2 != 0:\n",
    "        continue\n",
    "    \n",
    "    print(a)"
   ]
  },
  {
   "cell_type": "markdown",
   "metadata": {},
   "source": [
    "### Списковое включение"
   ]
  },
  {
   "cell_type": "code",
   "execution_count": 89,
   "metadata": {},
   "outputs": [
    {
     "name": "stdout",
     "output_type": "stream",
     "text": [
      "[0, 1, 4, 9, 16, 25, 36, 49, 64, 81]\n"
     ]
    }
   ],
   "source": [
    "a = [ i**2 for i in range(10)]\n",
    "print(a)"
   ]
  },
  {
   "cell_type": "markdown",
   "metadata": {},
   "source": [
    "## Задача 1\n",
    "По данному действительному числу a и натуральному n вычислите сумму `1+a+a**2+...+a**n` .\n",
    "#### Входные данные\n",
    "Вводятся 2 числа - a и n.\n",
    "\n",
    "#### Выходные данные\n",
    "Необходимо вывести  значение суммы."
   ]
  },
  {
   "cell_type": "code",
   "execution_count": 95,
   "metadata": {},
   "outputs": [
    {
     "name": "stdin",
     "output_type": "stream",
     "text": [
      " 0.5\n",
      " 10\n"
     ]
    },
    {
     "name": "stdout",
     "output_type": "stream",
     "text": [
      "1.9990234375\n"
     ]
    }
   ],
   "source": [
    "a = float(input())\n",
    "n = int(input())\n",
    "\n",
    "s = sum([a**i for i in range(n+1)])\n",
    "print(s)"
   ]
  },
  {
   "cell_type": "markdown",
   "metadata": {},
   "source": [
    "## Задача 2\n",
    "По данному действительному числу a и целому неотрицательному n вычислите величину `a**n`.\n",
    "#### Входные данные\n",
    "Вводятся 2 числа - a и n.\n",
    "\n",
    "#### Выходные данные\n",
    "Необходимо вывести значение `a**n`."
   ]
  },
  {
   "cell_type": "code",
   "execution_count": 97,
   "metadata": {},
   "outputs": [
    {
     "name": "stdin",
     "output_type": "stream",
     "text": [
      " 3\n",
      " 3\n"
     ]
    },
    {
     "name": "stdout",
     "output_type": "stream",
     "text": [
      "27.0\n"
     ]
    }
   ],
   "source": [
    "a = float(input())\n",
    "n = int(input())\n",
    "\n",
    "res = 1\n",
    "for i in range(n):\n",
    "    res *= a\n",
    "\n",
    "print(res)"
   ]
  },
  {
   "cell_type": "markdown",
   "metadata": {},
   "source": [
    "## Задача 3\n",
    "Выведите все точные квадраты натуральных чисел, не превосходящие данного числа N.\n",
    "\n",
    "#### Входные данные\n",
    "Задано единственное целое число N\n",
    "\n",
    "#### Выходные данные\n",
    "Необходимо вывести  все точные квадраты натуральных чисел, не превосходящие данного числа N."
   ]
  },
  {
   "cell_type": "code",
   "execution_count": 100,
   "metadata": {},
   "outputs": [
    {
     "name": "stdin",
     "output_type": "stream",
     "text": [
      " 25\n"
     ]
    },
    {
     "name": "stdout",
     "output_type": "stream",
     "text": [
      "1\n",
      "4\n",
      "9\n",
      "16\n",
      "25\n"
     ]
    }
   ],
   "source": [
    "N = int(input())\n",
    "\n",
    "i = 1\n",
    "\n",
    "while i**2 <= N:\n",
    "    print(i*i)\n",
    "    i += 1\n"
   ]
  },
  {
   "cell_type": "markdown",
   "metadata": {},
   "source": [
    "## Задача 4\n",
    "Дано целое число, не меньшее 2. Выведите его наименьший натуральный делитель, отличный от 1.\n",
    "\n",
    "#### Входные данные\n",
    "Вводится натуральное число.\n",
    "\n",
    "#### Выходные данные\n",
    "Выведите ответ на задачу."
   ]
  },
  {
   "cell_type": "code",
   "execution_count": 102,
   "metadata": {},
   "outputs": [
    {
     "name": "stdin",
     "output_type": "stream",
     "text": [
      " 13\n"
     ]
    },
    {
     "name": "stdout",
     "output_type": "stream",
     "text": [
      "13\n"
     ]
    }
   ],
   "source": [
    "N = int(input())\n",
    "\n",
    "for i in range(2,N+1):\n",
    "    if N % i == 0:\n",
    "        print(i)\n",
    "        break"
   ]
  },
  {
   "cell_type": "markdown",
   "metadata": {},
   "source": [
    "## Задача 5\n",
    "В первый день спортсмен пробежал x километров, а затем он каждый день увеличивал пробег на 10% от предыдущего значения. По данному числу y определите номер дня, на который пробег спортсмена составит не менее y километров.\n",
    "\n",
    "#### Входные данные\n",
    "Программа получает на вход действительные числа x и y\n",
    "\n",
    "#### Выходные данные\n",
    "Программа должна вывести одно натуральное число."
   ]
  },
  {
   "cell_type": "code",
   "execution_count": 104,
   "metadata": {},
   "outputs": [
    {
     "name": "stdin",
     "output_type": "stream",
     "text": [
      " 10\n",
      " 11\n"
     ]
    },
    {
     "name": "stdout",
     "output_type": "stream",
     "text": [
      "2\n"
     ]
    }
   ],
   "source": [
    "x = int(input())\n",
    "y = int(input())\n",
    "\n",
    "i = 1\n",
    "while x < y:\n",
    "    x += x * 0.1\n",
    "    i += 1\n",
    "\n",
    "print(i)"
   ]
  },
  {
   "cell_type": "markdown",
   "metadata": {},
   "source": [
    "## Задача 6\n",
    "#### Входные данные\n",
    "Вводится натуральное число n.\n",
    "\n",
    "#### Выходные данные\n",
    "Вывести n-е число Фибоначчи"
   ]
  },
  {
   "cell_type": "code",
   "execution_count": 108,
   "metadata": {},
   "outputs": [
    {
     "name": "stdin",
     "output_type": "stream",
     "text": [
      " 4\n"
     ]
    },
    {
     "name": "stdout",
     "output_type": "stream",
     "text": [
      "5\n"
     ]
    }
   ],
   "source": [
    "n = int(input())\n",
    "a, b = 1, 1\n",
    "\n",
    "for i in range(n):\n",
    "    a, b = b, b+a\n",
    "\n",
    "print(a)"
   ]
  },
  {
   "cell_type": "markdown",
   "metadata": {},
   "source": [
    "## Задача 7\n",
    "Последовательность состоит из различных натуральных чисел и завершается числом 0. Определите значение второго по величине элемента в этой последовательности.\n",
    "\n",
    "Числа, следующие за числом 0, считывать не нужно.\n",
    "#### Входные данные\n",
    "Вводится последовательность целых чисел, оканчивающаяся числом 0 (само число 0 в последовательность не входит).\n",
    "\n",
    "#### Выходные данные\n",
    "Выведите ответ на задачу."
   ]
  },
  {
   "cell_type": "code",
   "execution_count": 121,
   "metadata": {},
   "outputs": [
    {
     "name": "stdin",
     "output_type": "stream",
     "text": [
      " 1\n",
      " 2\n",
      " 3\n",
      " 4\n",
      " 4\n",
      " 0\n"
     ]
    },
    {
     "name": "stdout",
     "output_type": "stream",
     "text": [
      "4 3\n"
     ]
    }
   ],
   "source": [
    "a = []\n",
    "t = None\n",
    "\n",
    "while t != 0:\n",
    "    t = int(input())\n",
    "    a.append(t)\n",
    "\n",
    "a.pop()\n",
    "\n",
    "a = list(set(a))\n",
    "\n",
    "candidate1 = None\n",
    "candidate2 = None\n",
    "\n",
    "for elem in a:\n",
    "    if candidate1 == None or elem > candidate1:\n",
    "        candidate2 = candidate1\n",
    "        candidate1 = elem\n",
    "    elif candidate2 is not None and elem > candidate2:\n",
    "        candidate2 = elem\n",
    "\n",
    "print(candidate1,candidate2)"
   ]
  },
  {
   "cell_type": "markdown",
   "metadata": {},
   "source": [
    "## heapq"
   ]
  },
  {
   "cell_type": "markdown",
   "metadata": {},
   "source": [
    "## Задача 8\n",
    "Дана последовательность натуральных чисел, завершающаяся числом 0. Определите, какое наибольшее число подряд идущих элементов этой последовательности равны друг другу.\n",
    "\n",
    "Числа, следующие за числом 0, считывать не нужно.\n",
    "#### Входные данные\n",
    "Дана последовательность натуральных чисел, завершающаяся числом 0.\n",
    "\n",
    "#### Выходные данные\n",
    "Выведите ответ на задачу."
   ]
  },
  {
   "cell_type": "code",
   "execution_count": 123,
   "metadata": {},
   "outputs": [
    {
     "name": "stdin",
     "output_type": "stream",
     "text": [
      " 1\n",
      " 1\n",
      " 1\n",
      " 2\n",
      " 3\n",
      " 3\n",
      " 1\n",
      " 0\n"
     ]
    },
    {
     "name": "stdout",
     "output_type": "stream",
     "text": [
      "3\n"
     ]
    }
   ],
   "source": [
    "a = []\n",
    "t = None\n",
    "\n",
    "while t != 0:\n",
    "    t = int(input())\n",
    "    a.append(t)\n",
    "\n",
    "a.pop()\n",
    "\n",
    "prev = None\n",
    "k = 1\n",
    "maxk = 0\n",
    "\n",
    "for elem in a:\n",
    "    if elem == prev:\n",
    "        k += 1 \n",
    "    else:\n",
    "        maxk = max(k, maxk)\n",
    "        k = 1\n",
    "        prev = elem\n",
    "\n",
    "print(maxk)"
   ]
  },
  {
   "cell_type": "markdown",
   "metadata": {},
   "source": [
    "## Задача 9\n",
    "Дана последовательность натуральных чисел, завершающаяся числом 0. Выведите отсортированную последовательность.\n",
    "\n",
    "Числа, следующие за числом 0, считывать не нужно.\n",
    "#### Входные данные\n",
    "Дана последовательность натуральных чисел, завершающаяся числом 0.\n",
    "\n",
    "#### Выходные данные\n",
    "Выведите отсортированную последовательность."
   ]
  },
  {
   "cell_type": "code",
   "execution_count": 17,
   "metadata": {},
   "outputs": [
    {
     "name": "stdout",
     "output_type": "stream",
     "text": [
      "5 2 7 1 4\n",
      "[5, 2, 7, 1, 4]\n",
      "[1, 2, 4, 5, 7]\n"
     ]
    }
   ],
   "source": [
    "a = input().split()\n",
    "list_a = list(map(int,a))\n",
    "print (list_a)\n",
    "\n",
    "for i in range(len(list_a) - 1):\n",
    "    for j in range(len(list_a) - i - 1):\n",
    "        if list_a[j] > list_a[j + 1]:\n",
    "            list_a[j], list_a[j + 1] = list_a[j + 1], list_a[j]\n",
    "print (list_a)"
   ]
  },
  {
   "cell_type": "code",
   "execution_count": 19,
   "metadata": {},
   "outputs": [
    {
     "ename": "SyntaxError",
     "evalue": "invalid syntax (<ipython-input-19-9a352fc11d06>, line 3)",
     "output_type": "error",
     "traceback": [
      "\u001b[1;36m  File \u001b[1;32m\"<ipython-input-19-9a352fc11d06>\"\u001b[1;36m, line \u001b[1;32m3\u001b[0m\n\u001b[1;33m    for i in range(n:-1):\u001b[0m\n\u001b[1;37m                    ^\u001b[0m\n\u001b[1;31mSyntaxError\u001b[0m\u001b[1;31m:\u001b[0m invalid syntax\n"
     ]
    }
   ],
   "source": []
  },
  {
   "cell_type": "code",
   "execution_count": null,
   "metadata": {},
   "outputs": [],
   "source": []
  }
 ],
 "metadata": {
  "kernelspec": {
   "display_name": "Python 3",
   "language": "python",
   "name": "python3"
  },
  "language_info": {
   "codemirror_mode": {
    "name": "ipython",
    "version": 3
   },
   "file_extension": ".py",
   "mimetype": "text/x-python",
   "name": "python",
   "nbconvert_exporter": "python",
   "pygments_lexer": "ipython3",
   "version": "3.8.5"
  }
 },
 "nbformat": 4,
 "nbformat_minor": 4
}
